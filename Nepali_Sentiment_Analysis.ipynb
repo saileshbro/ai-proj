{
  "nbformat": 4,
  "nbformat_minor": 0,
  "metadata": {
    "colab": {
      "provenance": [],
      "gpuType": "T4"
    },
    "kernelspec": {
      "name": "python3",
      "display_name": "Python 3"
    },
    "language_info": {
      "name": "python"
    },
    "accelerator": "GPU"
  },
  "cells": [
    {
      "cell_type": "code",
      "execution_count": 59,
      "metadata": {
        "colab": {
          "base_uri": "https://localhost:8080/"
        },
        "collapsed": true,
        "id": "-3SjC21N-KAB",
        "outputId": "a49a08ba-a58b-4907-eecb-406a4d28a282"
      },
      "outputs": [
        {
          "output_type": "stream",
          "name": "stdout",
          "text": [
            "Requirement already satisfied: transformers in /usr/local/lib/python3.11/dist-packages (4.51.3)\n",
            "Requirement already satisfied: filelock in /usr/local/lib/python3.11/dist-packages (from transformers) (3.18.0)\n",
            "Requirement already satisfied: huggingface-hub<1.0,>=0.30.0 in /usr/local/lib/python3.11/dist-packages (from transformers) (0.30.2)\n",
            "Requirement already satisfied: numpy>=1.17 in /usr/local/lib/python3.11/dist-packages (from transformers) (2.0.2)\n",
            "Requirement already satisfied: packaging>=20.0 in /usr/local/lib/python3.11/dist-packages (from transformers) (24.2)\n",
            "Requirement already satisfied: pyyaml>=5.1 in /usr/local/lib/python3.11/dist-packages (from transformers) (6.0.2)\n",
            "Requirement already satisfied: regex!=2019.12.17 in /usr/local/lib/python3.11/dist-packages (from transformers) (2024.11.6)\n",
            "Requirement already satisfied: requests in /usr/local/lib/python3.11/dist-packages (from transformers) (2.32.3)\n",
            "Requirement already satisfied: tokenizers<0.22,>=0.21 in /usr/local/lib/python3.11/dist-packages (from transformers) (0.21.1)\n",
            "Requirement already satisfied: safetensors>=0.4.3 in /usr/local/lib/python3.11/dist-packages (from transformers) (0.5.3)\n",
            "Requirement already satisfied: tqdm>=4.27 in /usr/local/lib/python3.11/dist-packages (from transformers) (4.67.1)\n",
            "Requirement already satisfied: fsspec>=2023.5.0 in /usr/local/lib/python3.11/dist-packages (from huggingface-hub<1.0,>=0.30.0->transformers) (2025.3.2)\n",
            "Requirement already satisfied: typing-extensions>=3.7.4.3 in /usr/local/lib/python3.11/dist-packages (from huggingface-hub<1.0,>=0.30.0->transformers) (4.13.2)\n",
            "Requirement already satisfied: charset-normalizer<4,>=2 in /usr/local/lib/python3.11/dist-packages (from requests->transformers) (3.4.1)\n",
            "Requirement already satisfied: idna<4,>=2.5 in /usr/local/lib/python3.11/dist-packages (from requests->transformers) (3.10)\n",
            "Requirement already satisfied: urllib3<3,>=1.21.1 in /usr/local/lib/python3.11/dist-packages (from requests->transformers) (2.3.0)\n",
            "Requirement already satisfied: certifi>=2017.4.17 in /usr/local/lib/python3.11/dist-packages (from requests->transformers) (2025.1.31)\n",
            "Requirement already satisfied: huggingface_hub[hf_xet] in /usr/local/lib/python3.11/dist-packages (0.30.2)\n",
            "Requirement already satisfied: filelock in /usr/local/lib/python3.11/dist-packages (from huggingface_hub[hf_xet]) (3.18.0)\n",
            "Requirement already satisfied: fsspec>=2023.5.0 in /usr/local/lib/python3.11/dist-packages (from huggingface_hub[hf_xet]) (2025.3.2)\n",
            "Requirement already satisfied: packaging>=20.9 in /usr/local/lib/python3.11/dist-packages (from huggingface_hub[hf_xet]) (24.2)\n",
            "Requirement already satisfied: pyyaml>=5.1 in /usr/local/lib/python3.11/dist-packages (from huggingface_hub[hf_xet]) (6.0.2)\n",
            "Requirement already satisfied: requests in /usr/local/lib/python3.11/dist-packages (from huggingface_hub[hf_xet]) (2.32.3)\n",
            "Requirement already satisfied: tqdm>=4.42.1 in /usr/local/lib/python3.11/dist-packages (from huggingface_hub[hf_xet]) (4.67.1)\n",
            "Requirement already satisfied: typing-extensions>=3.7.4.3 in /usr/local/lib/python3.11/dist-packages (from huggingface_hub[hf_xet]) (4.13.2)\n",
            "Requirement already satisfied: hf-xet>=0.1.4 in /usr/local/lib/python3.11/dist-packages (from huggingface_hub[hf_xet]) (1.0.3)\n",
            "Requirement already satisfied: charset-normalizer<4,>=2 in /usr/local/lib/python3.11/dist-packages (from requests->huggingface_hub[hf_xet]) (3.4.1)\n",
            "Requirement already satisfied: idna<4,>=2.5 in /usr/local/lib/python3.11/dist-packages (from requests->huggingface_hub[hf_xet]) (3.10)\n",
            "Requirement already satisfied: urllib3<3,>=1.21.1 in /usr/local/lib/python3.11/dist-packages (from requests->huggingface_hub[hf_xet]) (2.3.0)\n",
            "Requirement already satisfied: certifi>=2017.4.17 in /usr/local/lib/python3.11/dist-packages (from requests->huggingface_hub[hf_xet]) (2025.1.31)\n",
            "Requirement already satisfied: tabulate in /usr/local/lib/python3.11/dist-packages (0.9.0)\n"
          ]
        }
      ],
      "source": [
        "!pip install transformers\n",
        "!pip install \"huggingface_hub[hf_xet]\"\n",
        "!pip install tabulate"
      ]
    },
    {
      "cell_type": "code",
      "source": [],
      "metadata": {
        "id": "-9E6957nC3GJ"
      },
      "execution_count": 1,
      "outputs": []
    },
    {
      "cell_type": "code",
      "source": [
        "from transformers import TFAutoModel , AutoTokenizer, XLMRobertaForSequenceClassification, XLMRobertaTokenizer\n",
        "from torch.cuda.amp import autocast, GradScaler\n",
        "\n",
        "import matplotlib.pyplot as plt\n",
        "import os\n",
        "import pandas as pd\n",
        "import torch\n",
        "\n",
        "from sklearn.preprocessing import LabelEncoder\n",
        "import numpy as np\n",
        "from torch.utils.data import TensorDataset\n",
        "\n",
        "from torch.optim import AdamW\n",
        "from torch.utils.data import DataLoader, RandomSampler"
      ],
      "metadata": {
        "id": "wq_a4nw9-eeg"
      },
      "execution_count": 41,
      "outputs": []
    },
    {
      "cell_type": "code",
      "source": [
        "from google.colab import drive\n",
        "drive.mount('/content/drive')"
      ],
      "metadata": {
        "colab": {
          "base_uri": "https://localhost:8080/"
        },
        "id": "TwK5tv5w-q7x",
        "outputId": "48d2616a-29c8-4144-fd90-7b546ece837d"
      },
      "execution_count": 3,
      "outputs": [
        {
          "output_type": "stream",
          "name": "stdout",
          "text": [
            "Mounted at /content/drive\n"
          ]
        }
      ]
    },
    {
      "cell_type": "code",
      "source": [
        "root_dir = \"/content/drive/MyDrive/nepali-sentiment-analysis\""
      ],
      "metadata": {
        "id": "spUxbv8x-yeh"
      },
      "execution_count": 4,
      "outputs": []
    },
    {
      "cell_type": "code",
      "source": [],
      "metadata": {
        "id": "DN6rT8DQCwRO"
      },
      "execution_count": 4,
      "outputs": []
    },
    {
      "cell_type": "code",
      "source": [
        "# Load the train and test datasets\n",
        "df_test = pd.read_csv(f\"{root_dir}/processed/test.csv\")\n",
        "df_train = pd.read_csv(f\"{root_dir}/processed/train.csv\")"
      ],
      "metadata": {
        "id": "JbUvCvjS-wab"
      },
      "execution_count": 5,
      "outputs": []
    },
    {
      "cell_type": "code",
      "source": [
        "df_train.tail()"
      ],
      "metadata": {
        "colab": {
          "base_uri": "https://localhost:8080/",
          "height": 206
        },
        "id": "fn4l5Bdo_UM9",
        "outputId": "021e2634-2160-4d36-c0cd-b9fe640796c8"
      },
      "execution_count": 6,
      "outputs": [
        {
          "output_type": "execute_result",
          "data": {
            "text/plain": [
              "                                                text  label\n",
              "0                    कोभिड बारे हालसम्मको विकास क्रम      0\n",
              "1  नेताहरु भ्रष्टाचार गर्छन जनताको छोराछोरी बिदेश...      0\n",
              "2  गौतमबुद्द अन्तराष्ट्रिए क्रिकेट स्टडिएमको नराम...      1\n",
              "3                    दाइ हजुरको भिउज किन कम आज भोलि`      0\n",
              "4  कोभिड नेपालमा जिडिपीको प्रतिशतसम्म क्षति हुनसक्ने      0"
            ],
            "text/html": [
              "\n",
              "  <div id=\"df-9dfb786b-d6e0-47dd-9402-24ef80b2745c\" class=\"colab-df-container\">\n",
              "    <div>\n",
              "<style scoped>\n",
              "    .dataframe tbody tr th:only-of-type {\n",
              "        vertical-align: middle;\n",
              "    }\n",
              "\n",
              "    .dataframe tbody tr th {\n",
              "        vertical-align: top;\n",
              "    }\n",
              "\n",
              "    .dataframe thead th {\n",
              "        text-align: right;\n",
              "    }\n",
              "</style>\n",
              "<table border=\"1\" class=\"dataframe\">\n",
              "  <thead>\n",
              "    <tr style=\"text-align: right;\">\n",
              "      <th></th>\n",
              "      <th>text</th>\n",
              "      <th>label</th>\n",
              "    </tr>\n",
              "  </thead>\n",
              "  <tbody>\n",
              "    <tr>\n",
              "      <th>0</th>\n",
              "      <td>कोभिड बारे हालसम्मको विकास क्रम</td>\n",
              "      <td>0</td>\n",
              "    </tr>\n",
              "    <tr>\n",
              "      <th>1</th>\n",
              "      <td>नेताहरु भ्रष्टाचार गर्छन जनताको छोराछोरी बिदेश...</td>\n",
              "      <td>0</td>\n",
              "    </tr>\n",
              "    <tr>\n",
              "      <th>2</th>\n",
              "      <td>गौतमबुद्द अन्तराष्ट्रिए क्रिकेट स्टडिएमको नराम...</td>\n",
              "      <td>1</td>\n",
              "    </tr>\n",
              "    <tr>\n",
              "      <th>3</th>\n",
              "      <td>दाइ हजुरको भिउज किन कम आज भोलि`</td>\n",
              "      <td>0</td>\n",
              "    </tr>\n",
              "    <tr>\n",
              "      <th>4</th>\n",
              "      <td>कोभिड नेपालमा जिडिपीको प्रतिशतसम्म क्षति हुनसक्ने</td>\n",
              "      <td>0</td>\n",
              "    </tr>\n",
              "  </tbody>\n",
              "</table>\n",
              "</div>\n",
              "    <div class=\"colab-df-buttons\">\n",
              "\n",
              "  <div class=\"colab-df-container\">\n",
              "    <button class=\"colab-df-convert\" onclick=\"convertToInteractive('df-9dfb786b-d6e0-47dd-9402-24ef80b2745c')\"\n",
              "            title=\"Convert this dataframe to an interactive table.\"\n",
              "            style=\"display:none;\">\n",
              "\n",
              "  <svg xmlns=\"http://www.w3.org/2000/svg\" height=\"24px\" viewBox=\"0 -960 960 960\">\n",
              "    <path d=\"M120-120v-720h720v720H120Zm60-500h600v-160H180v160Zm220 220h160v-160H400v160Zm0 220h160v-160H400v160ZM180-400h160v-160H180v160Zm440 0h160v-160H620v160ZM180-180h160v-160H180v160Zm440 0h160v-160H620v160Z\"/>\n",
              "  </svg>\n",
              "    </button>\n",
              "\n",
              "  <style>\n",
              "    .colab-df-container {\n",
              "      display:flex;\n",
              "      gap: 12px;\n",
              "    }\n",
              "\n",
              "    .colab-df-convert {\n",
              "      background-color: #E8F0FE;\n",
              "      border: none;\n",
              "      border-radius: 50%;\n",
              "      cursor: pointer;\n",
              "      display: none;\n",
              "      fill: #1967D2;\n",
              "      height: 32px;\n",
              "      padding: 0 0 0 0;\n",
              "      width: 32px;\n",
              "    }\n",
              "\n",
              "    .colab-df-convert:hover {\n",
              "      background-color: #E2EBFA;\n",
              "      box-shadow: 0px 1px 2px rgba(60, 64, 67, 0.3), 0px 1px 3px 1px rgba(60, 64, 67, 0.15);\n",
              "      fill: #174EA6;\n",
              "    }\n",
              "\n",
              "    .colab-df-buttons div {\n",
              "      margin-bottom: 4px;\n",
              "    }\n",
              "\n",
              "    [theme=dark] .colab-df-convert {\n",
              "      background-color: #3B4455;\n",
              "      fill: #D2E3FC;\n",
              "    }\n",
              "\n",
              "    [theme=dark] .colab-df-convert:hover {\n",
              "      background-color: #434B5C;\n",
              "      box-shadow: 0px 1px 3px 1px rgba(0, 0, 0, 0.15);\n",
              "      filter: drop-shadow(0px 1px 2px rgba(0, 0, 0, 0.3));\n",
              "      fill: #FFFFFF;\n",
              "    }\n",
              "  </style>\n",
              "\n",
              "    <script>\n",
              "      const buttonEl =\n",
              "        document.querySelector('#df-9dfb786b-d6e0-47dd-9402-24ef80b2745c button.colab-df-convert');\n",
              "      buttonEl.style.display =\n",
              "        google.colab.kernel.accessAllowed ? 'block' : 'none';\n",
              "\n",
              "      async function convertToInteractive(key) {\n",
              "        const element = document.querySelector('#df-9dfb786b-d6e0-47dd-9402-24ef80b2745c');\n",
              "        const dataTable =\n",
              "          await google.colab.kernel.invokeFunction('convertToInteractive',\n",
              "                                                    [key], {});\n",
              "        if (!dataTable) return;\n",
              "\n",
              "        const docLinkHtml = 'Like what you see? Visit the ' +\n",
              "          '<a target=\"_blank\" href=https://colab.research.google.com/notebooks/data_table.ipynb>data table notebook</a>'\n",
              "          + ' to learn more about interactive tables.';\n",
              "        element.innerHTML = '';\n",
              "        dataTable['output_type'] = 'display_data';\n",
              "        await google.colab.output.renderOutput(dataTable, element);\n",
              "        const docLink = document.createElement('div');\n",
              "        docLink.innerHTML = docLinkHtml;\n",
              "        element.appendChild(docLink);\n",
              "      }\n",
              "    </script>\n",
              "  </div>\n",
              "\n",
              "\n",
              "<div id=\"df-e81a204e-9e20-4f74-b22d-15b9dad7ee92\">\n",
              "  <button class=\"colab-df-quickchart\" onclick=\"quickchart('df-e81a204e-9e20-4f74-b22d-15b9dad7ee92')\"\n",
              "            title=\"Suggest charts\"\n",
              "            style=\"display:none;\">\n",
              "\n",
              "<svg xmlns=\"http://www.w3.org/2000/svg\" height=\"24px\"viewBox=\"0 0 24 24\"\n",
              "     width=\"24px\">\n",
              "    <g>\n",
              "        <path d=\"M19 3H5c-1.1 0-2 .9-2 2v14c0 1.1.9 2 2 2h14c1.1 0 2-.9 2-2V5c0-1.1-.9-2-2-2zM9 17H7v-7h2v7zm4 0h-2V7h2v10zm4 0h-2v-4h2v4z\"/>\n",
              "    </g>\n",
              "</svg>\n",
              "  </button>\n",
              "\n",
              "<style>\n",
              "  .colab-df-quickchart {\n",
              "      --bg-color: #E8F0FE;\n",
              "      --fill-color: #1967D2;\n",
              "      --hover-bg-color: #E2EBFA;\n",
              "      --hover-fill-color: #174EA6;\n",
              "      --disabled-fill-color: #AAA;\n",
              "      --disabled-bg-color: #DDD;\n",
              "  }\n",
              "\n",
              "  [theme=dark] .colab-df-quickchart {\n",
              "      --bg-color: #3B4455;\n",
              "      --fill-color: #D2E3FC;\n",
              "      --hover-bg-color: #434B5C;\n",
              "      --hover-fill-color: #FFFFFF;\n",
              "      --disabled-bg-color: #3B4455;\n",
              "      --disabled-fill-color: #666;\n",
              "  }\n",
              "\n",
              "  .colab-df-quickchart {\n",
              "    background-color: var(--bg-color);\n",
              "    border: none;\n",
              "    border-radius: 50%;\n",
              "    cursor: pointer;\n",
              "    display: none;\n",
              "    fill: var(--fill-color);\n",
              "    height: 32px;\n",
              "    padding: 0;\n",
              "    width: 32px;\n",
              "  }\n",
              "\n",
              "  .colab-df-quickchart:hover {\n",
              "    background-color: var(--hover-bg-color);\n",
              "    box-shadow: 0 1px 2px rgba(60, 64, 67, 0.3), 0 1px 3px 1px rgba(60, 64, 67, 0.15);\n",
              "    fill: var(--button-hover-fill-color);\n",
              "  }\n",
              "\n",
              "  .colab-df-quickchart-complete:disabled,\n",
              "  .colab-df-quickchart-complete:disabled:hover {\n",
              "    background-color: var(--disabled-bg-color);\n",
              "    fill: var(--disabled-fill-color);\n",
              "    box-shadow: none;\n",
              "  }\n",
              "\n",
              "  .colab-df-spinner {\n",
              "    border: 2px solid var(--fill-color);\n",
              "    border-color: transparent;\n",
              "    border-bottom-color: var(--fill-color);\n",
              "    animation:\n",
              "      spin 1s steps(1) infinite;\n",
              "  }\n",
              "\n",
              "  @keyframes spin {\n",
              "    0% {\n",
              "      border-color: transparent;\n",
              "      border-bottom-color: var(--fill-color);\n",
              "      border-left-color: var(--fill-color);\n",
              "    }\n",
              "    20% {\n",
              "      border-color: transparent;\n",
              "      border-left-color: var(--fill-color);\n",
              "      border-top-color: var(--fill-color);\n",
              "    }\n",
              "    30% {\n",
              "      border-color: transparent;\n",
              "      border-left-color: var(--fill-color);\n",
              "      border-top-color: var(--fill-color);\n",
              "      border-right-color: var(--fill-color);\n",
              "    }\n",
              "    40% {\n",
              "      border-color: transparent;\n",
              "      border-right-color: var(--fill-color);\n",
              "      border-top-color: var(--fill-color);\n",
              "    }\n",
              "    60% {\n",
              "      border-color: transparent;\n",
              "      border-right-color: var(--fill-color);\n",
              "    }\n",
              "    80% {\n",
              "      border-color: transparent;\n",
              "      border-right-color: var(--fill-color);\n",
              "      border-bottom-color: var(--fill-color);\n",
              "    }\n",
              "    90% {\n",
              "      border-color: transparent;\n",
              "      border-bottom-color: var(--fill-color);\n",
              "    }\n",
              "  }\n",
              "</style>\n",
              "\n",
              "  <script>\n",
              "    async function quickchart(key) {\n",
              "      const quickchartButtonEl =\n",
              "        document.querySelector('#' + key + ' button');\n",
              "      quickchartButtonEl.disabled = true;  // To prevent multiple clicks.\n",
              "      quickchartButtonEl.classList.add('colab-df-spinner');\n",
              "      try {\n",
              "        const charts = await google.colab.kernel.invokeFunction(\n",
              "            'suggestCharts', [key], {});\n",
              "      } catch (error) {\n",
              "        console.error('Error during call to suggestCharts:', error);\n",
              "      }\n",
              "      quickchartButtonEl.classList.remove('colab-df-spinner');\n",
              "      quickchartButtonEl.classList.add('colab-df-quickchart-complete');\n",
              "    }\n",
              "    (() => {\n",
              "      let quickchartButtonEl =\n",
              "        document.querySelector('#df-e81a204e-9e20-4f74-b22d-15b9dad7ee92 button');\n",
              "      quickchartButtonEl.style.display =\n",
              "        google.colab.kernel.accessAllowed ? 'block' : 'none';\n",
              "    })();\n",
              "  </script>\n",
              "</div>\n",
              "\n",
              "    </div>\n",
              "  </div>\n"
            ],
            "application/vnd.google.colaboratory.intrinsic+json": {
              "type": "dataframe",
              "variable_name": "df_train",
              "summary": "{\n  \"name\": \"df_train\",\n  \"rows\": 33602,\n  \"fields\": [\n    {\n      \"column\": \"text\",\n      \"properties\": {\n        \"dtype\": \"string\",\n        \"num_unique_values\": 33602,\n        \"samples\": [\n          \"\\u0915\\u094b\\u0930\\u094b\\u0928\\u093e \\u092d\\u093e\\u0907\\u0930\\u0938\\u0915\\u094b \\u0938\\u0902\\u0915\\u094d\\u0930\\u092e\\u0923\\u092c\\u093e\\u091f \\u0915\\u094b\\u0936\\u0940 \\u0905\\u0938\\u094d\\u092a\\u0924\\u093e\\u0932 \\u0915\\u094b\\u092d\\u093f\\u0921 \\u0909\\u092a\\u091a\\u093e\\u0930 \\u0915\\u0947\\u0928\\u094d\\u0926\\u094d\\u0930 \\u0935\\u093f\\u0930\\u093e\\u091f\\u0928\\u0917\\u0930\\u092e\\u093e \\u0926\\u0941\\u0908 \\u091c\\u0928\\u093e\\u0915\\u094b \\u092e\\u0943\\u0924\\u094d\\u092f\\u0941 \\u092d\\u090f\\u0915\\u094b \\u091b\",\n          \"\\u0935\\u093f\\u092a\\u0926\\u092e\\u093e \\u0938\\u093e\\u091d\\u093e \\u0938\\u0939\\u092f\\u094b\\u0917 \\u0915\\u094b\\u092d\\u093f\\u0921 \\u0915\\u094b\\u0930\\u094b\\u0928\\u093e \\u092d\\u093e\\u0907\\u0930\\u0938\\u092c\\u093e\\u091f \\u0935\\u093f\\u0936\\u094d\\u0935 \\u0928\\u0948 \\u092a\\u094d\\u0930\\u092d\\u093e\\u0935\\u093f\\u0924 \\u092d\\u090f\\u0915\\u094b \\u092c\\u0947\\u0932\\u093e\\u092e\\u093e \\u0938\\u093e\\u091d\\u093e \\u092a\\u093e\\u0930\\u094d\\u091f\\u0940 \\u0915\\u093e\\u0938\\u094d\\u0915\\u0940\\u0932\\u0947 \\u0938\\u0930\\u094d\\u0935\\u0938\\u093e\\u0927\\u093e\\u0930\\u0923\\u0932\\u093e\\u0908 \\u092e\\u093e\\u0938\\u094d\\u0915 \\u0938\\u0947\\u0928\\u093f\\u091f\\u093e\\u0907\\u091c\\u0930 \\u0930 \\u0938\\u093e\\u092c\\u0941\\u0928 \\u0928\\u093f \\u0936\\u0941\\u0932\\u094d\\u0915 \\u0935\\u093f\\u0924\\u0930\\u0923 \\u0917\\u0930\\u094d\\u0928\\u0947 \\u0915\\u093e\\u0930\\u094d\\u092f \\u0938\\u0941\\u0930\\u0941 \\u0917\\u0930\\u0947\\u0915\\u094b \\u091b \\u0906\\u091c \\u092e\\u0902\\u0917\\u0932\\u092c\\u093e\\u0930 \\u092a\\u094d\\u0930\\u0915\\u093e\\u0936\\u093f\\u0924 \\u092a\\u094b\\u0916\\u0930\\u093e \\u0939\\u091f\\u0932\\u093e\\u0907\\u0928 \\u0926\\u0948\\u0928\\u093f\\u0915\",\n          \"\\u0938\\u094d\\u0935\\u093e\\u0938\\u094d\\u0925\\u094d\\u092f \\u0924\\u0925\\u093e \\u091c\\u0928\\u0938\\u0919\\u094d\\u0916\\u094d\\u092f\\u093e\\u092e\\u0928\\u094d\\u0924\\u094d\\u0930\\u0940 \\u092d\\u093e\\u0928\\u0941\\u092d\\u0915\\u094d\\u0924 \\u0922\\u0915\\u093e\\u0932\\u0932\\u0947 \\u0915\\u094b\\u092d\\u093f\\u0921 \\u0916\\u094b\\u092a \\u092a\\u0930\\u0940\\u0915\\u094d\\u0937\\u0923 \\u0938\\u092b\\u0932 \\u0939\\u0941\\u0928\\u0938\\u093e\\u0925 \\u0928\\u0947\\u092a\\u093e\\u0932\\u092e\\u093e \\u0906\\u092f\\u093e\\u0924\\u0915\\u093e \\u0932\\u093e\\u0917\\u093f \\u0915\\u093e\\u0928\\u0941\\u0928\\u0940 \\u0938\\u092e\\u0938\\u094d\\u092f\\u093e \\u0928\\u0939\\u094b\\u0938\\u094d \\u092d\\u0928\\u0947\\u0930 \\u0905\\u0927\\u094d\\u092f\\u093e\\u0926\\u0947\\u0936 \\u0924\\u092f\\u093e\\u0930 \\u0917\\u0930\\u093f\\u090f\\u0915\\u094b \\u091c\\u093e\\u0928\\u0915\\u093e\\u0930\\u0940 \\u0926\\u093f\\u090f\\u0915\\u093e \\u091b\\u0928\\u094d\"\n        ],\n        \"semantic_type\": \"\",\n        \"description\": \"\"\n      }\n    },\n    {\n      \"column\": \"label\",\n      \"properties\": {\n        \"dtype\": \"number\",\n        \"std\": 0,\n        \"min\": 0,\n        \"max\": 2,\n        \"num_unique_values\": 3,\n        \"samples\": [\n          0,\n          1,\n          2\n        ],\n        \"semantic_type\": \"\",\n        \"description\": \"\"\n      }\n    }\n  ]\n}"
            }
          },
          "metadata": {},
          "execution_count": 6
        }
      ]
    },
    {
      "cell_type": "code",
      "source": [
        "import matplotlib.pyplot as plt\n",
        "import numpy as np\n",
        "import seaborn as sns\n",
        "\n",
        "# Set the style for better aesthetics\n",
        "sns.set_style(\"whitegrid\")\n",
        "plt.rcParams['font.family'] = 'sans-serif'\n",
        "plt.rcParams['font.size'] = 10\n",
        "\n",
        "# Get label distributions\n",
        "train_labels = df_train['label'].value_counts().sort_index()\n",
        "test_labels = df_test['label'].value_counts().sort_index()\n",
        "\n",
        "# Calculate percentages for annotations\n",
        "train_total = len(df_train)\n",
        "test_total = len(df_test)\n",
        "train_percentages = (train_labels / train_total * 100).round(1)\n",
        "test_percentages = (test_labels / test_total * 100).round(1)\n",
        "\n",
        "# Create figure with subplots\n",
        "fig, axs = plt.subplots(1, 2, figsize=(14, 7))\n",
        "\n",
        "# Color palette\n",
        "colors = sns.color_palette(\"viridis\", len(train_labels))\n",
        "\n",
        "# Train dataset subplot\n",
        "bars_train = axs[0].bar(train_labels.index.astype(str), train_labels.values, color=colors)\n",
        "axs[0].set_xlabel('Labels', fontweight='bold')\n",
        "axs[0].set_ylabel('Count', fontweight='bold')\n",
        "axs[0].set_title('Train Dataset - Label Distribution', fontsize=14, fontweight='bold')\n",
        "axs[0].tick_params(axis='x', rotation=0)\n",
        "axs[0].set_ylim(0, max(train_labels.values) * 1.15)  # Set y-limit with padding\n",
        "\n",
        "# Add counts and percentages as annotations\n",
        "for bar, count, percentage in zip(bars_train, train_labels.values, train_percentages):\n",
        "    height = bar.get_height()\n",
        "    axs[0].text(bar.get_x() + bar.get_width()/2., height + 0.1*max(train_labels.values),\n",
        "                f'{count}\\n({percentage}%)', ha='center', va='bottom', fontsize=9)\n",
        "\n",
        "# Test dataset subplot\n",
        "bars_test = axs[1].bar(test_labels.index.astype(str), test_labels.values, color=colors)\n",
        "axs[1].set_xlabel('Labels', fontweight='bold')\n",
        "axs[1].set_ylabel('Count', fontweight='bold')\n",
        "axs[1].set_title('Test Dataset - Label Distribution', fontsize=14, fontweight='bold')\n",
        "axs[1].tick_params(axis='x', rotation=0)\n",
        "axs[1].set_ylim(0, max(test_labels.values) * 1.15)  # Set y-limit with padding\n",
        "\n",
        "# Add counts and percentages as annotations\n",
        "for bar, count, percentage in zip(bars_test, test_labels.values, test_percentages):\n",
        "    height = bar.get_height()\n",
        "    axs[1].text(bar.get_x() + bar.get_width()/2., height + 0.1*max(test_labels.values),\n",
        "                f'{count}\\n({percentage}%)', ha='center', va='bottom', fontsize=9)\n",
        "\n",
        "# Add a figure title\n",
        "fig.suptitle('Distribution of Labels in Train vs Test Sets', fontsize=16, fontweight='bold', y=0.98)\n",
        "\n",
        "# Add some information about dataset sizes\n",
        "plt.figtext(0.5, 0.01, f'Train set size: {train_total} samples | Test set size: {test_total} samples',\n",
        "           ha='center', fontsize=11, fontstyle='italic')\n",
        "\n",
        "# Ensure the bars are evenly distributed\n",
        "for ax in axs:\n",
        "    ax.set_xticks(np.arange(len(train_labels.index)))\n",
        "    ax.set_xticklabels(train_labels.index)\n",
        "\n",
        "# Adjust spacing between subplots\n",
        "plt.subplots_adjust(wspace=0.2, bottom=0.15, top=0.85)\n",
        "\n",
        "# Add a legend if needed (if labels are numeric and not descriptive)\n",
        "if train_labels.index.dtype != 'object':\n",
        "    plt.figtext(0.92, 0.5, 'Labels represent different\\nclasses in the dataset',\n",
        "                fontsize=9, ha='center', bbox=dict(facecolor='white', alpha=0.8, boxstyle='round,pad=0.5'))\n",
        "\n",
        "# Display the plot\n",
        "plt.show()"
      ],
      "metadata": {
        "colab": {
          "base_uri": "https://localhost:8080/",
          "height": 720
        },
        "id": "AKOPZ0Pn_Zco",
        "outputId": "ece6e272-3ec3-48b6-c5c4-13cb2c72b67f"
      },
      "execution_count": 7,
      "outputs": [
        {
          "output_type": "display_data",
          "data": {
            "text/plain": [
              "<Figure size 1400x700 with 2 Axes>"
            ],
            "image/png": "[encoded data removed]"
          },
          "metadata": {}
        }
      ]
    },
    {
      "cell_type": "code",
      "source": [
        "# Checking for missing values in the train dataset\n",
        "train_na = df_train.isna().sum()\n",
        "print('Train Dataset - Missing Values:')\n",
        "print(train_na)\n",
        "\n",
        "test_na = df_test.isna().sum()\n",
        "print('\\nTest Dataset - Missing Values:')\n",
        "print(test_na)"
      ],
      "metadata": {
        "colab": {
          "base_uri": "https://localhost:8080/"
        },
        "id": "5oPLI9klAdKN",
        "outputId": "8cf6e55f-7ea9-496d-9426-20a4bd2b0810"
      },
      "execution_count": 8,
      "outputs": [
        {
          "output_type": "stream",
          "name": "stdout",
          "text": [
            "Train Dataset - Missing Values:\n",
            "text     0\n",
            "label    0\n",
            "dtype: int64\n",
            "\n",
            "Test Dataset - Missing Values:\n",
            "text     0\n",
            "label    0\n",
            "dtype: int64\n"
          ]
        }
      ]
    },
    {
      "cell_type": "code",
      "source": [
        "df_train = df_train.dropna()\n",
        "df_test = df_test.dropna()\n",
        "\n",
        "# reset indexing\n",
        "df_train = df_train.reset_index(drop=True)"
      ],
      "metadata": {
        "id": "O-TQAPsAAjK8"
      },
      "execution_count": 9,
      "outputs": []
    },
    {
      "cell_type": "code",
      "source": [
        "print(\"Train Dataset Size:\",df_train.shape )\n",
        "print(\"Test Dataset Size:\", df_test.shape)"
      ],
      "metadata": {
        "colab": {
          "base_uri": "https://localhost:8080/"
        },
        "id": "tuRcv4P5Alvb",
        "outputId": "60dec37f-ee9f-4266-d47c-0ede6e80b013"
      },
      "execution_count": 10,
      "outputs": [
        {
          "output_type": "stream",
          "name": "stdout",
          "text": [
            "Train Dataset Size: (33602, 2)\n",
            "Test Dataset Size: (8401, 2)\n"
          ]
        }
      ]
    },
    {
      "cell_type": "code",
      "source": [
        "# remove unwanted datas\n",
        "print(df_train['label'].unique())\n",
        "print(df_test['label'].unique())\n",
        "\n",
        "valid_labels = [0, 1, 2]\n",
        "\n",
        "\n",
        "# Filter train dataset\n",
        "df_train = df_train.loc[df_train['label'].isin(valid_labels)]\n",
        "df_train.loc[:, 'label'] = df_train['label'].astype(int)\n",
        "\n",
        "# Filter test dataset\n",
        "df_test = df_test.loc[df_test['label'].isin(valid_labels)]\n",
        "df_test.loc[:, 'label'] = df_test['label'].astype(int)\n"
      ],
      "metadata": {
        "colab": {
          "base_uri": "https://localhost:8080/"
        },
        "id": "LyM92PuDArJr",
        "outputId": "bad977ea-4919-402f-fa83-8aa0c7e07e7e"
      },
      "execution_count": 11,
      "outputs": [
        {
          "output_type": "stream",
          "name": "stdout",
          "text": [
            "[0 1 2]\n",
            "[2 1 0]\n"
          ]
        }
      ]
    },
    {
      "cell_type": "code",
      "source": [
        "print(df_train['label'])\n",
        "print(df_test['label'])\n",
        "df_train.head()"
      ],
      "metadata": {
        "colab": {
          "base_uri": "https://localhost:8080/",
          "height": 623
        },
        "id": "Dcrmilh3AwWk",
        "outputId": "72c43a2d-dac0-4ee1-e8f8-3b0a65f72b51"
      },
      "execution_count": 12,
      "outputs": [
        {
          "output_type": "stream",
          "name": "stdout",
          "text": [
            "0        0\n",
            "1        0\n",
            "2        1\n",
            "3        0\n",
            "4        0\n",
            "        ..\n",
            "33597    0\n",
            "33598    0\n",
            "33599    0\n",
            "33600    1\n",
            "33601    0\n",
            "Name: label, Length: 33602, dtype: int64\n",
            "0       2\n",
            "1       2\n",
            "2       1\n",
            "3       2\n",
            "4       1\n",
            "       ..\n",
            "8396    0\n",
            "8397    2\n",
            "8398    2\n",
            "8399    0\n",
            "8400    1\n",
            "Name: label, Length: 8401, dtype: int64\n"
          ]
        },
        {
          "output_type": "execute_result",
          "data": {
            "text/plain": [
              "                                                text  label\n",
              "0                    कोभिड बारे हालसम्मको विकास क्रम      0\n",
              "1  नेताहरु भ्रष्टाचार गर्छन जनताको छोराछोरी बिदेश...      0\n",
              "2  गौतमबुद्द अन्तराष्ट्रिए क्रिकेट स्टडिएमको नराम...      1\n",
              "3                    दाइ हजुरको भिउज किन कम आज भोलि`      0\n",
              "4  कोभिड नेपालमा जिडिपीको प्रतिशतसम्म क्षति हुनसक्ने      0"
            ],
            "text/html": [
              "\n",
              "  <div id=\"df-d0a10e87-6230-4058-9158-8e08634b6a4f\" class=\"colab-df-container\">\n",
              "    <div>\n",
              "<style scoped>\n",
              "    .dataframe tbody tr th:only-of-type {\n",
              "        vertical-align: middle;\n",
              "    }\n",
              "\n",
              "    .dataframe tbody tr th {\n",
              "        vertical-align: top;\n",
              "    }\n",
              "\n",
              "    .dataframe thead th {\n",
              "        text-align: right;\n",
              "    }\n",
              "</style>\n",
              "<table border=\"1\" class=\"dataframe\">\n",
              "  <thead>\n",
              "    <tr style=\"text-align: right;\">\n",
              "      <th></th>\n",
              "      <th>text</th>\n",
              "      <th>label</th>\n",
              "    </tr>\n",
              "  </thead>\n",
              "  <tbody>\n",
              "    <tr>\n",
              "      <th>0</th>\n",
              "      <td>कोभिड बारे हालसम्मको विकास क्रम</td>\n",
              "      <td>0</td>\n",
              "    </tr>\n",
              "    <tr>\n",
              "      <th>1</th>\n",
              "      <td>नेताहरु भ्रष्टाचार गर्छन जनताको छोराछोरी बिदेश...</td>\n",
              "      <td>0</td>\n",
              "    </tr>\n",
              "    <tr>\n",
              "      <th>2</th>\n",
              "      <td>गौतमबुद्द अन्तराष्ट्रिए क्रिकेट स्टडिएमको नराम...</td>\n",
              "      <td>1</td>\n",
              "    </tr>\n",
              "    <tr>\n",
              "      <th>3</th>\n",
              "      <td>दाइ हजुरको भिउज किन कम आज भोलि`</td>\n",
              "      <td>0</td>\n",
              "    </tr>\n",
              "    <tr>\n",
              "      <th>4</th>\n",
              "      <td>कोभिड नेपालमा जिडिपीको प्रतिशतसम्म क्षति हुनसक्ने</td>\n",
              "      <td>0</td>\n",
              "    </tr>\n",
              "  </tbody>\n",
              "</table>\n",
              "</div>\n",
              "    <div class=\"colab-df-buttons\">\n",
              "\n",
              "  <div class=\"colab-df-container\">\n",
              "    <button class=\"colab-df-convert\" onclick=\"convertToInteractive('df-d0a10e87-6230-4058-9158-8e08634b6a4f')\"\n",
              "            title=\"Convert this dataframe to an interactive table.\"\n",
              "            style=\"display:none;\">\n",
              "\n",
              "  <svg xmlns=\"http://www.w3.org/2000/svg\" height=\"24px\" viewBox=\"0 -960 960 960\">\n",
              "    <path d=\"M120-120v-720h720v720H120Zm60-500h600v-160H180v160Zm220 220h160v-160H400v160Zm0 220h160v-160H400v160ZM180-400h160v-160H180v160Zm440 0h160v-160H620v160ZM180-180h160v-160H180v160Zm440 0h160v-160H620v160Z\"/>\n",
              "  </svg>\n",
              "    </button>\n",
              "\n",
              "  <style>\n",
              "    .colab-df-container {\n",
              "      display:flex;\n",
              "      gap: 12px;\n",
              "    }\n",
              "\n",
              "    .colab-df-convert {\n",
              "      background-color: #E8F0FE;\n",
              "      border: none;\n",
              "      border-radius: 50%;\n",
              "      cursor: pointer;\n",
              "      display: none;\n",
              "      fill: #1967D2;\n",
              "      height: 32px;\n",
              "      padding: 0 0 0 0;\n",
              "      width: 32px;\n",
              "    }\n",
              "\n",
              "    .colab-df-convert:hover {\n",
              "      background-color: #E2EBFA;\n",
              "      box-shadow: 0px 1px 2px rgba(60, 64, 67, 0.3), 0px 1px 3px 1px rgba(60, 64, 67, 0.15);\n",
              "      fill: #174EA6;\n",
              "    }\n",
              "\n",
              "    .colab-df-buttons div {\n",
              "      margin-bottom: 4px;\n",
              "    }\n",
              "\n",
              "    [theme=dark] .colab-df-convert {\n",
              "      background-color: #3B4455;\n",
              "      fill: #D2E3FC;\n",
              "    }\n",
              "\n",
              "    [theme=dark] .colab-df-convert:hover {\n",
              "      background-color: #434B5C;\n",
              "      box-shadow: 0px 1px 3px 1px rgba(0, 0, 0, 0.15);\n",
              "      filter: drop-shadow(0px 1px 2px rgba(0, 0, 0, 0.3));\n",
              "      fill: #FFFFFF;\n",
              "    }\n",
              "  </style>\n",
              "\n",
              "    <script>\n",
              "      const buttonEl =\n",
              "        document.querySelector('#df-d0a10e87-6230-4058-9158-8e08634b6a4f button.colab-df-convert');\n",
              "      buttonEl.style.display =\n",
              "        google.colab.kernel.accessAllowed ? 'block' : 'none';\n",
              "\n",
              "      async function convertToInteractive(key) {\n",
              "        const element = document.querySelector('#df-d0a10e87-6230-4058-9158-8e08634b6a4f');\n",
              "        const dataTable =\n",
              "          await google.colab.kernel.invokeFunction('convertToInteractive',\n",
              "                                                    [key], {});\n",
              "        if (!dataTable) return;\n",
              "\n",
              "        const docLinkHtml = 'Like what you see? Visit the ' +\n",
              "          '<a target=\"_blank\" href=https://colab.research.google.com/notebooks/data_table.ipynb>data table notebook</a>'\n",
              "          + ' to learn more about interactive tables.';\n",
              "        element.innerHTML = '';\n",
              "        dataTable['output_type'] = 'display_data';\n",
              "        await google.colab.output.renderOutput(dataTable, element);\n",
              "        const docLink = document.createElement('div');\n",
              "        docLink.innerHTML = docLinkHtml;\n",
              "        element.appendChild(docLink);\n",
              "      }\n",
              "    </script>\n",
              "  </div>\n",
              "\n",
              "\n",
              "<div id=\"df-4c56d0f5-56b1-401f-b297-a362e9424bbf\">\n",
              "  <button class=\"colab-df-quickchart\" onclick=\"quickchart('df-4c56d0f5-56b1-401f-b297-a362e9424bbf')\"\n",
              "            title=\"Suggest charts\"\n",
              "            style=\"display:none;\">\n",
              "\n",
              "<svg xmlns=\"http://www.w3.org/2000/svg\" height=\"24px\"viewBox=\"0 0 24 24\"\n",
              "     width=\"24px\">\n",
              "    <g>\n",
              "        <path d=\"M19 3H5c-1.1 0-2 .9-2 2v14c0 1.1.9 2 2 2h14c1.1 0 2-.9 2-2V5c0-1.1-.9-2-2-2zM9 17H7v-7h2v7zm4 0h-2V7h2v10zm4 0h-2v-4h2v4z\"/>\n",
              "    </g>\n",
              "</svg>\n",
              "  </button>\n",
              "\n",
              "<style>\n",
              "  .colab-df-quickchart {\n",
              "      --bg-color: #E8F0FE;\n",
              "      --fill-color: #1967D2;\n",
              "      --hover-bg-color: #E2EBFA;\n",
              "      --hover-fill-color: #174EA6;\n",
              "      --disabled-fill-color: #AAA;\n",
              "      --disabled-bg-color: #DDD;\n",
              "  }\n",
              "\n",
              "  [theme=dark] .colab-df-quickchart {\n",
              "      --bg-color: #3B4455;\n",
              "      --fill-color: #D2E3FC;\n",
              "      --hover-bg-color: #434B5C;\n",
              "      --hover-fill-color: #FFFFFF;\n",
              "      --disabled-bg-color: #3B4455;\n",
              "      --disabled-fill-color: #666;\n",
              "  }\n",
              "\n",
              "  .colab-df-quickchart {\n",
              "    background-color: var(--bg-color);\n",
              "    border: none;\n",
              "    border-radius: 50%;\n",
              "    cursor: pointer;\n",
              "    display: none;\n",
              "    fill: var(--fill-color);\n",
              "    height: 32px;\n",
              "    padding: 0;\n",
              "    width: 32px;\n",
              "  }\n",
              "\n",
              "  .colab-df-quickchart:hover {\n",
              "    background-color: var(--hover-bg-color);\n",
              "    box-shadow: 0 1px 2px rgba(60, 64, 67, 0.3), 0 1px 3px 1px rgba(60, 64, 67, 0.15);\n",
              "    fill: var(--button-hover-fill-color);\n",
              "  }\n",
              "\n",
              "  .colab-df-quickchart-complete:disabled,\n",
              "  .colab-df-quickchart-complete:disabled:hover {\n",
              "    background-color: var(--disabled-bg-color);\n",
              "    fill: var(--disabled-fill-color);\n",
              "    box-shadow: none;\n",
              "  }\n",
              "\n",
              "  .colab-df-spinner {\n",
              "    border: 2px solid var(--fill-color);\n",
              "    border-color: transparent;\n",
              "    border-bottom-color: var(--fill-color);\n",
              "    animation:\n",
              "      spin 1s steps(1) infinite;\n",
              "  }\n",
              "\n",
              "  @keyframes spin {\n",
              "    0% {\n",
              "      border-color: transparent;\n",
              "      border-bottom-color: var(--fill-color);\n",
              "      border-left-color: var(--fill-color);\n",
              "    }\n",
              "    20% {\n",
              "      border-color: transparent;\n",
              "      border-left-color: var(--fill-color);\n",
              "      border-top-color: var(--fill-color);\n",
              "    }\n",
              "    30% {\n",
              "      border-color: transparent;\n",
              "      border-left-color: var(--fill-color);\n",
              "      border-top-color: var(--fill-color);\n",
              "      border-right-color: var(--fill-color);\n",
              "    }\n",
              "    40% {\n",
              "      border-color: transparent;\n",
              "      border-right-color: var(--fill-color);\n",
              "      border-top-color: var(--fill-color);\n",
              "    }\n",
              "    60% {\n",
              "      border-color: transparent;\n",
              "      border-right-color: var(--fill-color);\n",
              "    }\n",
              "    80% {\n",
              "      border-color: transparent;\n",
              "      border-right-color: var(--fill-color);\n",
              "      border-bottom-color: var(--fill-color);\n",
              "    }\n",
              "    90% {\n",
              "      border-color: transparent;\n",
              "      border-bottom-color: var(--fill-color);\n",
              "    }\n",
              "  }\n",
              "</style>\n",
              "\n",
              "  <script>\n",
              "    async function quickchart(key) {\n",
              "      const quickchartButtonEl =\n",
              "        document.querySelector('#' + key + ' button');\n",
              "      quickchartButtonEl.disabled = true;  // To prevent multiple clicks.\n",
              "      quickchartButtonEl.classList.add('colab-df-spinner');\n",
              "      try {\n",
              "        const charts = await google.colab.kernel.invokeFunction(\n",
              "            'suggestCharts', [key], {});\n",
              "      } catch (error) {\n",
              "        console.error('Error during call to suggestCharts:', error);\n",
              "      }\n",
              "      quickchartButtonEl.classList.remove('colab-df-spinner');\n",
              "      quickchartButtonEl.classList.add('colab-df-quickchart-complete');\n",
              "    }\n",
              "    (() => {\n",
              "      let quickchartButtonEl =\n",
              "        document.querySelector('#df-4c56d0f5-56b1-401f-b297-a362e9424bbf button');\n",
              "      quickchartButtonEl.style.display =\n",
              "        google.colab.kernel.accessAllowed ? 'block' : 'none';\n",
              "    })();\n",
              "  </script>\n",
              "</div>\n",
              "\n",
              "    </div>\n",
              "  </div>\n"
            ],
            "application/vnd.google.colaboratory.intrinsic+json": {
              "type": "dataframe",
              "variable_name": "df_train",
              "summary": "{\n  \"name\": \"df_train\",\n  \"rows\": 33602,\n  \"fields\": [\n    {\n      \"column\": \"text\",\n      \"properties\": {\n        \"dtype\": \"string\",\n        \"num_unique_values\": 33602,\n        \"samples\": [\n          \"\\u0915\\u094b\\u0930\\u094b\\u0928\\u093e \\u092d\\u093e\\u0907\\u0930\\u0938\\u0915\\u094b \\u0938\\u0902\\u0915\\u094d\\u0930\\u092e\\u0923\\u092c\\u093e\\u091f \\u0915\\u094b\\u0936\\u0940 \\u0905\\u0938\\u094d\\u092a\\u0924\\u093e\\u0932 \\u0915\\u094b\\u092d\\u093f\\u0921 \\u0909\\u092a\\u091a\\u093e\\u0930 \\u0915\\u0947\\u0928\\u094d\\u0926\\u094d\\u0930 \\u0935\\u093f\\u0930\\u093e\\u091f\\u0928\\u0917\\u0930\\u092e\\u093e \\u0926\\u0941\\u0908 \\u091c\\u0928\\u093e\\u0915\\u094b \\u092e\\u0943\\u0924\\u094d\\u092f\\u0941 \\u092d\\u090f\\u0915\\u094b \\u091b\",\n          \"\\u0935\\u093f\\u092a\\u0926\\u092e\\u093e \\u0938\\u093e\\u091d\\u093e \\u0938\\u0939\\u092f\\u094b\\u0917 \\u0915\\u094b\\u092d\\u093f\\u0921 \\u0915\\u094b\\u0930\\u094b\\u0928\\u093e \\u092d\\u093e\\u0907\\u0930\\u0938\\u092c\\u093e\\u091f \\u0935\\u093f\\u0936\\u094d\\u0935 \\u0928\\u0948 \\u092a\\u094d\\u0930\\u092d\\u093e\\u0935\\u093f\\u0924 \\u092d\\u090f\\u0915\\u094b \\u092c\\u0947\\u0932\\u093e\\u092e\\u093e \\u0938\\u093e\\u091d\\u093e \\u092a\\u093e\\u0930\\u094d\\u091f\\u0940 \\u0915\\u093e\\u0938\\u094d\\u0915\\u0940\\u0932\\u0947 \\u0938\\u0930\\u094d\\u0935\\u0938\\u093e\\u0927\\u093e\\u0930\\u0923\\u0932\\u093e\\u0908 \\u092e\\u093e\\u0938\\u094d\\u0915 \\u0938\\u0947\\u0928\\u093f\\u091f\\u093e\\u0907\\u091c\\u0930 \\u0930 \\u0938\\u093e\\u092c\\u0941\\u0928 \\u0928\\u093f \\u0936\\u0941\\u0932\\u094d\\u0915 \\u0935\\u093f\\u0924\\u0930\\u0923 \\u0917\\u0930\\u094d\\u0928\\u0947 \\u0915\\u093e\\u0930\\u094d\\u092f \\u0938\\u0941\\u0930\\u0941 \\u0917\\u0930\\u0947\\u0915\\u094b \\u091b \\u0906\\u091c \\u092e\\u0902\\u0917\\u0932\\u092c\\u093e\\u0930 \\u092a\\u094d\\u0930\\u0915\\u093e\\u0936\\u093f\\u0924 \\u092a\\u094b\\u0916\\u0930\\u093e \\u0939\\u091f\\u0932\\u093e\\u0907\\u0928 \\u0926\\u0948\\u0928\\u093f\\u0915\",\n          \"\\u0938\\u094d\\u0935\\u093e\\u0938\\u094d\\u0925\\u094d\\u092f \\u0924\\u0925\\u093e \\u091c\\u0928\\u0938\\u0919\\u094d\\u0916\\u094d\\u092f\\u093e\\u092e\\u0928\\u094d\\u0924\\u094d\\u0930\\u0940 \\u092d\\u093e\\u0928\\u0941\\u092d\\u0915\\u094d\\u0924 \\u0922\\u0915\\u093e\\u0932\\u0932\\u0947 \\u0915\\u094b\\u092d\\u093f\\u0921 \\u0916\\u094b\\u092a \\u092a\\u0930\\u0940\\u0915\\u094d\\u0937\\u0923 \\u0938\\u092b\\u0932 \\u0939\\u0941\\u0928\\u0938\\u093e\\u0925 \\u0928\\u0947\\u092a\\u093e\\u0932\\u092e\\u093e \\u0906\\u092f\\u093e\\u0924\\u0915\\u093e \\u0932\\u093e\\u0917\\u093f \\u0915\\u093e\\u0928\\u0941\\u0928\\u0940 \\u0938\\u092e\\u0938\\u094d\\u092f\\u093e \\u0928\\u0939\\u094b\\u0938\\u094d \\u092d\\u0928\\u0947\\u0930 \\u0905\\u0927\\u094d\\u092f\\u093e\\u0926\\u0947\\u0936 \\u0924\\u092f\\u093e\\u0930 \\u0917\\u0930\\u093f\\u090f\\u0915\\u094b \\u091c\\u093e\\u0928\\u0915\\u093e\\u0930\\u0940 \\u0926\\u093f\\u090f\\u0915\\u093e \\u091b\\u0928\\u094d\"\n        ],\n        \"semantic_type\": \"\",\n        \"description\": \"\"\n      }\n    },\n    {\n      \"column\": \"label\",\n      \"properties\": {\n        \"dtype\": \"number\",\n        \"std\": 0,\n        \"min\": 0,\n        \"max\": 2,\n        \"num_unique_values\": 3,\n        \"samples\": [\n          0,\n          1,\n          2\n        ],\n        \"semantic_type\": \"\",\n        \"description\": \"\"\n      }\n    }\n  ]\n}"
            }
          },
          "metadata": {},
          "execution_count": 12
        }
      ]
    },
    {
      "cell_type": "code",
      "source": [
        "seed = 42\n",
        "torch.manual_seed(seed)\n",
        "torch.cuda.manual_seed_all(seed)\n",
        "np.random.seed(seed)\n",
        "\n",
        "device = torch.device('cuda' if torch.cuda.is_available() else 'cpu')\n"
      ],
      "metadata": {
        "id": "twjBOvwAR7Ph"
      },
      "execution_count": 29,
      "outputs": []
    },
    {
      "cell_type": "code",
      "source": [
        "tokenizer = XLMRobertaTokenizer.from_pretrained('xlm-roberta-base')\n"
      ],
      "metadata": {
        "id": "V6S1K7BuBFNS"
      },
      "execution_count": 30,
      "outputs": []
    },
    {
      "cell_type": "code",
      "source": [
        "df_train['text'] = df_train['text'].tolist()\n",
        "print(type(df_train['text']))\n",
        "print(df_train['text'].head())"
      ],
      "metadata": {
        "colab": {
          "base_uri": "https://localhost:8080/"
        },
        "id": "YGi_MuZuBHvV",
        "outputId": "fc646a3a-3d87-4952-dab2-38cd5288e25c"
      },
      "execution_count": 31,
      "outputs": [
        {
          "output_type": "stream",
          "name": "stdout",
          "text": [
            "<class 'pandas.core.series.Series'>\n",
            "0                      कोभिड बारे हालसम्मको विकास क्रम\n",
            "1    नेताहरु भ्रष्टाचार गर्छन जनताको छोराछोरी बिदेश...\n",
            "2    गौतमबुद्द अन्तराष्ट्रिए क्रिकेट स्टडिएमको नराम...\n",
            "3                      दाइ हजुरको भिउज किन कम आज भोलि`\n",
            "4    कोभिड नेपालमा जिडिपीको प्रतिशतसम्म क्षति हुनसक्ने\n",
            "Name: text, dtype: object\n"
          ]
        }
      ]
    },
    {
      "cell_type": "code",
      "source": [
        "df_train['text'].apply(lambda x: len(tokenizer.tokenize(x))).describe()\n"
      ],
      "metadata": {
        "colab": {
          "base_uri": "https://localhost:8080/",
          "height": 335
        },
        "id": "hIJmqvHCQxav",
        "outputId": "8c59b41b-21ea-41c7-a503-fc500610c266"
      },
      "execution_count": 32,
      "outputs": [
        {
          "output_type": "execute_result",
          "data": {
            "text/plain": [
              "count    33602.000000\n",
              "mean        30.863490\n",
              "std         21.971628\n",
              "min          1.000000\n",
              "25%         15.000000\n",
              "50%         25.000000\n",
              "75%         43.000000\n",
              "max       1428.000000\n",
              "Name: text, dtype: float64"
            ],
            "text/html": [
              "<div>\n",
              "<style scoped>\n",
              "    .dataframe tbody tr th:only-of-type {\n",
              "        vertical-align: middle;\n",
              "    }\n",
              "\n",
              "    .dataframe tbody tr th {\n",
              "        vertical-align: top;\n",
              "    }\n",
              "\n",
              "    .dataframe thead th {\n",
              "        text-align: right;\n",
              "    }\n",
              "</style>\n",
              "<table border=\"1\" class=\"dataframe\">\n",
              "  <thead>\n",
              "    <tr style=\"text-align: right;\">\n",
              "      <th></th>\n",
              "      <th>text</th>\n",
              "    </tr>\n",
              "  </thead>\n",
              "  <tbody>\n",
              "    <tr>\n",
              "      <th>count</th>\n",
              "      <td>33602.000000</td>\n",
              "    </tr>\n",
              "    <tr>\n",
              "      <th>mean</th>\n",
              "      <td>30.863490</td>\n",
              "    </tr>\n",
              "    <tr>\n",
              "      <th>std</th>\n",
              "      <td>21.971628</td>\n",
              "    </tr>\n",
              "    <tr>\n",
              "      <th>min</th>\n",
              "      <td>1.000000</td>\n",
              "    </tr>\n",
              "    <tr>\n",
              "      <th>25%</th>\n",
              "      <td>15.000000</td>\n",
              "    </tr>\n",
              "    <tr>\n",
              "      <th>50%</th>\n",
              "      <td>25.000000</td>\n",
              "    </tr>\n",
              "    <tr>\n",
              "      <th>75%</th>\n",
              "      <td>43.000000</td>\n",
              "    </tr>\n",
              "    <tr>\n",
              "      <th>max</th>\n",
              "      <td>1428.000000</td>\n",
              "    </tr>\n",
              "  </tbody>\n",
              "</table>\n",
              "</div><br><label><b>dtype:</b> float64</label>"
            ]
          },
          "metadata": {},
          "execution_count": 32
        }
      ]
    },
    {
      "cell_type": "code",
      "source": [
        "token_lengths = df_train['text'].apply(lambda x: len(tokenizer.tokenize(x)))\n",
        "print((token_lengths > 128).mean())  # % of texts truncated\n"
      ],
      "metadata": {
        "colab": {
          "base_uri": "https://localhost:8080/"
        },
        "id": "w-1-O2olQ9Am",
        "outputId": "c0cf01be-99d1-4d0a-f187-13077c4da58f"
      },
      "execution_count": 33,
      "outputs": [
        {
          "output_type": "stream",
          "name": "stdout",
          "text": [
            "0.0013392059996428785\n"
          ]
        }
      ]
    },
    {
      "cell_type": "code",
      "source": [
        "# Tokenize training data\n",
        "train_tokens = tokenizer.batch_encode_plus(\n",
        "    df_train['text'].tolist(),\n",
        "    padding=True,\n",
        "    truncation=True,\n",
        "    max_length=256,\n",
        "    return_tensors='pt'\n",
        ")\n",
        "\n",
        "train_labels = label_encoder.fit_transform(df_train['label'])\n"
      ],
      "metadata": {
        "id": "D-Vwzlr7BS_w"
      },
      "execution_count": 34,
      "outputs": []
    },
    {
      "cell_type": "code",
      "source": [
        "print(train_labels)"
      ],
      "metadata": {
        "colab": {
          "base_uri": "https://localhost:8080/"
        },
        "id": "GxaTxpj5BZKh",
        "outputId": "bc3a0a46-69fb-4611-a232-19c366ccb028"
      },
      "execution_count": 16,
      "outputs": [
        {
          "output_type": "stream",
          "name": "stdout",
          "text": [
            "[0 0 1 ... 0 1 0]\n"
          ]
        }
      ]
    },
    {
      "cell_type": "code",
      "source": [
        "# Tokenize test data\n",
        "test_tokens = tokenizer.batch_encode_plus(\n",
        "    df_test['text'].tolist(),\n",
        "    padding=True,\n",
        "    truncation=True,\n",
        "    max_length=256,\n",
        "    return_tensors='pt'\n",
        ")\n",
        "test_labels = label_encoder.fit_transform(df_test['label'])"
      ],
      "metadata": {
        "id": "o_kS8wowBas3"
      },
      "execution_count": 35,
      "outputs": []
    },
    {
      "cell_type": "code",
      "source": [
        "print(test_labels)"
      ],
      "metadata": {
        "colab": {
          "base_uri": "https://localhost:8080/"
        },
        "id": "4fk3dgrcBddx",
        "outputId": "b170f991-3c76-4942-a836-939ef4c260c7"
      },
      "execution_count": 36,
      "outputs": [
        {
          "output_type": "stream",
          "name": "stdout",
          "text": [
            "[2 2 1 ... 2 0 1]\n"
          ]
        }
      ]
    },
    {
      "cell_type": "code",
      "source": [
        "# Clone the tensors safely\n",
        "train_input_ids = train_tokens['input_ids'].clone().detach()\n",
        "train_attention_masks = train_tokens['attention_mask'].clone().detach()\n",
        "train_labels = torch.tensor(df_train['label'].values.astype(np.int64))\n",
        "\n",
        "test_input_ids = test_tokens['input_ids'].clone().detach()\n",
        "test_attention_masks = test_tokens['attention_mask'].clone().detach()\n",
        "test_labels = torch.tensor(df_test['label'].values.astype(np.int64))\n",
        "\n",
        "\n",
        "# Create TensorDatasets\n",
        "train_dataset = TensorDataset(train_input_ids, train_attention_masks, train_labels)\n",
        "test_dataset = TensorDataset(test_input_ids, test_attention_masks, test_labels)\n"
      ],
      "metadata": {
        "id": "vR9PGXlQBgi8"
      },
      "execution_count": 37,
      "outputs": []
    },
    {
      "cell_type": "code",
      "source": [
        "type(train_dataset)"
      ],
      "metadata": {
        "colab": {
          "base_uri": "https://localhost:8080/",
          "height": 186
        },
        "id": "zVgR4IxqCKAo",
        "outputId": "172fc91e-f9ad-4e24-ac0a-bae88192a803"
      },
      "execution_count": 38,
      "outputs": [
        {
          "output_type": "execute_result",
          "data": {
            "text/plain": [
              "torch.utils.data.dataset.TensorDataset"
            ],
            "text/html": [
              "<div style=\"max-width:800px; border: 1px solid var(--colab-border-color);\"><style>\n",
              "      pre.function-repr-contents {\n",
              "        overflow-x: auto;\n",
              "        padding: 8px 12px;\n",
              "        max-height: 500px;\n",
              "      }\n",
              "\n",
              "      pre.function-repr-contents.function-repr-contents-collapsed {\n",
              "        cursor: pointer;\n",
              "        max-height: 100px;\n",
              "      }\n",
              "    </style>\n",
              "    <pre style=\"white-space: initial; background:\n",
              "         var(--colab-secondary-surface-color); padding: 8px 12px;\n",
              "         border-bottom: 1px solid var(--colab-border-color);\"><b>torch.utils.data.dataset.TensorDataset</b><br/>def __init__(*tensors: Tensor) -&gt; None</pre><pre class=\"function-repr-contents function-repr-contents-collapsed\" style=\"\"><a class=\"filepath\" style=\"display:none\" href=\"#\">/usr/local/lib/python3.11/dist-packages/torch/utils/data/dataset.py</a>Dataset wrapping tensors.\n",
              "\n",
              "Each sample will be retrieved by indexing tensors along the first dimension.\n",
              "\n",
              "Args:\n",
              "    *tensors (Tensor): tensors that have the same size of the first dimension.</pre>\n",
              "      <script>\n",
              "      if (google.colab.kernel.accessAllowed && google.colab.files && google.colab.files.view) {\n",
              "        for (const element of document.querySelectorAll('.filepath')) {\n",
              "          element.style.display = 'block'\n",
              "          element.onclick = (event) => {\n",
              "            event.preventDefault();\n",
              "            event.stopPropagation();\n",
              "            google.colab.files.view(element.textContent, 193);\n",
              "          };\n",
              "        }\n",
              "      }\n",
              "      for (const element of document.querySelectorAll('.function-repr-contents')) {\n",
              "        element.onclick = (event) => {\n",
              "          event.preventDefault();\n",
              "          event.stopPropagation();\n",
              "          element.classList.toggle('function-repr-contents-collapsed');\n",
              "        };\n",
              "      }\n",
              "      </script>\n",
              "      </div>"
            ]
          },
          "metadata": {},
          "execution_count": 38
        }
      ]
    },
    {
      "cell_type": "code",
      "source": [
        "model = XLMRobertaForSequenceClassification.from_pretrained('xlm-roberta-base', num_labels=3)\n",
        "model.to(device)\n",
        "\n",
        "batch_size = 16\n",
        "learning_rate = 2e-5\n",
        "epochs = 10\n",
        "\n",
        "train_dataloader = DataLoader(train_dataset, sampler=RandomSampler(train_dataset), batch_size=batch_size)\n",
        "optimizer = AdamW(model.parameters(), lr=learning_rate, eps=1e-8)\n",
        "\n",
        "scaler = GradScaler()  # for mixed precision\n"
      ],
      "metadata": {
        "colab": {
          "base_uri": "https://localhost:8080/"
        },
        "id": "iZyrM-CZCMpk",
        "outputId": "b3f8d3b1-f0ee-4d34-f6de-5757cc39c5e1"
      },
      "execution_count": 44,
      "outputs": [
        {
          "output_type": "stream",
          "name": "stderr",
          "text": [
            "Some weights of XLMRobertaForSequenceClassification were not initialized from the model checkpoint at xlm-roberta-base and are newly initialized: ['classifier.dense.bias', 'classifier.dense.weight', 'classifier.out_proj.bias', 'classifier.out_proj.weight']\n",
            "You should probably TRAIN this model on a down-stream task to be able to use it for predictions and inference.\n",
            "<ipython-input-44-27beb5bf6423>:11: FutureWarning: `torch.cuda.amp.GradScaler(args...)` is deprecated. Please use `torch.amp.GradScaler('cuda', args...)` instead.\n",
            "  scaler = GradScaler()  # for mixed precision\n"
          ]
        }
      ]
    },
    {
      "cell_type": "code",
      "source": [
        "from tqdm import tqdm\n",
        "import torch\n",
        "from torch.amp import autocast, GradScaler\n",
        "\n",
        "# Initialize gradient scaler for mixed precision\n",
        "scaler = GradScaler()\n",
        "\n",
        "model.train()\n",
        "loss_values = []\n",
        "accuracy_values = []\n",
        "\n",
        "for epoch in range(epochs):\n",
        "    total_loss = 0\n",
        "    correct_predictions = 0\n",
        "    total_predictions = 0\n",
        "\n",
        "    progress_bar = tqdm(train_dataloader, desc=f'Epoch {epoch+1}')\n",
        "\n",
        "    for batch in progress_bar:\n",
        "        batch = tuple(t.to(device) for t in batch)\n",
        "        inputs = {\n",
        "            'input_ids': batch[0],\n",
        "            'attention_mask': batch[1],\n",
        "            'labels': batch[2]\n",
        "        }\n",
        "\n",
        "        optimizer.zero_grad()\n",
        "\n",
        "        # Updated autocast to use the new format\n",
        "        with autocast('cuda', dtype=torch.float16):  # mixed precision\n",
        "            outputs = model(**inputs)\n",
        "            loss = outputs.loss\n",
        "\n",
        "        total_loss += loss.item()\n",
        "\n",
        "        predicted_labels = torch.argmax(outputs.logits, dim=1)\n",
        "        correct_predictions += (predicted_labels == batch[2]).sum().item()\n",
        "        total_predictions += batch[0].size(0)\n",
        "\n",
        "        scaler.scale(loss).backward()\n",
        "        torch.nn.utils.clip_grad_norm_(model.parameters(), max_norm=1.0)\n",
        "        scaler.step(optimizer)\n",
        "        scaler.update()\n",
        "\n",
        "        progress_bar.set_postfix({'Training Loss': loss.item()})\n",
        "\n",
        "    average_loss = total_loss / len(train_dataloader)\n",
        "    accuracy = correct_predictions / total_predictions\n",
        "\n",
        "    loss_values.append(average_loss)\n",
        "    accuracy_values.append(accuracy)\n",
        "\n",
        "    print(f'Epoch {epoch+1}: Average Loss: {average_loss:.4f} - Accuracy: {accuracy:.4f}')"
      ],
      "metadata": {
        "colab": {
          "base_uri": "https://localhost:8080/"
        },
        "id": "DLLVaU8KDRDh",
        "outputId": "12277f67-f8ff-4309-cf95-fab958efbcce"
      },
      "execution_count": 48,
      "outputs": [
        {
          "metadata": {
            "tags": null
          },
          "name": "stderr",
          "output_type": "stream",
          "text": [
            "Epoch 1: 100%|██████████| 2101/2101 [10:01<00:00,  3.49it/s, Training Loss=2]\n"
          ]
        },
        {
          "metadata": {
            "tags": null
          },
          "name": "stdout",
          "output_type": "stream",
          "text": [
            "Epoch 1: Average Loss: 0.6362 - Accuracy: 0.7407\n"
          ]
        },
        {
          "metadata": {
            "tags": null
          },
          "name": "stderr",
          "output_type": "stream",
          "text": [
            "Epoch 2: 100%|██████████| 2101/2101 [10:02<00:00,  3.49it/s, Training Loss=2.23]\n"
          ]
        },
        {
          "metadata": {
            "tags": null
          },
          "name": "stdout",
          "output_type": "stream",
          "text": [
            "Epoch 2: Average Loss: 0.5651 - Accuracy: 0.7765\n"
          ]
        },
        {
          "metadata": {
            "tags": null
          },
          "name": "stderr",
          "output_type": "stream",
          "text": [
            "Epoch 3: 100%|██████████| 2101/2101 [10:01<00:00,  3.49it/s, Training Loss=1.8]\n"
          ]
        },
        {
          "metadata": {
            "tags": null
          },
          "name": "stdout",
          "output_type": "stream",
          "text": [
            "Epoch 3: Average Loss: 0.5192 - Accuracy: 0.7987\n"
          ]
        },
        {
          "output_type": "stream",
          "name": "stderr",
          "text": [
            "Epoch 4: 100%|██████████| 2101/2101 [10:01<00:00,  3.49it/s, Training Loss=0.292]\n"
          ]
        },
        {
          "output_type": "stream",
          "name": "stdout",
          "text": [
            "Epoch 4: Average Loss: 0.5303 - Accuracy: 0.7908\n"
          ]
        },
        {
          "output_type": "stream",
          "name": "stderr",
          "text": [
            "Epoch 5: 100%|██████████| 2101/2101 [10:01<00:00,  3.49it/s, Training Loss=0.195]\n"
          ]
        },
        {
          "output_type": "stream",
          "name": "stdout",
          "text": [
            "Epoch 5: Average Loss: 0.4041 - Accuracy: 0.8490\n"
          ]
        },
        {
          "output_type": "stream",
          "name": "stderr",
          "text": [
            "Epoch 6: 100%|██████████| 2101/2101 [10:01<00:00,  3.49it/s, Training Loss=0.0353]\n"
          ]
        },
        {
          "output_type": "stream",
          "name": "stdout",
          "text": [
            "Epoch 6: Average Loss: 0.3485 - Accuracy: 0.8739\n"
          ]
        },
        {
          "output_type": "stream",
          "name": "stderr",
          "text": [
            "Epoch 7: 100%|██████████| 2101/2101 [10:01<00:00,  3.49it/s, Training Loss=0.441]\n"
          ]
        },
        {
          "output_type": "stream",
          "name": "stdout",
          "text": [
            "Epoch 7: Average Loss: 0.3620 - Accuracy: 0.8683\n"
          ]
        },
        {
          "output_type": "stream",
          "name": "stderr",
          "text": [
            "Epoch 8: 100%|██████████| 2101/2101 [10:01<00:00,  3.49it/s, Training Loss=0.0173]\n"
          ]
        },
        {
          "output_type": "stream",
          "name": "stdout",
          "text": [
            "Epoch 8: Average Loss: 0.2760 - Accuracy: 0.9052\n"
          ]
        },
        {
          "output_type": "stream",
          "name": "stderr",
          "text": [
            "Epoch 9: 100%|██████████| 2101/2101 [10:01<00:00,  3.49it/s, Training Loss=0.0602]\n"
          ]
        },
        {
          "output_type": "stream",
          "name": "stdout",
          "text": [
            "Epoch 9: Average Loss: 0.2993 - Accuracy: 0.8971\n"
          ]
        },
        {
          "output_type": "stream",
          "name": "stderr",
          "text": [
            "Epoch 10: 100%|██████████| 2101/2101 [10:01<00:00,  3.49it/s, Training Loss=0.00109]"
          ]
        },
        {
          "output_type": "stream",
          "name": "stdout",
          "text": [
            "Epoch 10: Average Loss: 0.2301 - Accuracy: 0.9330\n"
          ]
        },
        {
          "output_type": "stream",
          "name": "stderr",
          "text": [
            "\n"
          ]
        }
      ]
    },
    {
      "cell_type": "code",
      "source": [
        "# First, let's ensure epochs is properly defined\n",
        "# It looks like epochs might be a single value that needs to be converted to a range\n",
        "# Assuming loss_values has 10 elements, we need to create matching epochs\n",
        "\n",
        "# Check the actual number of training iterations\n",
        "num_epochs = len(loss_values)\n",
        "\n",
        "# Create proper epochs list (1-indexed)\n",
        "epochs = list(range(1, num_epochs + 1))\n",
        "\n",
        "# Now create the visualization with properly matched dimensions\n",
        "fig, ax1 = plt.subplots(figsize=(12, 6))\n",
        "\n",
        "# Plot loss on primary y-axis\n",
        "color = 'tab:blue'\n",
        "ax1.set_xlabel('Epochs')\n",
        "ax1.set_ylabel('Loss', color=color)\n",
        "ax1.plot(epochs, loss_values, color=color, label='Training Loss')\n",
        "ax1.tick_params(axis='y', labelcolor=color)\n",
        "\n",
        "# Create secondary y-axis for accuracy\n",
        "ax2 = ax1.twinx()\n",
        "color = 'tab:red'\n",
        "ax2.set_ylabel('Accuracy', color=color)\n",
        "ax2.plot(epochs, accuracy_values, color=color, label='Training Accuracy')\n",
        "ax2.tick_params(axis='y', labelcolor=color)\n",
        "\n",
        "# Add grid for better readability\n",
        "ax1.grid(True, alpha=0.3)\n",
        "\n",
        "# Create combined legend\n",
        "lines1, labels1 = ax1.get_legend_handles_labels()\n",
        "lines2, labels2 = ax2.get_legend_handles_labels()\n",
        "ax2.legend(lines1 + lines2, labels1 + labels2, loc='center right')\n",
        "\n",
        "plt.title('Training Metrics', fontsize=14)\n",
        "plt.tight_layout()\n",
        "plt.show()"
      ],
      "metadata": {
        "colab": {
          "base_uri": "https://localhost:8080/",
          "height": 607
        },
        "id": "JVliZZ4FDSii",
        "outputId": "37d1e64a-2d12-41f9-ae15-86110c43ba3c"
      },
      "execution_count": 50,
      "outputs": [
        {
          "output_type": "display_data",
          "data": {
            "text/plain": [
              "<Figure size 1200x600 with 2 Axes>"
            ],
            "image/png": "[encoded data removed]"
          },
          "metadata": {}
        }
      ]
    },
    {
      "cell_type": "code",
      "source": [
        "import shutil\n",
        "\n",
        "model_dir = os.path.join(root_dir, \"model\")\n",
        "\n",
        "# Create the directory\n",
        "os.makedirs(model_dir, exist_ok=True)\n",
        "\n",
        "# Save the model\n",
        "model.save_pretrained(model_dir)\n",
        "\n",
        "# Save training metrics if available\n",
        "# Make sure loss_values and accuracy_values exist before trying to save\n",
        "if 'loss_values' in locals() and 'accuracy_values' in locals():\n",
        "    import numpy as np\n",
        "\n",
        "    # Get the actual number of epochs\n",
        "    num_epochs = len(loss_values)\n",
        "    epochs = list(range(1, num_epochs + 1))\n",
        "\n",
        "    # Save metrics as numpy files\n",
        "    np.save(os.path.join(model_dir, \"loss_values.npy\"), np.array(loss_values))\n",
        "    np.save(os.path.join(model_dir, \"accuracy_values.npy\"), np.array(accuracy_values))\n",
        "\n",
        "    # Create and save metrics visualization\n",
        "    import matplotlib.pyplot as plt\n",
        "    fig, ax1 = plt.subplots(figsize=(12, 6))\n",
        "\n",
        "    # Plot loss on primary y-axis\n",
        "    color = 'tab:blue'\n",
        "    ax1.set_xlabel('Epochs')\n",
        "    ax1.set_ylabel('Loss', color=color)\n",
        "    ax1.plot(epochs, loss_values, color=color, label='Training Loss')\n",
        "    ax1.tick_params(axis='y', labelcolor=color)\n",
        "    ax1.grid(True, alpha=0.3)\n",
        "\n",
        "    # Create secondary y-axis for accuracy\n",
        "    ax2 = ax1.twinx()\n",
        "    color = 'tab:red'\n",
        "    ax2.set_ylabel('Accuracy', color=color)\n",
        "    ax2.plot(epochs, accuracy_values, color=color, label='Training Accuracy')\n",
        "    ax2.tick_params(axis='y', labelcolor=color)\n",
        "\n",
        "    # Add legend\n",
        "    lines1, labels1 = ax1.get_legend_handles_labels()\n",
        "    lines2, labels2 = ax2.get_legend_handles_labels()\n",
        "    ax2.legend(lines1 + lines2, labels1 + labels2, loc='center right')\n",
        "\n",
        "    plt.title('Training Metrics', fontsize=14)\n",
        "    plt.tight_layout()\n",
        "\n",
        "    # Save the figure\n",
        "    plt.savefig(os.path.join(model_dir, \"training_metrics.png\"), dpi=300)\n",
        "    plt.close()\n",
        "\n",
        "# Save tokenizer if available\n",
        "try:\n",
        "    tokenizer.save_pretrained(model_dir)\n",
        "except:\n",
        "    print(\"No tokenizer found or couldn't save it\")\n",
        "\n",
        "# Create a readme with training information\n",
        "with open(os.path.join(model_dir, \"README.txt\"), \"w\") as f:\n",
        "    f.write(f\"Model saved on: {datetime.now().strftime('%Y-%m-%d %H:%M:%S')}\\n\")\n",
        "    f.write(\"Model: Nepali Sentiment Analysis\\n\")\n",
        "    if 'loss_values' in locals():\n",
        "        f.write(f\"Number of epochs: {len(loss_values)}\\n\")\n",
        "        f.write(f\"Final training loss: {loss_values[-1]}\\n\")\n",
        "    if 'accuracy_values' in locals():\n",
        "        f.write(f\"Final training accuracy: {accuracy_values[-1]}\\n\")\n",
        "\n",
        "# Create a zip file of the model directory\n",
        "zip_path = os.path.join(root_dir, f\"model\")\n",
        "shutil.make_archive(zip_path, 'zip', model_dir)\n",
        "\n",
        "print(f\"Model saved successfully to Google Drive at: {model_dir}\")\n",
        "print(f\"Zip archive created at: {zip_path}.zip\")"
      ],
      "metadata": {
        "colab": {
          "base_uri": "https://localhost:8080/"
        },
        "id": "ZmUQKC94uJBw",
        "outputId": "44a99828-6ac7-4462-fbcc-1cdfaaa027ff"
      },
      "execution_count": 55,
      "outputs": [
        {
          "output_type": "stream",
          "name": "stdout",
          "text": [
            "Model saved successfully to Google Drive at: /content/drive/MyDrive/nepali-sentiment-analysis/model\n",
            "Zip archive created at: /content/drive/MyDrive/nepali-sentiment-analysis/model.zip\n"
          ]
        }
      ]
    },
    {
      "cell_type": "code",
      "source": [
        "# Add a new cell after your model training and before saving the model\n",
        "from sklearn.metrics import confusion_matrix, ConfusionMatrixDisplay\n",
        "import torch\n",
        "\n",
        "# Set model to evaluation mode\n",
        "model.eval()\n",
        "\n",
        "# Create a dataloader for the test data\n",
        "test_dataloader = DataLoader(test_dataset, batch_size=batch_size)\n",
        "\n",
        "# Lists to store predictions and true labels\n",
        "all_predictions = []\n",
        "all_true_labels = []\n",
        "\n",
        "# No gradient computation needed for evaluation\n",
        "with torch.no_grad():\n",
        "    for batch in tqdm(test_dataloader, desc=\"Evaluating\"):\n",
        "        batch = tuple(t.to(device) for t in batch)\n",
        "\n",
        "        # Unpack the batch\n",
        "        input_ids = batch[0]\n",
        "        attention_mask = batch[1]\n",
        "        true_labels = batch[2]\n",
        "\n",
        "        # Forward pass\n",
        "        outputs = model(input_ids=input_ids, attention_mask=attention_mask)\n",
        "        logits = outputs.logits\n",
        "\n",
        "        # Get predicted labels\n",
        "        predicted_labels = torch.argmax(logits, dim=1)\n",
        "\n",
        "        # Move predictions and true labels to CPU\n",
        "        predicted_labels = predicted_labels.cpu().numpy()\n",
        "        true_labels = true_labels.cpu().numpy()\n",
        "\n",
        "        # Append to lists\n",
        "        all_predictions.extend(predicted_labels)\n",
        "        all_true_labels.extend(true_labels)\n",
        "\n",
        "# Calculate and display confusion matrix\n",
        "cm = confusion_matrix(all_true_labels, all_predictions)\n",
        "class_names = ['Negative (0)', 'Positive (1)', 'Neutral (2)']  # Adjust based on your actual label mapping\n",
        "\n",
        "# Create a figure for the confusion matrix\n",
        "plt.figure(figsize=(10, 8))\n",
        "disp = ConfusionMatrixDisplay(confusion_matrix=cm, display_labels=class_names)\n",
        "disp.plot(cmap=plt.cm.Blues, values_format='d')\n",
        "plt.title('Confusion Matrix')\n",
        "plt.tight_layout()\n",
        "plt.show()\n",
        "\n",
        "# Print classification metrics\n",
        "from sklearn.metrics import classification_report\n",
        "print(classification_report(all_true_labels, all_predictions, target_names=class_names))"
      ],
      "metadata": {
        "colab": {
          "base_uri": "https://localhost:8080/",
          "height": 695
        },
        "id": "SxkzwOx8uQJ7",
        "outputId": "ad37b78f-f0d3-446b-c253-08cbe43ed36e"
      },
      "execution_count": 54,
      "outputs": [
        {
          "output_type": "stream",
          "name": "stderr",
          "text": [
            "Evaluating: 100%|██████████| 526/526 [01:46<00:00,  4.93it/s]\n"
          ]
        },
        {
          "output_type": "display_data",
          "data": {
            "text/plain": [
              "<Figure size 1000x800 with 0 Axes>"
            ]
          },
          "metadata": {}
        },
        {
          "output_type": "display_data",
          "data": {
            "text/plain": [
              "<Figure size 640x480 with 2 Axes>"
            ],
            "image/png": "[encoded data removed]"
          },
          "metadata": {}
        },
        {
          "output_type": "stream",
          "name": "stdout",
          "text": [
            "              precision    recall  f1-score   support\n",
            "\n",
            "Negative (0)       0.80      0.74      0.77      3282\n",
            "Positive (1)       0.78      0.83      0.80      3725\n",
            " Neutral (2)       0.52      0.52      0.52      1394\n",
            "\n",
            "    accuracy                           0.74      8401\n",
            "   macro avg       0.70      0.70      0.70      8401\n",
            "weighted avg       0.74      0.74      0.74      8401\n",
            "\n"
          ]
        }
      ]
    },
    {
      "cell_type": "code",
      "source": [
        "from transformers import AutoTokenizer, AutoModelForSequenceClassification\n",
        "import torch\n",
        "\n",
        "# Load model and tokenizer\n",
        "model_path = f\"{root_dir}/model\"\n",
        "tokenizer = AutoTokenizer.from_pretrained(model_path)\n",
        "model = AutoModelForSequenceClassification.from_pretrained(model_path)\n",
        "\n",
        "model.to(device)\n",
        "model.eval()\n",
        "\n",
        "# Nepali test sentences (general + COVID-related)\n",
        "sentences = [\n",
        "    # Political Satires\n",
        "    \"देश चलाउनु मकै भुटेजस्तो हो र?\",\n",
        "    \"प्रधानमन्त्रीले फेरि गफ दिए – रेल अब छतमा गुड्नेछ!\",\n",
        "    \"नेताले भन्या काम गर्छु भनेको सुनेको ५ वर्ष भयो!\",\n",
        "    \"योजना घोषणा गरियो, कार्यान्वयन बुढाबुढीको कथा जस्तै!\",\n",
        "    \"सरकारले एउटा फोटो खिचाउने परियोजना सफल बनायो।\",\n",
        "    \"अब त नेताले पानीमा पुल बनाउँछु भन्न थालिसके।\",\n",
        "    \"देशमा विकास नभए पनि भाषणको स्तर चर्किएको छ।\",\n",
        "    \"नेताले जनताको भलोको लागि सोच्न थालेको देखिन्छ।\",\n",
        "    \"सांसदहरूले पारिश्रमिक कटौतीको प्रस्ताव स्वीकृत गरे।\",\n",
        "    \"हामी लोकतन्त्रमा बसिरहेका छौं, तर शासन चिनेको छैनौं।\",\n",
        "    # Sports\n",
        "    \"नेपालले भारतलाई हराउँदै ऐतिहासिक जित हासिल गर्‍यो।\",\n",
        "    \"खेलाडीको मेहनतले देशको इज्जत बढाएको छ।\",\n",
        "    \"नेपाली फुटबल अझै पनि २० वर्ष पछाडि छ।\",\n",
        "    \"खेलको संरचना नहुँदा प्रतिभा हराइरहेका छन्।\",\n",
        "    \"क्रिकेट टिमको नयाँ कोचले उत्साह ल्याएका छन्।\",\n",
        "    \"आजको खेल बराबरीमा टुंगिएको छ।\",\n",
        "    \"राष्ट्रिय खेलकुद सप्ताह औपचारिकतामै सीमित भयो।\",\n",
        "    \"खेलाडीलाई तलबको व्यवस्था गरियो।\",\n",
        "    \"सपोर्ट सिस्टम बलियो बनाउँदा मात्र खेल सुधारिन्छ।\",\n",
        "    \"खेलकुद मन्त्रालय कहाँ हरायो?\",\n",
        "    # Healthcare (COVID)\n",
        "    \"खोप अभियान सफल भयो, जनताले राहत पाए।\",\n",
        "    \"अस्पतालमा अक्सिजनको अभाव देखियो।\",\n",
        "    \"कोरोनाले हामीलाई स्वास्थ्यको महत्व सिकायो।\",\n",
        "    \"सरकारले निःशुल्क उपचारको घोषणा गर्‍यो।\",\n",
        "    \"लकडाउनले मानसिक स्वास्थ्यमा असर पारेको छ।\",\n",
        "    \"सार्वजनिक स्थलमा मास्क अनिवार्य गरिएको छ।\",\n",
        "    \"ICU बेड नपाएर बिरामी बाटोमै मरे।\",\n",
        "    \"स्वास्थ्यकर्मीको योगदान सराहनीय छ।\",\n",
        "    \"कोरोनाको लहर फेरि आउँछ कि भन्ने डर छ।\",\n",
        "    \"PCR रिपोर्ट आउनु अघि बिरामी निको भइसक्छ!\",\n",
        "    # International Politics\n",
        "    \"नेपाल–चीन सम्बन्ध बलियो बन्दै गएको छ।\",\n",
        "    \"भारतसँगको सिमा विवाद अझै समाधान भएको छैन।\",\n",
        "    \"संयुक्त राष्ट्रसंघको बैठकमा नेपालले शान्तिको कुरा गर्‍यो।\",\n",
        "    \"विदेशी नेतासँग सेल्फी खिचेर देश चल्दैन!\",\n",
        "    \"कूटनीतिक पहलमार्फत सहकार्यको ढोका खुलेको छ।\",\n",
        "    \"अमेरिकाले सहयोगको आश्वासन दिएको छ।\",\n",
        "    \"विदेश नीति अस्पष्ट हुँदा समस्या भएको छ।\",\n",
        "    \"नयाँ राजदूतको नियुक्तिमा विवाद उठेको छ।\",\n",
        "    \"भारत र चीनबीच नेपाल चिउरा भइसकेको छ।\",\n",
        "    \"संसार बदलिँदै छ, हामी भाषणमै व्यस्त छौं।\",\n",
        "    # Education\n",
        "    \"अनलाइन शिक्षाले पहुँच नभएका विद्यार्थीलाई असर गर्‍यो।\",\n",
        "    \"विद्यालय खुलेपछि पढाइमा सुधार देखिएको छ।\",\n",
        "    \"SLC पास गर्नु अब टिकटकमा ट्रेन्ड हो!\",\n",
        "    \"शिक्षकले इमान्दारीपूर्वक पढाउने वातावरण बनाएका छन्।\",\n",
        "    \"पढाइ अब स्मार्टफोनको चार्जमा निर्भर छ।\",\n",
        "    \"अनलाइन कक्षा जड्याँटजस्तै हुन्छ – कहिले आउँछ, कहिले जान्छ।\",\n",
        "    \"निजी विद्यालयको शुल्क बढ्दो छ।\",\n",
        "    \"शैक्षिक सुधारको लागि नयाँ नीतिहरू ल्याइएका छन्।\",\n",
        "    \"परिक्षा स्थगित हुँदा विद्यार्थी अन्योलमा परे।\",\n",
        "    \"शिक्षा प्रणालीमा केही सुधार देखिएको छ।\",\n",
        "    # random\n",
        "    \"मलाई यो फिल्म धेरै मन पर्यो।\",\n",
        "    \"तपाईंको सेवा उत्कृष्ट छ।\",\n",
        "    \"यो खाना स्वादिष्ट छैन।\",\n",
        "    \"कार्यक्रम निकै निराशाजनक भयो।\",\n",
        "    \"उनले दिएको जवाफ घमण्डपूर्ण थियो।\",\n",
        "    \"कोरोना महामारीले धेरै परिवारहरूमा दुख ल्यायो।\",\n",
        "    \"सरकारले अस्पतालमा निःशुल्क उपचार उपलब्ध गरायो।\",\n",
        "    \"खोप पाएपछि सबै ढुक्क महसुस गरे।\",\n",
        "    \"लकडाउनका कारण धेरै मानिस बेरोजगार भए।\",\n",
        "    \"पछिल्लो समयमा केसहरू घट्दै गएका छन्।\",\n",
        "    \"आजको मौसम रमाइलो छ।\",\n",
        "    \"उसको व्यवहार नराम्रो लाग्यो।\",\n",
        "    \"सडकको अवस्था पहिलेभन्दा सुधारिएको छ।\",\n",
        "    \"बिजुली कटौतीले दिक्क बनायो।\",\n",
        "    \"खेलाडीले उत्कृष्ट प्रदर्शन गरे।\",\n",
        "    \"अस्पतालमा धेरै भीड थियो।\",\n",
        "    \"विद्यालय खुलेको खबर राम्रो लाग्यो।\",\n",
        "    \"कक्षा अनलाइन हुँदा धेरै समस्या भयो।\",\n",
        "    \"उनको बोली सबैलाई मन पर्छ।\",\n",
        "    \"परिक्षा रद्द हुँदा विद्यार्थीहरू अन्योलमा परे।\",\n",
        "    \"अब मास्क लगाउनु अनिवार्य छैन।\",\n",
        "    \"कोरोनाको तेस्रो लहरले डर बढायो।\",\n",
        "    \"स्वास्थ्यकर्मीहरूले निरन्तर सेवा दिएका छन्।\",\n",
        "    \"पढाइमा ध्यान केन्द्रित गर्न गाह्रो भयो।\",\n",
        "    \"क्वारेन्टाइनमा बस्दा मानसिक दबाव बढ्यो।\",\n",
        "    \"सरकारले स्वास्थ्य सामग्री बाँडेको छ।\",\n",
        "    \"सामाजिक दूरी कायम राख्न सजिलो छैन।\",\n",
        "    \"खोप अभियान सफल भयो।\",\n",
        "    \"अस्पतालमा अक्सिजनको अभाव देखियो।\",\n",
        "    \"अहिले स्थिति सामान्य हुँदै गएको देखिन्छ।\"\n",
        "]\n",
        "\n",
        "\n",
        "# Sentiment label function\n",
        "def sentiment_label(class_id):\n",
        "    labels = {0: \"Negative\", 1: \"Positive\", 2: \"Neutral\"}\n",
        "    return labels.get(class_id, \"Unknown\")\n",
        "\n",
        "# Prediction function\n",
        "def predict_sentiment(sentence):\n",
        "    inputs = tokenizer(sentence, return_tensors=\"pt\", truncation=True, padding=True)\n",
        "    inputs = {k: v.to(device) for k, v in inputs.items()}\n",
        "    with torch.no_grad():\n",
        "        outputs = model(**inputs)\n",
        "    logits = outputs.logits\n",
        "    predicted_class = torch.argmax(logits, dim=1).item()\n",
        "    return sentiment_label(predicted_class)\n",
        "# Collect data\n",
        "table_data = []\n",
        "for s in sentences:\n",
        "    sentiment = predict_sentiment(s)\n",
        "    table_data.append([s, sentiment])\n"
      ],
      "metadata": {
        "id": "TpB00OM4xCHm"
      },
      "execution_count": 63,
      "outputs": []
    },
    {
      "cell_type": "code",
      "source": [
        "!pip install tabulate"
      ],
      "metadata": {
        "colab": {
          "base_uri": "https://localhost:8080/"
        },
        "id": "aZYNCH_n0qfP",
        "outputId": "b0b9c56e-bf0f-4168-d20a-bf4dd0bf1eca"
      },
      "execution_count": 61,
      "outputs": [
        {
          "output_type": "stream",
          "name": "stdout",
          "text": [
            "Requirement already satisfied: tabulate in /usr/local/lib/python3.11/dist-packages (0.9.0)\n"
          ]
        }
      ]
    },
    {
      "cell_type": "code",
      "source": [
        "from tabulate import tabulate\n",
        "# Get terminal width to auto-fit columns\n",
        "# Get terminal width to auto-fit columns\n",
        "terminal_width = shutil.get_terminal_size().columns\n",
        "\n",
        "# Calculate column widths based on terminal width\n",
        "sentence_width = int(terminal_width * 0.7)  # 70% for sentence\n",
        "sentiment_width = int(terminal_width * 0.3)  # 30% for sentiment\n",
        "\n",
        "# Ensure a minimum width for the sentiment column\n",
        "min_sentiment_width = 15\n",
        "sentiment_width = max(sentiment_width, min_sentiment_width)\n",
        "\n",
        "# Adjust sentence width if sentiment width was increased\n",
        "sentence_width = terminal_width - sentiment_width - 4  # Subtract padding\n",
        "\n",
        "# Print as table\n",
        "headers = [\"Sentence\", \"Predicted Sentiment\"]\n",
        "col_widths = [sentence_width, sentiment_width]  # Set column widths\n",
        "\n",
        "\n",
        "table = tabulate(\n",
        "    table_data, headers=headers, tablefmt=\"grid\", maxcolwidths=col_widths\n",
        ")\n",
        "\n",
        "print(table)\n",
        "\n"
      ],
      "metadata": {
        "colab": {
          "base_uri": "https://localhost:8080/"
        },
        "id": "2fg4D72e1M42",
        "outputId": "ee38ca0f-e31e-4f00-be7e-67b45c9e8ef1"
      },
      "execution_count": 76,
      "outputs": [
        {
          "output_type": "stream",
          "name": "stdout",
          "text": [
            "+-------------------------------------------+-----------------------+\n",
            "| Sentence                                  | Predicted Sentiment   |\n",
            "+===========================================+=======================+\n",
            "| देश चलाउनु मकै भुटेजस्तो हो र?                     | Negative              |\n",
            "+-------------------------------------------+-----------------------+\n",
            "| प्रधानमन्त्रीले फेरि गफ दिए – रेल अब छतमा गुड्नेछ!      | Positive              |\n",
            "+-------------------------------------------+-----------------------+\n",
            "| नेताले भन्या काम गर्छु भनेको सुनेको ५ वर्ष भयो!          | Neutral               |\n",
            "+-------------------------------------------+-----------------------+\n",
            "| योजना घोषणा गरियो, कार्यान्वयन बुढाबुढीको कथा जस्तै!        | Negative              |\n",
            "+-------------------------------------------+-----------------------+\n",
            "| सरकारले एउटा फोटो खिचाउने परियोजना सफल बनायो।          | Positive              |\n",
            "+-------------------------------------------+-----------------------+\n",
            "| अब त नेताले पानीमा पुल बनाउँछु भन्न थालिसके।            | Neutral               |\n",
            "+-------------------------------------------+-----------------------+\n",
            "| देशमा विकास नभए पनि भाषणको स्तर चर्किएको छ।          | Negative              |\n",
            "+-------------------------------------------+-----------------------+\n",
            "| नेताले जनताको भलोको लागि सोच्न थालेको देखिन्छ।             | Positive              |\n",
            "+-------------------------------------------+-----------------------+\n",
            "| सांसदहरूले पारिश्रमिक कटौतीको प्रस्ताव स्वीकृत गरे।         | Neutral               |\n",
            "+-------------------------------------------+-----------------------+\n",
            "| हामी लोकतन्त्रमा बसिरहेका छौं, तर शासन चिनेको छैनौं।        | Negative              |\n",
            "+-------------------------------------------+-----------------------+\n",
            "| नेपालले भारतलाई हराउँदै ऐतिहासिक जित हासिल गर्‍यो।          | Positive              |\n",
            "+-------------------------------------------+-----------------------+\n",
            "| खेलाडीको मेहनतले देशको इज्जत बढाएको छ।               | Positive              |\n",
            "+-------------------------------------------+-----------------------+\n",
            "| नेपाली फुटबल अझै पनि २० वर्ष पछाडि छ।              | Negative              |\n",
            "+-------------------------------------------+-----------------------+\n",
            "| खेलको संरचना नहुँदा प्रतिभा हराइरहेका छन्।              | Negative              |\n",
            "+-------------------------------------------+-----------------------+\n",
            "| क्रिकेट टिमको नयाँ कोचले उत्साह ल्याएका छन्।             | Positive              |\n",
            "+-------------------------------------------+-----------------------+\n",
            "| आजको खेल बराबरीमा टुंगिएको छ।                      | Neutral               |\n",
            "+-------------------------------------------+-----------------------+\n",
            "| राष्ट्रिय खेलकुद सप्ताह औपचारिकतामै सीमित भयो।           | Neutral               |\n",
            "+-------------------------------------------+-----------------------+\n",
            "| खेलाडीलाई तलबको व्यवस्था गरियो।                     | Positive              |\n",
            "+-------------------------------------------+-----------------------+\n",
            "| सपोर्ट सिस्टम बलियो बनाउँदा मात्र खेल सुधारिन्छ।          | Positive              |\n",
            "+-------------------------------------------+-----------------------+\n",
            "| खेलकुद मन्त्रालय कहाँ हरायो?                       | Neutral               |\n",
            "+-------------------------------------------+-----------------------+\n",
            "| खोप अभियान सफल भयो, जनताले राहत पाए।              | Positive              |\n",
            "+-------------------------------------------+-----------------------+\n",
            "| अस्पतालमा अक्सिजनको अभाव देखियो।                    | Negative              |\n",
            "+-------------------------------------------+-----------------------+\n",
            "| कोरोनाले हामीलाई स्वास्थ्यको महत्व सिकायो।                | Neutral               |\n",
            "+-------------------------------------------+-----------------------+\n",
            "| सरकारले निःशुल्क उपचारको घोषणा गर्‍यो।                  | Positive              |\n",
            "+-------------------------------------------+-----------------------+\n",
            "| लकडाउनले मानसिक स्वास्थ्यमा असर पारेको छ।             | Negative              |\n",
            "+-------------------------------------------+-----------------------+\n",
            "| सार्वजनिक स्थलमा मास्क अनिवार्य गरिएको छ।             | Positive              |\n",
            "+-------------------------------------------+-----------------------+\n",
            "| ICU बेड नपाएर बिरामी बाटोमै मरे।                   | Negative              |\n",
            "+-------------------------------------------+-----------------------+\n",
            "| स्वास्थ्यकर्मीको योगदान सराहनीय छ।                   | Positive              |\n",
            "+-------------------------------------------+-----------------------+\n",
            "| कोरोनाको लहर फेरि आउँछ कि भन्ने डर छ।               | Negative              |\n",
            "+-------------------------------------------+-----------------------+\n",
            "| PCR रिपोर्ट आउनु अघि बिरामी निको भइसक्छ!             | Positive              |\n",
            "+-------------------------------------------+-----------------------+\n",
            "| नेपाल–चीन सम्बन्ध बलियो बन्दै गएको छ।               | Positive              |\n",
            "+-------------------------------------------+-----------------------+\n",
            "| भारतसँगको सिमा विवाद अझै समाधान भएको छैन।             | Negative              |\n",
            "+-------------------------------------------+-----------------------+\n",
            "| संयुक्त राष्ट्रसंघको बैठकमा नेपालले शान्तिको कुरा गर्‍यो।        | Neutral               |\n",
            "+-------------------------------------------+-----------------------+\n",
            "| विदेशी नेतासँग सेल्फी खिचेर देश चल्दैन!                 | Negative              |\n",
            "+-------------------------------------------+-----------------------+\n",
            "| कूटनीतिक पहलमार्फत सहकार्यको ढोका खुलेको छ।            | Positive              |\n",
            "+-------------------------------------------+-----------------------+\n",
            "| अमेरिकाले सहयोगको आश्वासन दिएको छ।                  | Positive              |\n",
            "+-------------------------------------------+-----------------------+\n",
            "| विदेश नीति अस्पष्ट हुँदा समस्या भएको छ।               | Negative              |\n",
            "+-------------------------------------------+-----------------------+\n",
            "| नयाँ राजदूतको नियुक्तिमा विवाद उठेको छ।                 | Negative              |\n",
            "+-------------------------------------------+-----------------------+\n",
            "| भारत र चीनबीच नेपाल चिउरा भइसकेको छ।               | Negative              |\n",
            "+-------------------------------------------+-----------------------+\n",
            "| संसार बदलिँदै छ, हामी भाषणमै व्यस्त छौं।               | Neutral               |\n",
            "+-------------------------------------------+-----------------------+\n",
            "| अनलाइन शिक्षाले पहुँच नभएका विद्यार्थीलाई असर गर्‍यो।       | Negative              |\n",
            "+-------------------------------------------+-----------------------+\n",
            "| विद्यालय खुलेपछि पढाइमा सुधार देखिएको छ।               | Positive              |\n",
            "+-------------------------------------------+-----------------------+\n",
            "| SLC पास गर्नु अब टिकटकमा ट्रेन्ड हो!               | Neutral               |\n",
            "+-------------------------------------------+-----------------------+\n",
            "| शिक्षकले इमान्दारीपूर्वक पढाउने वातावरण बनाएका छन्।       | Positive              |\n",
            "+-------------------------------------------+-----------------------+\n",
            "| पढाइ अब स्मार्टफोनको चार्जमा निर्भर छ।               | Neutral               |\n",
            "+-------------------------------------------+-----------------------+\n",
            "| अनलाइन कक्षा जड्याँटजस्तै हुन्छ – कहिले आउँछ, कहिले जान्छ। | Neutral               |\n",
            "+-------------------------------------------+-----------------------+\n",
            "| निजी विद्यालयको शुल्क बढ्दो छ।                      | Negative              |\n",
            "+-------------------------------------------+-----------------------+\n",
            "| शैक्षिक सुधारको लागि नयाँ नीतिहरू ल्याइएका छन्।            | Positive              |\n",
            "+-------------------------------------------+-----------------------+\n",
            "| परिक्षा स्थगित हुँदा विद्यार्थी अन्योलमा परे।              | Negative              |\n",
            "+-------------------------------------------+-----------------------+\n",
            "| शिक्षा प्रणालीमा केही सुधार देखिएको छ।                  | Positive              |\n",
            "+-------------------------------------------+-----------------------+\n",
            "| मलाई यो फिल्म धेरै मन पर्यो।                      | Positive              |\n",
            "+-------------------------------------------+-----------------------+\n",
            "| तपाईंको सेवा उत्कृष्ट छ।                          | Positive              |\n",
            "+-------------------------------------------+-----------------------+\n",
            "| यो खाना स्वादिष्ट छैन।                            | Negative              |\n",
            "+-------------------------------------------+-----------------------+\n",
            "| कार्यक्रम निकै निराशाजनक भयो।                      | Negative              |\n",
            "+-------------------------------------------+-----------------------+\n",
            "| उनले दिएको जवाफ घमण्डपूर्ण थियो।                   | Negative              |\n",
            "+-------------------------------------------+-----------------------+\n",
            "| कोरोना महामारीले धेरै परिवारहरूमा दुख ल्यायो।              | Negative              |\n",
            "+-------------------------------------------+-----------------------+\n",
            "| सरकारले अस्पतालमा निःशुल्क उपचार उपलब्ध गरायो।         | Positive              |\n",
            "+-------------------------------------------+-----------------------+\n",
            "| खोप पाएपछि सबै ढुक्क महसुस गरे।                   | Positive              |\n",
            "+-------------------------------------------+-----------------------+\n",
            "| लकडाउनका कारण धेरै मानिस बेरोजगार भए।               | Negative              |\n",
            "+-------------------------------------------+-----------------------+\n",
            "| पछिल्लो समयमा केसहरू घट्दै गएका छन्।                | Neutral               |\n",
            "+-------------------------------------------+-----------------------+\n",
            "| आजको मौसम रमाइलो छ।                           | Positive              |\n",
            "+-------------------------------------------+-----------------------+\n",
            "| उसको व्यवहार नराम्रो लाग्यो।                       | Negative              |\n",
            "+-------------------------------------------+-----------------------+\n",
            "| सडकको अवस्था पहिलेभन्दा सुधारिएको छ।                 | Positive              |\n",
            "+-------------------------------------------+-----------------------+\n",
            "| बिजुली कटौतीले दिक्क बनायो।                         | Positive              |\n",
            "+-------------------------------------------+-----------------------+\n",
            "| खेलाडीले उत्कृष्ट प्रदर्शन गरे।                     | Positive              |\n",
            "+-------------------------------------------+-----------------------+\n",
            "| अस्पतालमा धेरै भीड थियो।                          | Positive              |\n",
            "+-------------------------------------------+-----------------------+\n",
            "| विद्यालय खुलेको खबर राम्रो लाग्यो।                    | Positive              |\n",
            "+-------------------------------------------+-----------------------+\n",
            "| कक्षा अनलाइन हुँदा धेरै समस्या भयो।                  | Negative              |\n",
            "+-------------------------------------------+-----------------------+\n",
            "| उनको बोली सबैलाई मन पर्छ।                       | Positive              |\n",
            "+-------------------------------------------+-----------------------+\n",
            "| परिक्षा रद्द हुँदा विद्यार्थीहरू अन्योलमा परे।             | Negative              |\n",
            "+-------------------------------------------+-----------------------+\n",
            "| अब मास्क लगाउनु अनिवार्य छैन।                     | Neutral               |\n",
            "+-------------------------------------------+-----------------------+\n",
            "| कोरोनाको तेस्रो लहरले डर बढायो।                     | Negative              |\n",
            "+-------------------------------------------+-----------------------+\n",
            "| स्वास्थ्यकर्मीहरूले निरन्तर सेवा दिएका छन्।              | Positive              |\n",
            "+-------------------------------------------+-----------------------+\n",
            "| पढाइमा ध्यान केन्द्रित गर्न गाह्रो भयो।                | Negative              |\n",
            "+-------------------------------------------+-----------------------+\n",
            "| क्वारेन्टाइनमा बस्दा मानसिक दबाव बढ्यो।                | Negative              |\n",
            "+-------------------------------------------+-----------------------+\n",
            "| सरकारले स्वास्थ्य सामग्री बाँडेको छ।                   | Positive              |\n",
            "+-------------------------------------------+-----------------------+\n",
            "| सामाजिक दूरी कायम राख्न सजिलो छैन।                   | Negative              |\n",
            "+-------------------------------------------+-----------------------+\n",
            "| खोप अभियान सफल भयो।                           | Positive              |\n",
            "+-------------------------------------------+-----------------------+\n",
            "| अस्पतालमा अक्सिजनको अभाव देखियो।                    | Negative              |\n",
            "+-------------------------------------------+-----------------------+\n",
            "| अहिले स्थिति सामान्य हुँदै गएको देखिन्छ।                 | Positive              |\n",
            "+-------------------------------------------+-----------------------+\n"
          ]
        }
      ]
    }
  ]
}