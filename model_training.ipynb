{
  "cells": [
    {
      "cell_type": "code",
      "execution_count": 21,
      "id": "1a167880",
      "metadata": {
        "execution": {
          "iopub.execute_input": "2023-07-01T17:00:52.237187Z",
          "iopub.status.busy": "2023-07-01T17:00:52.236801Z",
          "iopub.status.idle": "2023-07-01T17:01:05.420168Z",
          "shell.execute_reply": "2023-07-01T17:01:05.419264Z"
        },
        "id": "1a167880",
        "papermill": {
          "duration": 13.195375,
          "end_time": "2023-07-01T17:01:05.422809",
          "exception": false,
          "start_time": "2023-07-01T17:00:52.227434",
          "status": "completed"
        },
        "tags": []
      },
      "outputs": [],
      "source": [
        "from transformers import TFAutoModel , AutoTokenizer, BertForSequenceClassification\n",
        "\n",
        "import matplotlib.pyplot as plt\n",
        "import os\n",
        "import pandas as pd\n",
        "import torch\n",
        "\n",
        "from sklearn.preprocessing import LabelEncoder\n",
        "import numpy as np\n",
        "from torch.utils.data import TensorDataset\n",
        "\n",
        "from torch.optim import AdamW\n",
        "from torch.utils.data import DataLoader, RandomSampler"
      ]
    },
    {
      "cell_type": "code",
      "execution_count": 22,
      "id": "03bbe858",
      "metadata": {
        "execution": {
          "iopub.execute_input": "2023-07-01T17:01:05.439013Z",
          "iopub.status.busy": "2023-07-01T17:01:05.438729Z",
          "iopub.status.idle": "2023-07-01T17:01:05.541416Z",
          "shell.execute_reply": "2023-07-01T17:01:05.539839Z"
        },
        "id": "03bbe858",
        "papermill": {
          "duration": 0.113083,
          "end_time": "2023-07-01T17:01:05.543587",
          "exception": false,
          "start_time": "2023-07-01T17:01:05.430504",
          "status": "completed"
        },
        "tags": []
      },
      "outputs": [],
      "source": [
        "# Load the train and test datasets\n",
        "df_train = pd.read_csv('test.csv')\n",
        "df_test = pd.read_csv('train.csv')"
      ]
    },
    {
      "cell_type": "code",
      "execution_count": 23,
      "id": "-qB-NFyJep9t",
      "metadata": {
        "colab": {
          "base_uri": "https://localhost:8080/",
          "height": 206
        },
        "id": "-qB-NFyJep9t",
        "outputId": "446a65c2-cc9e-47fb-c703-172c6e18dff0"
      },
      "outputs": [
        {
          "data": {
            "text/html": [
              "<div>\n",
              "<style scoped>\n",
              "    .dataframe tbody tr th:only-of-type {\n",
              "        vertical-align: middle;\n",
              "    }\n",
              "\n",
              "    .dataframe tbody tr th {\n",
              "        vertical-align: top;\n",
              "    }\n",
              "\n",
              "    .dataframe thead th {\n",
              "        text-align: right;\n",
              "    }\n",
              "</style>\n",
              "<table border=\"1\" class=\"dataframe\">\n",
              "  <thead>\n",
              "    <tr style=\"text-align: right;\">\n",
              "      <th></th>\n",
              "      <th>text</th>\n",
              "      <th>label</th>\n",
              "    </tr>\n",
              "  </thead>\n",
              "  <tbody>\n",
              "    <tr>\n",
              "      <th>0</th>\n",
              "      <td>असाध्यै राम्रो कार्यक्रम आयोजना गरिएको छ हजुरह...</td>\n",
              "      <td>1</td>\n",
              "    </tr>\n",
              "    <tr>\n",
              "      <th>1</th>\n",
              "      <td>राम्रो कार्यक्रम, पहिलो सिजनले समेटेको कार्यक्...</td>\n",
              "      <td>1</td>\n",
              "    </tr>\n",
              "    <tr>\n",
              "      <th>2</th>\n",
              "      <td>महानायक राजेश हमाल तपाई साँच्चै धन्यवादको पात्...</td>\n",
              "      <td>1</td>\n",
              "    </tr>\n",
              "    <tr>\n",
              "      <th>3</th>\n",
              "      <td>जातको प्रष्न बाट सबै जनालाई सकरात्मक सन्देश मि...</td>\n",
              "      <td>1</td>\n",
              "    </tr>\n",
              "    <tr>\n",
              "      <th>4</th>\n",
              "      <td>बहसको सुरुवात भएको छ, अझै जोडदार रुपमा गर्नुपर...</td>\n",
              "      <td>1</td>\n",
              "    </tr>\n",
              "  </tbody>\n",
              "</table>\n",
              "</div>"
            ],
            "text/plain": [
              "                                                text label\n",
              "0  असाध्यै राम्रो कार्यक्रम आयोजना गरिएको छ हजुरह...     1\n",
              "1  राम्रो कार्यक्रम, पहिलो सिजनले समेटेको कार्यक्...     1\n",
              "2  महानायक राजेश हमाल तपाई साँच्चै धन्यवादको पात्...     1\n",
              "3  जातको प्रष्न बाट सबै जनालाई सकरात्मक सन्देश मि...     1\n",
              "4  बहसको सुरुवात भएको छ, अझै जोडदार रुपमा गर्नुपर...     1"
            ]
          },
          "execution_count": 23,
          "metadata": {},
          "output_type": "execute_result"
        }
      ],
      "source": [
        "df_train.head()"
      ]
    },
    {
      "cell_type": "markdown",
      "id": "d2716295",
      "metadata": {
        "id": "d2716295",
        "papermill": {
          "duration": 0.007322,
          "end_time": "2023-07-01T17:01:05.558074",
          "exception": false,
          "start_time": "2023-07-01T17:01:05.550752",
          "status": "completed"
        },
        "tags": []
      },
      "source": [
        "#### POSITIVE vs NEGATIVE vs NEUTRAL"
      ]
    },
    {
      "cell_type": "code",
      "execution_count": 24,
      "id": "7f103f90",
      "metadata": {
        "colab": {
          "base_uri": "https://localhost:8080/",
          "height": 495
        },
        "execution": {
          "iopub.execute_input": "2023-07-01T17:01:05.574599Z",
          "iopub.status.busy": "2023-07-01T17:01:05.573712Z",
          "iopub.status.idle": "2023-07-01T17:01:06.025258Z",
          "shell.execute_reply": "2023-07-01T17:01:06.024349Z"
        },
        "id": "7f103f90",
        "outputId": "6d248af1-36ae-4c6e-bdeb-887fcbff4f56",
        "papermill": {
          "duration": 0.461875,
          "end_time": "2023-07-01T17:01:06.027467",
          "exception": false,
          "start_time": "2023-07-01T17:01:05.565592",
          "status": "completed"
        },
        "tags": []
      },
      "outputs": [
        {
          "data": {
            "image/png": "[encoded data removed]",
            "text/plain": [
              "<Figure size 1200x600 with 2 Axes>"
            ]
          },
          "metadata": {},
          "output_type": "display_data"
        }
      ],
      "source": [
        "# Bar graph for train dataset\n",
        "train_labels = df_train['label'].value_counts()\n",
        "\n",
        "# Bar graph for test dataset\n",
        "test_labels = df_test['label'].value_counts()\n",
        "\n",
        "# Create subplots\n",
        "fig, axs = plt.subplots(1, 2, figsize=(12, 6))\n",
        "\n",
        "# Train dataset subplot\n",
        "axs[0].bar(train_labels.index, train_labels.values)\n",
        "axs[0].set_xlabel('Labels')\n",
        "axs[0].set_ylabel('Count')\n",
        "axs[0].set_title('Train Dataset - Label Distribution')\n",
        "\n",
        "# Test dataset subplot\n",
        "axs[1].bar(test_labels.index, test_labels.values)\n",
        "axs[1].set_xlabel('Labels')\n",
        "axs[1].set_ylabel('Count')\n",
        "axs[1].set_title('Test Dataset - Label Distribution')\n",
        "\n",
        "# Adjust spacing between subplots\n",
        "plt.subplots_adjust(wspace=0.4)\n",
        "\n",
        "# Display the plot\n",
        "plt.show()\n"
      ]
    },
    {
      "cell_type": "code",
      "execution_count": 25,
      "id": "aa37d57a",
      "metadata": {
        "colab": {
          "base_uri": "https://localhost:8080/"
        },
        "execution": {
          "iopub.execute_input": "2023-07-01T17:01:06.045383Z",
          "iopub.status.busy": "2023-07-01T17:01:06.043653Z",
          "iopub.status.idle": "2023-07-01T17:01:06.057074Z",
          "shell.execute_reply": "2023-07-01T17:01:06.056037Z"
        },
        "id": "aa37d57a",
        "outputId": "3b0f66d4-aadd-4989-f790-927b736ce385",
        "papermill": {
          "duration": 0.024794,
          "end_time": "2023-07-01T17:01:06.059923",
          "exception": false,
          "start_time": "2023-07-01T17:01:06.035129",
          "status": "completed"
        },
        "tags": []
      },
      "outputs": [
        {
          "name": "stdout",
          "output_type": "stream",
          "text": [
            "Train Dataset - Missing Values:\n",
            "text     1\n",
            "label    0\n",
            "dtype: int64\n",
            "\n",
            "Test Dataset - Missing Values:\n",
            "text     1\n",
            "label    0\n",
            "dtype: int64\n"
          ]
        }
      ],
      "source": [
        "# Checking for missing values in the train dataset\n",
        "train_na = df_train.isna().sum()\n",
        "print('Train Dataset - Missing Values:')\n",
        "print(train_na)\n",
        "\n",
        "test_na = df_test.isna().sum()\n",
        "print('\\nTest Dataset - Missing Values:')\n",
        "print(test_na)"
      ]
    },
    {
      "cell_type": "code",
      "execution_count": 26,
      "id": "2660a3b4",
      "metadata": {
        "execution": {
          "iopub.execute_input": "2023-07-01T17:01:06.076679Z",
          "iopub.status.busy": "2023-07-01T17:01:06.076362Z",
          "iopub.status.idle": "2023-07-01T17:01:06.090007Z",
          "shell.execute_reply": "2023-07-01T17:01:06.089151Z"
        },
        "id": "2660a3b4",
        "papermill": {
          "duration": 0.024529,
          "end_time": "2023-07-01T17:01:06.092213",
          "exception": false,
          "start_time": "2023-07-01T17:01:06.067684",
          "status": "completed"
        },
        "tags": []
      },
      "outputs": [],
      "source": [
        "df_train = df_train.dropna()\n",
        "df_test = df_test.dropna()\n",
        "\n",
        "# reset indexing\n",
        "df_train = df_train.reset_index(drop=True)"
      ]
    },
    {
      "cell_type": "code",
      "execution_count": 27,
      "id": "0b827f60",
      "metadata": {
        "colab": {
          "base_uri": "https://localhost:8080/"
        },
        "execution": {
          "iopub.execute_input": "2023-07-01T17:01:06.110318Z",
          "iopub.status.busy": "2023-07-01T17:01:06.108893Z",
          "iopub.status.idle": "2023-07-01T17:01:06.121864Z",
          "shell.execute_reply": "2023-07-01T17:01:06.120902Z"
        },
        "id": "0b827f60",
        "outputId": "b4eea7ef-81ec-43f8-c7ec-4d74aa5def33",
        "papermill": {
          "duration": 0.023875,
          "end_time": "2023-07-01T17:01:06.123938",
          "exception": false,
          "start_time": "2023-07-01T17:01:06.100063",
          "status": "completed"
        },
        "tags": []
      },
      "outputs": [
        {
          "name": "stdout",
          "output_type": "stream",
          "text": [
            "Train Dataset - Missing Values:\n",
            "text     0\n",
            "label    0\n",
            "dtype: int64\n",
            "\n",
            "Test Dataset - Missing Values:\n",
            "text     0\n",
            "label    0\n",
            "dtype: int64\n",
            "Train Dataset Size: (1995, 2)\n",
            "Test Dataset Size: (5999, 2)\n"
          ]
        }
      ],
      "source": [
        "# Check for missing values in the train dataset\n",
        "train_na = df_train.isna().sum()\n",
        "print('Train Dataset - Missing Values:')\n",
        "print(train_na)\n",
        "\n",
        "test_na = df_test.isna().sum()\n",
        "print('\\nTest Dataset - Missing Values:')\n",
        "print(test_na)\n",
        "\n",
        "print(\"Train Dataset Size:\",df_train.shape )\n",
        "print(\"Test Dataset Size:\", df_test.shape)"
      ]
    },
    {
      "cell_type": "code",
      "execution_count": 28,
      "id": "a95fafd1",
      "metadata": {
        "colab": {
          "base_uri": "https://localhost:8080/"
        },
        "execution": {
          "iopub.execute_input": "2023-07-01T17:01:06.140515Z",
          "iopub.status.busy": "2023-07-01T17:01:06.140212Z",
          "iopub.status.idle": "2023-07-01T17:01:06.155218Z",
          "shell.execute_reply": "2023-07-01T17:01:06.154201Z"
        },
        "id": "a95fafd1",
        "outputId": "76d2f345-c480-43df-cb59-5b50da6ae516",
        "papermill": {
          "duration": 0.026441,
          "end_time": "2023-07-01T17:01:06.1582",
          "exception": false,
          "start_time": "2023-07-01T17:01:06.131759",
          "status": "completed"
        },
        "tags": []
      },
      "outputs": [
        {
          "name": "stdout",
          "output_type": "stream",
          "text": [
            "['1' '0' '2' 'o' '-']\n",
            "['2' '1' '0' '20' '11' '-' 'o' '--']\n"
          ]
        }
      ],
      "source": [
        "# remove unwanted datas\n",
        "print(df_train['label'].unique())\n",
        "print(df_test['label'].unique())\n",
        "\n",
        "valid_labels = ['0', '1', '2']\n",
        "\n",
        "\n",
        "# Filter train dataset\n",
        "df_train = df_train.loc[df_train['label'].isin(valid_labels)]\n",
        "df_train.loc[:, 'label'] = df_train['label'].astype(int)\n",
        "\n",
        "# Filter test dataset\n",
        "df_test = df_test.loc[df_test['label'].isin(valid_labels)]\n",
        "df_test.loc[:, 'label'] = df_test['label'].astype(int)\n"
      ]
    },
    {
      "cell_type": "code",
      "execution_count": 29,
      "id": "a535c7a3",
      "metadata": {
        "colab": {
          "base_uri": "https://localhost:8080/"
        },
        "execution": {
          "iopub.execute_input": "2023-07-01T17:01:06.175774Z",
          "iopub.status.busy": "2023-07-01T17:01:06.174922Z",
          "iopub.status.idle": "2023-07-01T17:01:06.18248Z",
          "shell.execute_reply": "2023-07-01T17:01:06.181594Z"
        },
        "id": "a535c7a3",
        "outputId": "34c70da2-a66b-4952-81d8-e86a8ae2645a",
        "papermill": {
          "duration": 0.01823,
          "end_time": "2023-07-01T17:01:06.184525",
          "exception": false,
          "start_time": "2023-07-01T17:01:06.166295",
          "status": "completed"
        },
        "tags": []
      },
      "outputs": [
        {
          "name": "stdout",
          "output_type": "stream",
          "text": [
            "0       1\n",
            "1       1\n",
            "2       1\n",
            "3       1\n",
            "4       1\n",
            "       ..\n",
            "1990    0\n",
            "1991    0\n",
            "1992    0\n",
            "1993    0\n",
            "1994    0\n",
            "Name: label, Length: 1993, dtype: object\n",
            "0       2\n",
            "1       1\n",
            "2       2\n",
            "3       2\n",
            "4       1\n",
            "       ..\n",
            "5995    1\n",
            "5996    2\n",
            "5997    2\n",
            "5998    1\n",
            "5999    1\n",
            "Name: label, Length: 5990, dtype: object\n"
          ]
        }
      ],
      "source": [
        "print(df_train['label'])\n",
        "print(df_test['label'])"
      ]
    },
    {
      "cell_type": "code",
      "execution_count": 30,
      "id": "55e8f582",
      "metadata": {
        "execution": {
          "iopub.execute_input": "2023-07-01T17:01:06.202111Z",
          "iopub.status.busy": "2023-07-01T17:01:06.2015Z",
          "iopub.status.idle": "2023-07-01T17:01:06.205505Z",
          "shell.execute_reply": "2023-07-01T17:01:06.20461Z"
        },
        "id": "55e8f582",
        "papermill": {
          "duration": 0.014869,
          "end_time": "2023-07-01T17:01:06.207574",
          "exception": false,
          "start_time": "2023-07-01T17:01:06.192705",
          "status": "completed"
        },
        "tags": []
      },
      "outputs": [],
      "source": [
        "label_encoder = LabelEncoder()"
      ]
    },
    {
      "cell_type": "code",
      "execution_count": 31,
      "id": "5ed827bd",
      "metadata": {
        "colab": {
          "base_uri": "https://localhost:8080/",
          "height": 145,
          "referenced_widgets": [
            "89faebb242534feaa98b2ba9cc1071cc",
            "6e1bf13ae5da483e8d8cb75edec912ab",
            "aae238e885fd404db49eaeeceffeabc3",
            "f9ab8463f6d34d0282cca51c5df4afd9",
            "83acf756cf604a1f8437ded5e43b5237",
            "ee8e58ed7b0740adbcaec06e562b629b",
            "4a99521e7da34fd285bdb2d2acb38fd4",
            "b6f93356b3f242a286ff86e6bd3b58cd",
            "392b5b4e6a2442df80c6e7b498e83d0e",
            "1bfd0e51b0424af587acc237a273a764",
            "8621a80aa1e34176a5c5504e6ca86373",
            "3013b6f329ad486d80bd479b736f57fa",
            "e50f82c6b4b1463cb7c23e0c5573e483",
            "c6f676b493224ab596116d2730ee33ff",
            "802ac18c496d4c3ea0f41ae2e24c5e96",
            "3b3b0f7dfa654339ab4c27e4d90cb693",
            "f85ff5fc8e92429f84c99829790d9e8f",
            "a78d7d3a937f48c395da534183338697",
            "290f5d01c0c3439ba7a291fac6a75a5e",
            "93c16e0c89fb43439f5b2e6475b1a9d9",
            "6ce4eda0725d4d12ad190427fcc16b5e",
            "2524c7a962044258ad41f12d274e64b6",
            "3b5a797b48d844e5a24c712d5efc2517",
            "4f424d302140442886fc7dfbc4c9afbf",
            "bca9878f0b194c42b32f41cb9238d10c",
            "e0859d5451b3468d8960e3cddb57d992",
            "f391d7195eed4a309f7c4726239d31f3",
            "0a86c05682fa4abc889b15913f30b4f7",
            "f37d0f29afe54c719c4af240feae76e9",
            "5b64b5e32bf54e538dd2f0962933f41e",
            "461831df133843559994cc173db007ed",
            "3cd5f0316c434c379440f691d089af8f",
            "9c106d14f8ec43db995c4d84df9d1f45",
            "93e8c548200245f98910f0950c459fba",
            "4d3bf18709be4ea1a5a2de945b73e706",
            "6e130dd6999e4113ad58760ae9c297c4",
            "a0ed9186bdd14a4d900ebed0f366d7c3",
            "29dbe89a90e342ce9ae3fceef9323526",
            "5c16c4485f95487785becaa7b41b1541",
            "65fe3020c40c482e8ab52b5bd45b8487",
            "a8ef6a13a0144b77a81abef89a38eede",
            "545aee2f94d1434c808c8c7a194ab59d",
            "f219d05197ca4f649e70a10cd5674693",
            "e5b11eb8ea08472fb317f9b71885548e"
          ]
        },
        "execution": {
          "iopub.execute_input": "2023-07-01T17:01:06.224944Z",
          "iopub.status.busy": "2023-07-01T17:01:06.224414Z",
          "iopub.status.idle": "2023-07-01T17:01:07.014204Z",
          "shell.execute_reply": "2023-07-01T17:01:07.013168Z"
        },
        "id": "5ed827bd",
        "outputId": "afbd9330-0b6f-4d85-96ec-58ec3d14a79f",
        "papermill": {
          "duration": 0.801239,
          "end_time": "2023-07-01T17:01:07.016727",
          "exception": false,
          "start_time": "2023-07-01T17:01:06.215488",
          "status": "completed"
        },
        "tags": []
      },
      "outputs": [],
      "source": [
        "tokenizer = AutoTokenizer.from_pretrained('bert-base-multilingual-cased')"
      ]
    },
    {
      "cell_type": "code",
      "execution_count": 32,
      "id": "5fb273d1",
      "metadata": {
        "colab": {
          "base_uri": "https://localhost:8080/"
        },
        "execution": {
          "iopub.execute_input": "2023-07-01T17:01:07.03639Z",
          "iopub.status.busy": "2023-07-01T17:01:07.036089Z",
          "iopub.status.idle": "2023-07-01T17:01:07.045817Z",
          "shell.execute_reply": "2023-07-01T17:01:07.044875Z"
        },
        "id": "5fb273d1",
        "outputId": "d23c5a54-b3a6-4d30-eb89-9fdd037f01fc",
        "papermill": {
          "duration": 0.022185,
          "end_time": "2023-07-01T17:01:07.048197",
          "exception": false,
          "start_time": "2023-07-01T17:01:07.026012",
          "status": "completed"
        },
        "tags": []
      },
      "outputs": [
        {
          "name": "stdout",
          "output_type": "stream",
          "text": [
            "<class 'pandas.core.series.Series'>\n",
            "0    असाध्यै राम्रो कार्यक्रम आयोजना गरिएको छ हजुरह...\n",
            "1    राम्रो कार्यक्रम, पहिलो सिजनले समेटेको कार्यक्...\n",
            "2    महानायक राजेश हमाल तपाई साँच्चै धन्यवादको पात्...\n",
            "3    जातको प्रष्न बाट सबै जनालाई सकरात्मक सन्देश मि...\n",
            "4    बहसको सुरुवात भएको छ, अझै जोडदार रुपमा गर्नुपर...\n",
            "Name: text, dtype: object\n"
          ]
        }
      ],
      "source": [
        "df_train['text'] = df_train['text'].tolist()\n",
        "\n",
        "print(type(df_train['text']))\n",
        "print(df_train['text'].head())"
      ]
    },
    {
      "cell_type": "code",
      "execution_count": 33,
      "id": "e4e815e0",
      "metadata": {
        "execution": {
          "iopub.execute_input": "2023-07-01T17:01:07.067146Z",
          "iopub.status.busy": "2023-07-01T17:01:07.066856Z",
          "iopub.status.idle": "2023-07-01T17:01:11.11777Z",
          "shell.execute_reply": "2023-07-01T17:01:11.116778Z"
        },
        "id": "e4e815e0",
        "papermill": {
          "duration": 4.063156,
          "end_time": "2023-07-01T17:01:11.12024",
          "exception": false,
          "start_time": "2023-07-01T17:01:07.057084",
          "status": "completed"
        },
        "tags": []
      },
      "outputs": [],
      "source": [
        "# tokenizing training data\n",
        "train_tokens = tokenizer.batch_encode_plus(\n",
        "    df_train['text'].tolist(),\n",
        "    padding = True,\n",
        "    truncation = True,\n",
        "    max_length = 512,\n",
        "    return_tensors = 'pt'\n",
        ")\n",
        "\n",
        "train_labels = label_encoder.fit_transform(df_train['label'])\n"
      ]
    },
    {
      "cell_type": "code",
      "execution_count": 34,
      "id": "2366a1bb",
      "metadata": {
        "colab": {
          "base_uri": "https://localhost:8080/"
        },
        "execution": {
          "iopub.execute_input": "2023-07-01T17:01:11.141047Z",
          "iopub.status.busy": "2023-07-01T17:01:11.140377Z",
          "iopub.status.idle": "2023-07-01T17:01:11.147255Z",
          "shell.execute_reply": "2023-07-01T17:01:11.146202Z"
        },
        "id": "2366a1bb",
        "outputId": "604c33fc-9507-4a85-add0-512ff682a00f",
        "papermill": {
          "duration": 0.020032,
          "end_time": "2023-07-01T17:01:11.149644",
          "exception": false,
          "start_time": "2023-07-01T17:01:11.129612",
          "status": "completed"
        },
        "tags": []
      },
      "outputs": [
        {
          "name": "stdout",
          "output_type": "stream",
          "text": [
            "[1 1 1 ... 0 0 0]\n"
          ]
        }
      ],
      "source": [
        "print(train_labels)"
      ]
    },
    {
      "cell_type": "code",
      "execution_count": 35,
      "id": "7ac141e3",
      "metadata": {
        "execution": {
          "iopub.execute_input": "2023-07-01T17:01:11.170897Z",
          "iopub.status.busy": "2023-07-01T17:01:11.170099Z",
          "iopub.status.idle": "2023-07-01T17:01:12.593966Z",
          "shell.execute_reply": "2023-07-01T17:01:12.592951Z"
        },
        "id": "7ac141e3",
        "papermill": {
          "duration": 1.436705,
          "end_time": "2023-07-01T17:01:12.596605",
          "exception": false,
          "start_time": "2023-07-01T17:01:11.1599",
          "status": "completed"
        },
        "tags": []
      },
      "outputs": [],
      "source": [
        "# tokenizing test data\n",
        "test_tokens = tokenizer.batch_encode_plus(\n",
        "    df_test['text'].tolist(),\n",
        "    padding=True,\n",
        "    truncation=True,\n",
        "    max_length=512,\n",
        "    return_tensors='pt'\n",
        ")\n",
        "\n",
        "test_labels = label_encoder.fit_transform(df_test['label'])"
      ]
    },
    {
      "cell_type": "code",
      "execution_count": 36,
      "id": "60b8d6b2",
      "metadata": {
        "colab": {
          "base_uri": "https://localhost:8080/"
        },
        "execution": {
          "iopub.execute_input": "2023-07-01T17:01:12.618827Z",
          "iopub.status.busy": "2023-07-01T17:01:12.617045Z",
          "iopub.status.idle": "2023-07-01T17:01:12.623779Z",
          "shell.execute_reply": "2023-07-01T17:01:12.62261Z"
        },
        "id": "60b8d6b2",
        "outputId": "c3b15c29-1906-4fb7-e7b0-67bb311c26eb",
        "papermill": {
          "duration": 0.020695,
          "end_time": "2023-07-01T17:01:12.626971",
          "exception": false,
          "start_time": "2023-07-01T17:01:12.606276",
          "status": "completed"
        },
        "tags": []
      },
      "outputs": [
        {
          "name": "stdout",
          "output_type": "stream",
          "text": [
            "[2 1 2 ... 2 1 1]\n"
          ]
        }
      ],
      "source": [
        "print(test_labels)"
      ]
    },
    {
      "cell_type": "code",
      "execution_count": 37,
      "id": "219b4b3a",
      "metadata": {
        "colab": {
          "base_uri": "https://localhost:8080/"
        },
        "execution": {
          "iopub.execute_input": "2023-07-01T17:01:12.648492Z",
          "iopub.status.busy": "2023-07-01T17:01:12.64762Z",
          "iopub.status.idle": "2023-07-01T17:01:12.705259Z",
          "shell.execute_reply": "2023-07-01T17:01:12.704194Z"
        },
        "id": "219b4b3a",
        "outputId": "da67175f-6cf0-4df3-bf46-47042e7a7c0b",
        "papermill": {
          "duration": 0.070559,
          "end_time": "2023-07-01T17:01:12.70784",
          "exception": false,
          "start_time": "2023-07-01T17:01:12.637281",
          "status": "completed"
        },
        "tags": []
      },
      "outputs": [
        {
          "name": "stderr",
          "output_type": "stream",
          "text": [
            "/var/folders/pn/h3qn2b790rg8mt5rsn7gsgdc0000gn/T/ipykernel_80517/1484234934.py:2: UserWarning: To copy construct from a tensor, it is recommended to use sourceTensor.detach().clone() or sourceTensor.detach().clone().requires_grad_(True), rather than torch.tensor(sourceTensor).\n",
            "  train_input_ids = torch.tensor(train_tokens['input_ids'])\n",
            "/var/folders/pn/h3qn2b790rg8mt5rsn7gsgdc0000gn/T/ipykernel_80517/1484234934.py:3: UserWarning: To copy construct from a tensor, it is recommended to use sourceTensor.detach().clone() or sourceTensor.detach().clone().requires_grad_(True), rather than torch.tensor(sourceTensor).\n",
            "  train_attention_masks = torch.tensor(train_tokens['attention_mask'])\n",
            "/var/folders/pn/h3qn2b790rg8mt5rsn7gsgdc0000gn/T/ipykernel_80517/1484234934.py:6: UserWarning: To copy construct from a tensor, it is recommended to use sourceTensor.detach().clone() or sourceTensor.detach().clone().requires_grad_(True), rather than torch.tensor(sourceTensor).\n",
            "  test_input_ids = torch.tensor(test_tokens['input_ids'])\n",
            "/var/folders/pn/h3qn2b790rg8mt5rsn7gsgdc0000gn/T/ipykernel_80517/1484234934.py:7: UserWarning: To copy construct from a tensor, it is recommended to use sourceTensor.detach().clone() or sourceTensor.detach().clone().requires_grad_(True), rather than torch.tensor(sourceTensor).\n",
            "  test_attention_masks = torch.tensor(test_tokens['attention_mask'])\n"
          ]
        }
      ],
      "source": [
        "# Convert input sequences to tensors\n",
        "train_input_ids = torch.tensor(train_tokens['input_ids'])\n",
        "train_attention_masks = torch.tensor(train_tokens['attention_mask'])\n",
        "train_labels = torch.tensor(df_train['label'].values.astype(np.int64)) # Convert to np.int64 before creating tensor\n",
        "\n",
        "test_input_ids = torch.tensor(test_tokens['input_ids'])\n",
        "test_attention_masks = torch.tensor(test_tokens['attention_mask'])\n",
        "test_labels = torch.tensor(df_test['label'].values.astype(np.int64)) # Convert to np.int64 before creating tensor\n",
        "\n",
        "# labels - This part might be redundant now, as labels are already converted above\n",
        "# train_labels = torch.tensor(df_train['label'].values)\n",
        "# test_labels = torch.tensor(df_test['label'].values)\n",
        "\n",
        "\n",
        "# Create a TensorDataset\n",
        "train_dataset = TensorDataset(train_input_ids, train_attention_masks, train_labels)\n",
        "test_dataset = TensorDataset(test_input_ids, test_attention_masks, test_labels)"
      ]
    },
    {
      "cell_type": "code",
      "execution_count": 38,
      "id": "675c6b95",
      "metadata": {
        "colab": {
          "base_uri": "https://localhost:8080/",
          "height": 186
        },
        "execution": {
          "iopub.execute_input": "2023-07-01T17:01:12.727585Z",
          "iopub.status.busy": "2023-07-01T17:01:12.727284Z",
          "iopub.status.idle": "2023-07-01T17:01:12.733094Z",
          "shell.execute_reply": "2023-07-01T17:01:12.732192Z"
        },
        "id": "675c6b95",
        "outputId": "5bcadf21-7a4a-40cc-9247-e16a8184a940",
        "papermill": {
          "duration": 0.017884,
          "end_time": "2023-07-01T17:01:12.735064",
          "exception": false,
          "start_time": "2023-07-01T17:01:12.71718",
          "status": "completed"
        },
        "tags": []
      },
      "outputs": [
        {
          "data": {
            "text/plain": [
              "torch.utils.data.dataset.TensorDataset"
            ]
          },
          "execution_count": 38,
          "metadata": {},
          "output_type": "execute_result"
        }
      ],
      "source": [
        "type(train_dataset)"
      ]
    },
    {
      "cell_type": "code",
      "execution_count": 39,
      "id": "c95d5551",
      "metadata": {
        "colab": {
          "base_uri": "https://localhost:8080/",
          "height": 138,
          "referenced_widgets": [
            "41a2e07b18bb4348b4fd7c6212c456ae",
            "04fd73463ab14cabbb0838056bfe97c1",
            "479fcd1a32694e7c99ee438ac913a859",
            "07d173d6fb6e4de8bc503edf25290d26",
            "85d3fa0157b54b5592de2b706a50808c",
            "efa6fc4db54a47bc9dd3a873e0acfa63",
            "13f8418ccc9b4f0388ba7c0462d482f8",
            "e5f3b8f0626a4ebdaf0f2f5c7f9ce99a",
            "cc227fa9c2f644d0a474b6785aabf658",
            "eaa73ba3fd9d43c4bc3a46ed9290fd91",
            "40afcf985fa145558b42156a3d7156f5"
          ]
        },
        "execution": {
          "iopub.execute_input": "2023-07-01T17:01:12.75574Z",
          "iopub.status.busy": "2023-07-01T17:01:12.754961Z",
          "iopub.status.idle": "2023-07-01T17:01:18.185741Z",
          "shell.execute_reply": "2023-07-01T17:01:18.184759Z"
        },
        "id": "c95d5551",
        "outputId": "d3f7a9b2-97dd-4a9c-cead-1aaf37e373e2",
        "papermill": {
          "duration": 5.443217,
          "end_time": "2023-07-01T17:01:18.187884",
          "exception": false,
          "start_time": "2023-07-01T17:01:12.744667",
          "status": "completed"
        },
        "tags": []
      },
      "outputs": [
        {
          "name": "stderr",
          "output_type": "stream",
          "text": [
            "Xet Storage is enabled for this repo, but the 'hf_xet' package is not installed. Falling back to regular HTTP download. For better performance, install the package with: `pip install huggingface_hub[hf_xet]` or `pip install hf_xet`\n",
            "Some weights of BertForSequenceClassification were not initialized from the model checkpoint at bert-base-multilingual-cased and are newly initialized: ['classifier.bias', 'classifier.weight']\n",
            "You should probably TRAIN this model on a down-stream task to be able to use it for predictions and inference.\n"
          ]
        }
      ],
      "source": [
        "model = BertForSequenceClassification.from_pretrained('bert-base-multilingual-cased', num_labels=3)"
      ]
    },
    {
      "cell_type": "code",
      "execution_count": 40,
      "id": "eab66d6f",
      "metadata": {
        "colab": {
          "base_uri": "https://localhost:8080/"
        },
        "execution": {
          "iopub.execute_input": "2023-07-01T17:01:18.211529Z",
          "iopub.status.busy": "2023-07-01T17:01:18.209815Z",
          "iopub.status.idle": "2023-07-01T17:01:23.284463Z",
          "shell.execute_reply": "2023-07-01T17:01:23.283487Z"
        },
        "id": "eab66d6f",
        "outputId": "c33eedc3-da08-4d2a-e9c1-cd4cb39a5024",
        "papermill": {
          "duration": 5.088328,
          "end_time": "2023-07-01T17:01:23.286773",
          "exception": false,
          "start_time": "2023-07-01T17:01:18.198445",
          "status": "completed"
        },
        "tags": []
      },
      "outputs": [
        {
          "data": {
            "text/plain": [
              "BertForSequenceClassification(\n",
              "  (bert): BertModel(\n",
              "    (embeddings): BertEmbeddings(\n",
              "      (word_embeddings): Embedding(119547, 768, padding_idx=0)\n",
              "      (position_embeddings): Embedding(512, 768)\n",
              "      (token_type_embeddings): Embedding(2, 768)\n",
              "      (LayerNorm): LayerNorm((768,), eps=1e-12, elementwise_affine=True)\n",
              "      (dropout): Dropout(p=0.1, inplace=False)\n",
              "    )\n",
              "    (encoder): BertEncoder(\n",
              "      (layer): ModuleList(\n",
              "        (0-11): 12 x BertLayer(\n",
              "          (attention): BertAttention(\n",
              "            (self): BertSdpaSelfAttention(\n",
              "              (query): Linear(in_features=768, out_features=768, bias=True)\n",
              "              (key): Linear(in_features=768, out_features=768, bias=True)\n",
              "              (value): Linear(in_features=768, out_features=768, bias=True)\n",
              "              (dropout): Dropout(p=0.1, inplace=False)\n",
              "            )\n",
              "            (output): BertSelfOutput(\n",
              "              (dense): Linear(in_features=768, out_features=768, bias=True)\n",
              "              (LayerNorm): LayerNorm((768,), eps=1e-12, elementwise_affine=True)\n",
              "              (dropout): Dropout(p=0.1, inplace=False)\n",
              "            )\n",
              "          )\n",
              "          (intermediate): BertIntermediate(\n",
              "            (dense): Linear(in_features=768, out_features=3072, bias=True)\n",
              "            (intermediate_act_fn): GELUActivation()\n",
              "          )\n",
              "          (output): BertOutput(\n",
              "            (dense): Linear(in_features=3072, out_features=768, bias=True)\n",
              "            (LayerNorm): LayerNorm((768,), eps=1e-12, elementwise_affine=True)\n",
              "            (dropout): Dropout(p=0.1, inplace=False)\n",
              "          )\n",
              "        )\n",
              "      )\n",
              "    )\n",
              "    (pooler): BertPooler(\n",
              "      (dense): Linear(in_features=768, out_features=768, bias=True)\n",
              "      (activation): Tanh()\n",
              "    )\n",
              "  )\n",
              "  (dropout): Dropout(p=0.1, inplace=False)\n",
              "  (classifier): Linear(in_features=768, out_features=3, bias=True)\n",
              ")"
            ]
          },
          "execution_count": 40,
          "metadata": {},
          "output_type": "execute_result"
        }
      ],
      "source": [
        "# Setting device\n",
        "device = torch.device('cuda' if torch.cuda.is_available() else 'cpu')\n",
        "model.to(device)"
      ]
    },
    {
      "cell_type": "code",
      "execution_count": 41,
      "id": "58b1ee63",
      "metadata": {
        "execution": {
          "iopub.execute_input": "2023-07-01T17:01:23.309905Z",
          "iopub.status.busy": "2023-07-01T17:01:23.309579Z",
          "iopub.status.idle": "2023-07-01T17:01:23.320214Z",
          "shell.execute_reply": "2023-07-01T17:01:23.319052Z"
        },
        "id": "58b1ee63",
        "papermill": {
          "duration": 0.024245,
          "end_time": "2023-07-01T17:01:23.322287",
          "exception": false,
          "start_time": "2023-07-01T17:01:23.298042",
          "status": "completed"
        },
        "tags": []
      },
      "outputs": [],
      "source": [
        "batch_size = 16\n",
        "learning_rate = 2e-5\n",
        "epochs = 10\n",
        "\n",
        "train_dataloader = DataLoader(train_dataset, sampler=RandomSampler(train_dataset), batch_size=batch_size)\n",
        "optimizer = AdamW(model.parameters(), lr=learning_rate, eps=1e-8)"
      ]
    },
    {
      "cell_type": "code",
      "execution_count": null,
      "id": "f8765b26",
      "metadata": {
        "colab": {
          "base_uri": "https://localhost:8080/"
        },
        "execution": {
          "iopub.execute_input": "2023-07-01T17:01:23.343611Z",
          "iopub.status.busy": "2023-07-01T17:01:23.342697Z",
          "iopub.status.idle": "2023-07-01T18:21:07.505316Z",
          "shell.execute_reply": "2023-07-01T18:21:07.504331Z"
        },
        "id": "f8765b26",
        "outputId": "f75c68e5-e165-4925-ec02-45f04b3f1f5d",
        "papermill": {
          "duration": 4784.178922,
          "end_time": "2023-07-01T18:21:07.510914",
          "exception": false,
          "start_time": "2023-07-01T17:01:23.331992",
          "status": "completed"
        },
        "tags": []
      },
      "outputs": [
        {
          "name": "stderr",
          "output_type": "stream",
          "text": [
            "Epoch 1:  14%|█▍        | 18/125 [04:42<26:57, 15.11s/it, Training Loss=1.03] "
          ]
        }
      ],
      "source": [
        "from tqdm import tqdm\n",
        "\n",
        "# Setting random seed for reproducibility\n",
        "seed = 42\n",
        "torch.manual_seed(seed)\n",
        "torch.cuda.manual_seed_all(seed)\n",
        "np.random.seed(seed)\n",
        "\n",
        "# Training\n",
        "model.train()\n",
        "\n",
        "# Initialize lists to store loss and accuracy values\n",
        "loss_values = []\n",
        "accuracy_values = []\n",
        "\n",
        "for epoch in range(epochs):\n",
        "    total_loss = 0\n",
        "    correct_predictions = 0\n",
        "    total_predictions = 0\n",
        "    progress_bar = tqdm(train_dataloader, desc=f'Epoch {epoch+1}')\n",
        "\n",
        "    for batch in progress_bar:\n",
        "        batch = tuple(t.to(device) for t in batch)\n",
        "        inputs = {\n",
        "            'input_ids': batch[0],\n",
        "            'attention_mask': batch[1],\n",
        "            'labels': batch[2]\n",
        "        }\n",
        "\n",
        "        optimizer.zero_grad()\n",
        "        outputs = model(**inputs)\n",
        "        loss = outputs.loss\n",
        "        total_loss += loss.item()\n",
        "\n",
        "        # Calculate accuracy\n",
        "        predicted_labels = torch.argmax(outputs.logits, dim=1)\n",
        "        correct_predictions += (predicted_labels == batch[2]).sum().item()\n",
        "        total_predictions += batch[0].size(0)\n",
        "\n",
        "        loss.backward()\n",
        "        torch.nn.utils.clip_grad_norm_(model.parameters(), max_norm=1.0)  # Apply gradient clipping if necessary\n",
        "        optimizer.step()\n",
        "\n",
        "        progress_bar.set_postfix({'Training Loss': loss.item()})\n",
        "\n",
        "    average_loss = total_loss / len(train_dataloader)\n",
        "    accuracy = correct_predictions / total_predictions\n",
        "\n",
        "    # Store loss and accuracy values\n",
        "    loss_values.append(average_loss)\n",
        "    accuracy_values.append(accuracy)\n",
        "\n",
        "    print(f'Epoch {epoch+1}: Average Loss: {average_loss:.4f} - Accuracy: {accuracy:.4f}')\n"
      ]
    },
    {
      "cell_type": "code",
      "execution_count": null,
      "id": "d89d6384",
      "metadata": {
        "execution": {
          "iopub.execute_input": "2023-07-01T18:21:08.794461Z",
          "iopub.status.busy": "2023-07-01T18:21:08.7941Z",
          "iopub.status.idle": "2023-07-01T18:21:09.116529Z",
          "shell.execute_reply": "2023-07-01T18:21:09.115513Z"
        },
        "id": "d89d6384",
        "papermill": {
          "duration": 1.035014,
          "end_time": "2023-07-01T18:21:09.118793",
          "exception": false,
          "start_time": "2023-07-01T18:21:08.083779",
          "status": "completed"
        },
        "tags": []
      },
      "outputs": [],
      "source": [
        "epochs = range(1, epochs+1)\n",
        "\n",
        "# Loss graph\n",
        "plt.figure(figsize=(10, 5))\n",
        "plt.plot(epochs, loss_values, 'b', label='Training Loss')\n",
        "plt.title('Training Loss')\n",
        "plt.xlabel('Epochs')\n",
        "plt.ylabel('Loss')\n",
        "plt.legend()\n",
        "plt.show()"
      ]
    },
    {
      "cell_type": "code",
      "execution_count": null,
      "id": "16994a8d",
      "metadata": {
        "execution": {
          "iopub.execute_input": "2023-07-01T18:21:10.315842Z",
          "iopub.status.busy": "2023-07-01T18:21:10.314745Z",
          "iopub.status.idle": "2023-07-01T18:21:10.72358Z",
          "shell.execute_reply": "2023-07-01T18:21:10.722671Z"
        },
        "id": "16994a8d",
        "papermill": {
          "duration": 1.015278,
          "end_time": "2023-07-01T18:21:10.726341",
          "exception": false,
          "start_time": "2023-07-01T18:21:09.711063",
          "status": "completed"
        },
        "tags": []
      },
      "outputs": [],
      "source": [
        "# Accuracy graph\n",
        "plt.figure(figsize=(10, 5))\n",
        "plt.plot(epochs, accuracy_values, 'r', label='Training Accuracy')\n",
        "plt.title('Training Accuracy')\n",
        "plt.xlabel('Epochs')\n",
        "plt.ylabel('Accuracy')\n",
        "plt.legend()\n",
        "plt.show()"
      ]
    },
    {
      "cell_type": "code",
      "execution_count": null,
      "id": "add97cb8",
      "metadata": {
        "execution": {
          "iopub.execute_input": "2023-07-01T18:21:12.245769Z",
          "iopub.status.busy": "2023-07-01T18:21:12.245397Z",
          "iopub.status.idle": "2023-07-01T18:21:13.393279Z",
          "shell.execute_reply": "2023-07-01T18:21:13.391448Z"
        },
        "id": "add97cb8",
        "papermill": {
          "duration": 1.813027,
          "end_time": "2023-07-01T18:21:13.395628",
          "exception": false,
          "start_time": "2023-07-01T18:21:11.582601",
          "status": "completed"
        },
        "tags": []
      },
      "outputs": [],
      "source": [
        "# Saving the trained model\n",
        "output_dir = './trained_model'\n",
        "os.makedirs(output_dir, exist_ok=True)\n",
        "model.save_pretrained(output_dir)\n",
        "\n",
        "print('Training completed!')"
      ]
    },
    {
      "cell_type": "code",
      "execution_count": null,
      "id": "ecadfbd4",
      "metadata": {
        "execution": {
          "iopub.execute_input": "2023-07-01T18:21:14.615974Z",
          "iopub.status.busy": "2023-07-01T18:21:14.615586Z",
          "iopub.status.idle": "2023-07-01T18:21:57.933409Z",
          "shell.execute_reply": "2023-07-01T18:21:57.932478Z"
        },
        "id": "ecadfbd4",
        "papermill": {
          "duration": 44.53509,
          "end_time": "2023-07-01T18:21:58.566177",
          "exception": false,
          "start_time": "2023-07-01T18:21:14.031087",
          "status": "completed"
        },
        "tags": []
      },
      "outputs": [],
      "source": [
        "# SAVING MODEL\n",
        "model.save_pretrained(\"my-model\")\n",
        "\n",
        "# Download\n",
        "import shutil\n",
        "\n",
        "model_directory = \"my-model\"\n",
        "\n",
        "# Zip the model directory\n",
        "shutil.make_archive(\"my-model\", 'zip', model_directory)"
      ]
    }
  ],
  "metadata": {
    "colab": {
      "provenance": [],
      "toc_visible": true
    },
    "kernelspec": {
      "display_name": "venv",
      "language": "python",
      "name": "python3"
    },
    "language_info": {
      "codemirror_mode": {
        "name": "ipython",
        "version": 3
      },
      "file_extension": ".py",
      "mimetype": "text/x-python",
      "name": "python",
      "nbconvert_exporter": "python",
      "pygments_lexer": "ipython3",
      "version": "3.13.3"
    },
    "papermill": {
      "default_parameters": {},
      "duration": 4881.354772,
      "end_time": "2023-07-01T18:22:02.492114",
      "environment_variables": {},
      "exception": null,
      "input_path": "__notebook__.ipynb",
      "output_path": "__notebook__.ipynb",
      "parameters": {},
      "start_time": "2023-07-01T17:00:41.137342",
      "version": "2.4.0"
    },
    "widgets": {
      "application/vnd.jupyter.widget-state+json": {
        "04fd73463ab14cabbb0838056bfe97c1": {
          "model_module": "@jupyter-widgets/controls",
          "model_module_version": "1.5.0",
          "model_name": "HTMLModel",
          "state": {
            "_dom_classes": [],
            "_model_module": "@jupyter-widgets/controls",
            "_model_module_version": "1.5.0",
            "_model_name": "HTMLModel",
            "_view_count": null,
            "_view_module": "@jupyter-widgets/controls",
            "_view_module_version": "1.5.0",
            "_view_name": "HTMLView",
            "description": "",
            "description_tooltip": null,
            "layout": "IPY_MODEL_efa6fc4db54a47bc9dd3a873e0acfa63",
            "placeholder": "​",
            "style": "IPY_MODEL_13f8418ccc9b4f0388ba7c0462d482f8",
            "value": "model.safetensors: 100%"
          }
        },
        "07d173d6fb6e4de8bc503edf25290d26": {
          "model_module": "@jupyter-widgets/controls",
          "model_module_version": "1.5.0",
          "model_name": "HTMLModel",
          "state": {
            "_dom_classes": [],
            "_model_module": "@jupyter-widgets/controls",
            "_model_module_version": "1.5.0",
            "_model_name": "HTMLModel",
            "_view_count": null,
            "_view_module": "@jupyter-widgets/controls",
            "_view_module_version": "1.5.0",
            "_view_name": "HTMLView",
            "description": "",
            "description_tooltip": null,
            "layout": "IPY_MODEL_eaa73ba3fd9d43c4bc3a46ed9290fd91",
            "placeholder": "​",
            "style": "IPY_MODEL_40afcf985fa145558b42156a3d7156f5",
            "value": " 714M/714M [00:06&lt;00:00, 188MB/s]"
          }
        },
        "0a86c05682fa4abc889b15913f30b4f7": {
          "model_module": "@jupyter-widgets/base",
          "model_module_version": "1.2.0",
          "model_name": "LayoutModel",
          "state": {
            "_model_module": "@jupyter-widgets/base",
            "_model_module_version": "1.2.0",
            "_model_name": "LayoutModel",
            "_view_count": null,
            "_view_module": "@jupyter-widgets/base",
            "_view_module_version": "1.2.0",
            "_view_name": "LayoutView",
            "align_content": null,
            "align_items": null,
            "align_self": null,
            "border": null,
            "bottom": null,
            "display": null,
            "flex": null,
            "flex_flow": null,
            "grid_area": null,
            "grid_auto_columns": null,
            "grid_auto_flow": null,
            "grid_auto_rows": null,
            "grid_column": null,
            "grid_gap": null,
            "grid_row": null,
            "grid_template_areas": null,
            "grid_template_columns": null,
            "grid_template_rows": null,
            "height": null,
            "justify_content": null,
            "justify_items": null,
            "left": null,
            "margin": null,
            "max_height": null,
            "max_width": null,
            "min_height": null,
            "min_width": null,
            "object_fit": null,
            "object_position": null,
            "order": null,
            "overflow": null,
            "overflow_x": null,
            "overflow_y": null,
            "padding": null,
            "right": null,
            "top": null,
            "visibility": null,
            "width": null
          }
        },
        "13f8418ccc9b4f0388ba7c0462d482f8": {
          "model_module": "@jupyter-widgets/controls",
          "model_module_version": "1.5.0",
          "model_name": "DescriptionStyleModel",
          "state": {
            "_model_module": "@jupyter-widgets/controls",
            "_model_module_version": "1.5.0",
            "_model_name": "DescriptionStyleModel",
            "_view_count": null,
            "_view_module": "@jupyter-widgets/base",
            "_view_module_version": "1.2.0",
            "_view_name": "StyleView",
            "description_width": ""
          }
        },
        "1bfd0e51b0424af587acc237a273a764": {
          "model_module": "@jupyter-widgets/base",
          "model_module_version": "1.2.0",
          "model_name": "LayoutModel",
          "state": {
            "_model_module": "@jupyter-widgets/base",
            "_model_module_version": "1.2.0",
            "_model_name": "LayoutModel",
            "_view_count": null,
            "_view_module": "@jupyter-widgets/base",
            "_view_module_version": "1.2.0",
            "_view_name": "LayoutView",
            "align_content": null,
            "align_items": null,
            "align_self": null,
            "border": null,
            "bottom": null,
            "display": null,
            "flex": null,
            "flex_flow": null,
            "grid_area": null,
            "grid_auto_columns": null,
            "grid_auto_flow": null,
            "grid_auto_rows": null,
            "grid_column": null,
            "grid_gap": null,
            "grid_row": null,
            "grid_template_areas": null,
            "grid_template_columns": null,
            "grid_template_rows": null,
            "height": null,
            "justify_content": null,
            "justify_items": null,
            "left": null,
            "margin": null,
            "max_height": null,
            "max_width": null,
            "min_height": null,
            "min_width": null,
            "object_fit": null,
            "object_position": null,
            "order": null,
            "overflow": null,
            "overflow_x": null,
            "overflow_y": null,
            "padding": null,
            "right": null,
            "top": null,
            "visibility": null,
            "width": null
          }
        },
        "2524c7a962044258ad41f12d274e64b6": {
          "model_module": "@jupyter-widgets/controls",
          "model_module_version": "1.5.0",
          "model_name": "DescriptionStyleModel",
          "state": {
            "_model_module": "@jupyter-widgets/controls",
            "_model_module_version": "1.5.0",
            "_model_name": "DescriptionStyleModel",
            "_view_count": null,
            "_view_module": "@jupyter-widgets/base",
            "_view_module_version": "1.2.0",
            "_view_name": "StyleView",
            "description_width": ""
          }
        },
        "290f5d01c0c3439ba7a291fac6a75a5e": {
          "model_module": "@jupyter-widgets/base",
          "model_module_version": "1.2.0",
          "model_name": "LayoutModel",
          "state": {
            "_model_module": "@jupyter-widgets/base",
            "_model_module_version": "1.2.0",
            "_model_name": "LayoutModel",
            "_view_count": null,
            "_view_module": "@jupyter-widgets/base",
            "_view_module_version": "1.2.0",
            "_view_name": "LayoutView",
            "align_content": null,
            "align_items": null,
            "align_self": null,
            "border": null,
            "bottom": null,
            "display": null,
            "flex": null,
            "flex_flow": null,
            "grid_area": null,
            "grid_auto_columns": null,
            "grid_auto_flow": null,
            "grid_auto_rows": null,
            "grid_column": null,
            "grid_gap": null,
            "grid_row": null,
            "grid_template_areas": null,
            "grid_template_columns": null,
            "grid_template_rows": null,
            "height": null,
            "justify_content": null,
            "justify_items": null,
            "left": null,
            "margin": null,
            "max_height": null,
            "max_width": null,
            "min_height": null,
            "min_width": null,
            "object_fit": null,
            "object_position": null,
            "order": null,
            "overflow": null,
            "overflow_x": null,
            "overflow_y": null,
            "padding": null,
            "right": null,
            "top": null,
            "visibility": null,
            "width": null
          }
        },
        "29dbe89a90e342ce9ae3fceef9323526": {
          "model_module": "@jupyter-widgets/base",
          "model_module_version": "1.2.0",
          "model_name": "LayoutModel",
          "state": {
            "_model_module": "@jupyter-widgets/base",
            "_model_module_version": "1.2.0",
            "_model_name": "LayoutModel",
            "_view_count": null,
            "_view_module": "@jupyter-widgets/base",
            "_view_module_version": "1.2.0",
            "_view_name": "LayoutView",
            "align_content": null,
            "align_items": null,
            "align_self": null,
            "border": null,
            "bottom": null,
            "display": null,
            "flex": null,
            "flex_flow": null,
            "grid_area": null,
            "grid_auto_columns": null,
            "grid_auto_flow": null,
            "grid_auto_rows": null,
            "grid_column": null,
            "grid_gap": null,
            "grid_row": null,
            "grid_template_areas": null,
            "grid_template_columns": null,
            "grid_template_rows": null,
            "height": null,
            "justify_content": null,
            "justify_items": null,
            "left": null,
            "margin": null,
            "max_height": null,
            "max_width": null,
            "min_height": null,
            "min_width": null,
            "object_fit": null,
            "object_position": null,
            "order": null,
            "overflow": null,
            "overflow_x": null,
            "overflow_y": null,
            "padding": null,
            "right": null,
            "top": null,
            "visibility": null,
            "width": null
          }
        },
        "3013b6f329ad486d80bd479b736f57fa": {
          "model_module": "@jupyter-widgets/controls",
          "model_module_version": "1.5.0",
          "model_name": "HBoxModel",
          "state": {
            "_dom_classes": [],
            "_model_module": "@jupyter-widgets/controls",
            "_model_module_version": "1.5.0",
            "_model_name": "HBoxModel",
            "_view_count": null,
            "_view_module": "@jupyter-widgets/controls",
            "_view_module_version": "1.5.0",
            "_view_name": "HBoxView",
            "box_style": "",
            "children": [
              "IPY_MODEL_e50f82c6b4b1463cb7c23e0c5573e483",
              "IPY_MODEL_c6f676b493224ab596116d2730ee33ff",
              "IPY_MODEL_802ac18c496d4c3ea0f41ae2e24c5e96"
            ],
            "layout": "IPY_MODEL_3b3b0f7dfa654339ab4c27e4d90cb693"
          }
        },
        "392b5b4e6a2442df80c6e7b498e83d0e": {
          "model_module": "@jupyter-widgets/controls",
          "model_module_version": "1.5.0",
          "model_name": "ProgressStyleModel",
          "state": {
            "_model_module": "@jupyter-widgets/controls",
            "_model_module_version": "1.5.0",
            "_model_name": "ProgressStyleModel",
            "_view_count": null,
            "_view_module": "@jupyter-widgets/base",
            "_view_module_version": "1.2.0",
            "_view_name": "StyleView",
            "bar_color": null,
            "description_width": ""
          }
        },
        "3b3b0f7dfa654339ab4c27e4d90cb693": {
          "model_module": "@jupyter-widgets/base",
          "model_module_version": "1.2.0",
          "model_name": "LayoutModel",
          "state": {
            "_model_module": "@jupyter-widgets/base",
            "_model_module_version": "1.2.0",
            "_model_name": "LayoutModel",
            "_view_count": null,
            "_view_module": "@jupyter-widgets/base",
            "_view_module_version": "1.2.0",
            "_view_name": "LayoutView",
            "align_content": null,
            "align_items": null,
            "align_self": null,
            "border": null,
            "bottom": null,
            "display": null,
            "flex": null,
            "flex_flow": null,
            "grid_area": null,
            "grid_auto_columns": null,
            "grid_auto_flow": null,
            "grid_auto_rows": null,
            "grid_column": null,
            "grid_gap": null,
            "grid_row": null,
            "grid_template_areas": null,
            "grid_template_columns": null,
            "grid_template_rows": null,
            "height": null,
            "justify_content": null,
            "justify_items": null,
            "left": null,
            "margin": null,
            "max_height": null,
            "max_width": null,
            "min_height": null,
            "min_width": null,
            "object_fit": null,
            "object_position": null,
            "order": null,
            "overflow": null,
            "overflow_x": null,
            "overflow_y": null,
            "padding": null,
            "right": null,
            "top": null,
            "visibility": null,
            "width": null
          }
        },
        "3b5a797b48d844e5a24c712d5efc2517": {
          "model_module": "@jupyter-widgets/controls",
          "model_module_version": "1.5.0",
          "model_name": "HBoxModel",
          "state": {
            "_dom_classes": [],
            "_model_module": "@jupyter-widgets/controls",
            "_model_module_version": "1.5.0",
            "_model_name": "HBoxModel",
            "_view_count": null,
            "_view_module": "@jupyter-widgets/controls",
            "_view_module_version": "1.5.0",
            "_view_name": "HBoxView",
            "box_style": "",
            "children": [
              "IPY_MODEL_4f424d302140442886fc7dfbc4c9afbf",
              "IPY_MODEL_bca9878f0b194c42b32f41cb9238d10c",
              "IPY_MODEL_e0859d5451b3468d8960e3cddb57d992"
            ],
            "layout": "IPY_MODEL_f391d7195eed4a309f7c4726239d31f3"
          }
        },
        "3cd5f0316c434c379440f691d089af8f": {
          "model_module": "@jupyter-widgets/base",
          "model_module_version": "1.2.0",
          "model_name": "LayoutModel",
          "state": {
            "_model_module": "@jupyter-widgets/base",
            "_model_module_version": "1.2.0",
            "_model_name": "LayoutModel",
            "_view_count": null,
            "_view_module": "@jupyter-widgets/base",
            "_view_module_version": "1.2.0",
            "_view_name": "LayoutView",
            "align_content": null,
            "align_items": null,
            "align_self": null,
            "border": null,
            "bottom": null,
            "display": null,
            "flex": null,
            "flex_flow": null,
            "grid_area": null,
            "grid_auto_columns": null,
            "grid_auto_flow": null,
            "grid_auto_rows": null,
            "grid_column": null,
            "grid_gap": null,
            "grid_row": null,
            "grid_template_areas": null,
            "grid_template_columns": null,
            "grid_template_rows": null,
            "height": null,
            "justify_content": null,
            "justify_items": null,
            "left": null,
            "margin": null,
            "max_height": null,
            "max_width": null,
            "min_height": null,
            "min_width": null,
            "object_fit": null,
            "object_position": null,
            "order": null,
            "overflow": null,
            "overflow_x": null,
            "overflow_y": null,
            "padding": null,
            "right": null,
            "top": null,
            "visibility": null,
            "width": null
          }
        },
        "40afcf985fa145558b42156a3d7156f5": {
          "model_module": "@jupyter-widgets/controls",
          "model_module_version": "1.5.0",
          "model_name": "DescriptionStyleModel",
          "state": {
            "_model_module": "@jupyter-widgets/controls",
            "_model_module_version": "1.5.0",
            "_model_name": "DescriptionStyleModel",
            "_view_count": null,
            "_view_module": "@jupyter-widgets/base",
            "_view_module_version": "1.2.0",
            "_view_name": "StyleView",
            "description_width": ""
          }
        },
        "41a2e07b18bb4348b4fd7c6212c456ae": {
          "model_module": "@jupyter-widgets/controls",
          "model_module_version": "1.5.0",
          "model_name": "HBoxModel",
          "state": {
            "_dom_classes": [],
            "_model_module": "@jupyter-widgets/controls",
            "_model_module_version": "1.5.0",
            "_model_name": "HBoxModel",
            "_view_count": null,
            "_view_module": "@jupyter-widgets/controls",
            "_view_module_version": "1.5.0",
            "_view_name": "HBoxView",
            "box_style": "",
            "children": [
              "IPY_MODEL_04fd73463ab14cabbb0838056bfe97c1",
              "IPY_MODEL_479fcd1a32694e7c99ee438ac913a859",
              "IPY_MODEL_07d173d6fb6e4de8bc503edf25290d26"
            ],
            "layout": "IPY_MODEL_85d3fa0157b54b5592de2b706a50808c"
          }
        },
        "461831df133843559994cc173db007ed": {
          "model_module": "@jupyter-widgets/controls",
          "model_module_version": "1.5.0",
          "model_name": "ProgressStyleModel",
          "state": {
            "_model_module": "@jupyter-widgets/controls",
            "_model_module_version": "1.5.0",
            "_model_name": "ProgressStyleModel",
            "_view_count": null,
            "_view_module": "@jupyter-widgets/base",
            "_view_module_version": "1.2.0",
            "_view_name": "StyleView",
            "bar_color": null,
            "description_width": ""
          }
        },
        "479fcd1a32694e7c99ee438ac913a859": {
          "model_module": "@jupyter-widgets/controls",
          "model_module_version": "1.5.0",
          "model_name": "FloatProgressModel",
          "state": {
            "_dom_classes": [],
            "_model_module": "@jupyter-widgets/controls",
            "_model_module_version": "1.5.0",
            "_model_name": "FloatProgressModel",
            "_view_count": null,
            "_view_module": "@jupyter-widgets/controls",
            "_view_module_version": "1.5.0",
            "_view_name": "ProgressView",
            "bar_style": "success",
            "description": "",
            "description_tooltip": null,
            "layout": "IPY_MODEL_e5f3b8f0626a4ebdaf0f2f5c7f9ce99a",
            "max": 714290682,
            "min": 0,
            "orientation": "horizontal",
            "style": "IPY_MODEL_cc227fa9c2f644d0a474b6785aabf658",
            "value": 714290682
          }
        },
        "4a99521e7da34fd285bdb2d2acb38fd4": {
          "model_module": "@jupyter-widgets/controls",
          "model_module_version": "1.5.0",
          "model_name": "DescriptionStyleModel",
          "state": {
            "_model_module": "@jupyter-widgets/controls",
            "_model_module_version": "1.5.0",
            "_model_name": "DescriptionStyleModel",
            "_view_count": null,
            "_view_module": "@jupyter-widgets/base",
            "_view_module_version": "1.2.0",
            "_view_name": "StyleView",
            "description_width": ""
          }
        },
        "4d3bf18709be4ea1a5a2de945b73e706": {
          "model_module": "@jupyter-widgets/controls",
          "model_module_version": "1.5.0",
          "model_name": "HTMLModel",
          "state": {
            "_dom_classes": [],
            "_model_module": "@jupyter-widgets/controls",
            "_model_module_version": "1.5.0",
            "_model_name": "HTMLModel",
            "_view_count": null,
            "_view_module": "@jupyter-widgets/controls",
            "_view_module_version": "1.5.0",
            "_view_name": "HTMLView",
            "description": "",
            "description_tooltip": null,
            "layout": "IPY_MODEL_5c16c4485f95487785becaa7b41b1541",
            "placeholder": "​",
            "style": "IPY_MODEL_65fe3020c40c482e8ab52b5bd45b8487",
            "value": "tokenizer.json: 100%"
          }
        },
        "4f424d302140442886fc7dfbc4c9afbf": {
          "model_module": "@jupyter-widgets/controls",
          "model_module_version": "1.5.0",
          "model_name": "HTMLModel",
          "state": {
            "_dom_classes": [],
            "_model_module": "@jupyter-widgets/controls",
            "_model_module_version": "1.5.0",
            "_model_name": "HTMLModel",
            "_view_count": null,
            "_view_module": "@jupyter-widgets/controls",
            "_view_module_version": "1.5.0",
            "_view_name": "HTMLView",
            "description": "",
            "description_tooltip": null,
            "layout": "IPY_MODEL_0a86c05682fa4abc889b15913f30b4f7",
            "placeholder": "​",
            "style": "IPY_MODEL_f37d0f29afe54c719c4af240feae76e9",
            "value": "vocab.txt: 100%"
          }
        },
        "545aee2f94d1434c808c8c7a194ab59d": {
          "model_module": "@jupyter-widgets/controls",
          "model_module_version": "1.5.0",
          "model_name": "ProgressStyleModel",
          "state": {
            "_model_module": "@jupyter-widgets/controls",
            "_model_module_version": "1.5.0",
            "_model_name": "ProgressStyleModel",
            "_view_count": null,
            "_view_module": "@jupyter-widgets/base",
            "_view_module_version": "1.2.0",
            "_view_name": "StyleView",
            "bar_color": null,
            "description_width": ""
          }
        },
        "5b64b5e32bf54e538dd2f0962933f41e": {
          "model_module": "@jupyter-widgets/base",
          "model_module_version": "1.2.0",
          "model_name": "LayoutModel",
          "state": {
            "_model_module": "@jupyter-widgets/base",
            "_model_module_version": "1.2.0",
            "_model_name": "LayoutModel",
            "_view_count": null,
            "_view_module": "@jupyter-widgets/base",
            "_view_module_version": "1.2.0",
            "_view_name": "LayoutView",
            "align_content": null,
            "align_items": null,
            "align_self": null,
            "border": null,
            "bottom": null,
            "display": null,
            "flex": null,
            "flex_flow": null,
            "grid_area": null,
            "grid_auto_columns": null,
            "grid_auto_flow": null,
            "grid_auto_rows": null,
            "grid_column": null,
            "grid_gap": null,
            "grid_row": null,
            "grid_template_areas": null,
            "grid_template_columns": null,
            "grid_template_rows": null,
            "height": null,
            "justify_content": null,
            "justify_items": null,
            "left": null,
            "margin": null,
            "max_height": null,
            "max_width": null,
            "min_height": null,
            "min_width": null,
            "object_fit": null,
            "object_position": null,
            "order": null,
            "overflow": null,
            "overflow_x": null,
            "overflow_y": null,
            "padding": null,
            "right": null,
            "top": null,
            "visibility": null,
            "width": null
          }
        },
        "5c16c4485f95487785becaa7b41b1541": {
          "model_module": "@jupyter-widgets/base",
          "model_module_version": "1.2.0",
          "model_name": "LayoutModel",
          "state": {
            "_model_module": "@jupyter-widgets/base",
            "_model_module_version": "1.2.0",
            "_model_name": "LayoutModel",
            "_view_count": null,
            "_view_module": "@jupyter-widgets/base",
            "_view_module_version": "1.2.0",
            "_view_name": "LayoutView",
            "align_content": null,
            "align_items": null,
            "align_self": null,
            "border": null,
            "bottom": null,
            "display": null,
            "flex": null,
            "flex_flow": null,
            "grid_area": null,
            "grid_auto_columns": null,
            "grid_auto_flow": null,
            "grid_auto_rows": null,
            "grid_column": null,
            "grid_gap": null,
            "grid_row": null,
            "grid_template_areas": null,
            "grid_template_columns": null,
            "grid_template_rows": null,
            "height": null,
            "justify_content": null,
            "justify_items": null,
            "left": null,
            "margin": null,
            "max_height": null,
            "max_width": null,
            "min_height": null,
            "min_width": null,
            "object_fit": null,
            "object_position": null,
            "order": null,
            "overflow": null,
            "overflow_x": null,
            "overflow_y": null,
            "padding": null,
            "right": null,
            "top": null,
            "visibility": null,
            "width": null
          }
        },
        "65fe3020c40c482e8ab52b5bd45b8487": {
          "model_module": "@jupyter-widgets/controls",
          "model_module_version": "1.5.0",
          "model_name": "DescriptionStyleModel",
          "state": {
            "_model_module": "@jupyter-widgets/controls",
            "_model_module_version": "1.5.0",
            "_model_name": "DescriptionStyleModel",
            "_view_count": null,
            "_view_module": "@jupyter-widgets/base",
            "_view_module_version": "1.2.0",
            "_view_name": "StyleView",
            "description_width": ""
          }
        },
        "6ce4eda0725d4d12ad190427fcc16b5e": {
          "model_module": "@jupyter-widgets/base",
          "model_module_version": "1.2.0",
          "model_name": "LayoutModel",
          "state": {
            "_model_module": "@jupyter-widgets/base",
            "_model_module_version": "1.2.0",
            "_model_name": "LayoutModel",
            "_view_count": null,
            "_view_module": "@jupyter-widgets/base",
            "_view_module_version": "1.2.0",
            "_view_name": "LayoutView",
            "align_content": null,
            "align_items": null,
            "align_self": null,
            "border": null,
            "bottom": null,
            "display": null,
            "flex": null,
            "flex_flow": null,
            "grid_area": null,
            "grid_auto_columns": null,
            "grid_auto_flow": null,
            "grid_auto_rows": null,
            "grid_column": null,
            "grid_gap": null,
            "grid_row": null,
            "grid_template_areas": null,
            "grid_template_columns": null,
            "grid_template_rows": null,
            "height": null,
            "justify_content": null,
            "justify_items": null,
            "left": null,
            "margin": null,
            "max_height": null,
            "max_width": null,
            "min_height": null,
            "min_width": null,
            "object_fit": null,
            "object_position": null,
            "order": null,
            "overflow": null,
            "overflow_x": null,
            "overflow_y": null,
            "padding": null,
            "right": null,
            "top": null,
            "visibility": null,
            "width": null
          }
        },
        "6e130dd6999e4113ad58760ae9c297c4": {
          "model_module": "@jupyter-widgets/controls",
          "model_module_version": "1.5.0",
          "model_name": "FloatProgressModel",
          "state": {
            "_dom_classes": [],
            "_model_module": "@jupyter-widgets/controls",
            "_model_module_version": "1.5.0",
            "_model_name": "FloatProgressModel",
            "_view_count": null,
            "_view_module": "@jupyter-widgets/controls",
            "_view_module_version": "1.5.0",
            "_view_name": "ProgressView",
            "bar_style": "success",
            "description": "",
            "description_tooltip": null,
            "layout": "IPY_MODEL_a8ef6a13a0144b77a81abef89a38eede",
            "max": 1961828,
            "min": 0,
            "orientation": "horizontal",
            "style": "IPY_MODEL_545aee2f94d1434c808c8c7a194ab59d",
            "value": 1961828
          }
        },
        "6e1bf13ae5da483e8d8cb75edec912ab": {
          "model_module": "@jupyter-widgets/controls",
          "model_module_version": "1.5.0",
          "model_name": "HTMLModel",
          "state": {
            "_dom_classes": [],
            "_model_module": "@jupyter-widgets/controls",
            "_model_module_version": "1.5.0",
            "_model_name": "HTMLModel",
            "_view_count": null,
            "_view_module": "@jupyter-widgets/controls",
            "_view_module_version": "1.5.0",
            "_view_name": "HTMLView",
            "description": "",
            "description_tooltip": null,
            "layout": "IPY_MODEL_ee8e58ed7b0740adbcaec06e562b629b",
            "placeholder": "​",
            "style": "IPY_MODEL_4a99521e7da34fd285bdb2d2acb38fd4",
            "value": "tokenizer_config.json: 100%"
          }
        },
        "802ac18c496d4c3ea0f41ae2e24c5e96": {
          "model_module": "@jupyter-widgets/controls",
          "model_module_version": "1.5.0",
          "model_name": "HTMLModel",
          "state": {
            "_dom_classes": [],
            "_model_module": "@jupyter-widgets/controls",
            "_model_module_version": "1.5.0",
            "_model_name": "HTMLModel",
            "_view_count": null,
            "_view_module": "@jupyter-widgets/controls",
            "_view_module_version": "1.5.0",
            "_view_name": "HTMLView",
            "description": "",
            "description_tooltip": null,
            "layout": "IPY_MODEL_6ce4eda0725d4d12ad190427fcc16b5e",
            "placeholder": "​",
            "style": "IPY_MODEL_2524c7a962044258ad41f12d274e64b6",
            "value": " 625/625 [00:00&lt;00:00, 31.3kB/s]"
          }
        },
        "83acf756cf604a1f8437ded5e43b5237": {
          "model_module": "@jupyter-widgets/base",
          "model_module_version": "1.2.0",
          "model_name": "LayoutModel",
          "state": {
            "_model_module": "@jupyter-widgets/base",
            "_model_module_version": "1.2.0",
            "_model_name": "LayoutModel",
            "_view_count": null,
            "_view_module": "@jupyter-widgets/base",
            "_view_module_version": "1.2.0",
            "_view_name": "LayoutView",
            "align_content": null,
            "align_items": null,
            "align_self": null,
            "border": null,
            "bottom": null,
            "display": null,
            "flex": null,
            "flex_flow": null,
            "grid_area": null,
            "grid_auto_columns": null,
            "grid_auto_flow": null,
            "grid_auto_rows": null,
            "grid_column": null,
            "grid_gap": null,
            "grid_row": null,
            "grid_template_areas": null,
            "grid_template_columns": null,
            "grid_template_rows": null,
            "height": null,
            "justify_content": null,
            "justify_items": null,
            "left": null,
            "margin": null,
            "max_height": null,
            "max_width": null,
            "min_height": null,
            "min_width": null,
            "object_fit": null,
            "object_position": null,
            "order": null,
            "overflow": null,
            "overflow_x": null,
            "overflow_y": null,
            "padding": null,
            "right": null,
            "top": null,
            "visibility": null,
            "width": null
          }
        },
        "85d3fa0157b54b5592de2b706a50808c": {
          "model_module": "@jupyter-widgets/base",
          "model_module_version": "1.2.0",
          "model_name": "LayoutModel",
          "state": {
            "_model_module": "@jupyter-widgets/base",
            "_model_module_version": "1.2.0",
            "_model_name": "LayoutModel",
            "_view_count": null,
            "_view_module": "@jupyter-widgets/base",
            "_view_module_version": "1.2.0",
            "_view_name": "LayoutView",
            "align_content": null,
            "align_items": null,
            "align_self": null,
            "border": null,
            "bottom": null,
            "display": null,
            "flex": null,
            "flex_flow": null,
            "grid_area": null,
            "grid_auto_columns": null,
            "grid_auto_flow": null,
            "grid_auto_rows": null,
            "grid_column": null,
            "grid_gap": null,
            "grid_row": null,
            "grid_template_areas": null,
            "grid_template_columns": null,
            "grid_template_rows": null,
            "height": null,
            "justify_content": null,
            "justify_items": null,
            "left": null,
            "margin": null,
            "max_height": null,
            "max_width": null,
            "min_height": null,
            "min_width": null,
            "object_fit": null,
            "object_position": null,
            "order": null,
            "overflow": null,
            "overflow_x": null,
            "overflow_y": null,
            "padding": null,
            "right": null,
            "top": null,
            "visibility": null,
            "width": null
          }
        },
        "8621a80aa1e34176a5c5504e6ca86373": {
          "model_module": "@jupyter-widgets/controls",
          "model_module_version": "1.5.0",
          "model_name": "DescriptionStyleModel",
          "state": {
            "_model_module": "@jupyter-widgets/controls",
            "_model_module_version": "1.5.0",
            "_model_name": "DescriptionStyleModel",
            "_view_count": null,
            "_view_module": "@jupyter-widgets/base",
            "_view_module_version": "1.2.0",
            "_view_name": "StyleView",
            "description_width": ""
          }
        },
        "89faebb242534feaa98b2ba9cc1071cc": {
          "model_module": "@jupyter-widgets/controls",
          "model_module_version": "1.5.0",
          "model_name": "HBoxModel",
          "state": {
            "_dom_classes": [],
            "_model_module": "@jupyter-widgets/controls",
            "_model_module_version": "1.5.0",
            "_model_name": "HBoxModel",
            "_view_count": null,
            "_view_module": "@jupyter-widgets/controls",
            "_view_module_version": "1.5.0",
            "_view_name": "HBoxView",
            "box_style": "",
            "children": [
              "IPY_MODEL_6e1bf13ae5da483e8d8cb75edec912ab",
              "IPY_MODEL_aae238e885fd404db49eaeeceffeabc3",
              "IPY_MODEL_f9ab8463f6d34d0282cca51c5df4afd9"
            ],
            "layout": "IPY_MODEL_83acf756cf604a1f8437ded5e43b5237"
          }
        },
        "93c16e0c89fb43439f5b2e6475b1a9d9": {
          "model_module": "@jupyter-widgets/controls",
          "model_module_version": "1.5.0",
          "model_name": "ProgressStyleModel",
          "state": {
            "_model_module": "@jupyter-widgets/controls",
            "_model_module_version": "1.5.0",
            "_model_name": "ProgressStyleModel",
            "_view_count": null,
            "_view_module": "@jupyter-widgets/base",
            "_view_module_version": "1.2.0",
            "_view_name": "StyleView",
            "bar_color": null,
            "description_width": ""
          }
        },
        "93e8c548200245f98910f0950c459fba": {
          "model_module": "@jupyter-widgets/controls",
          "model_module_version": "1.5.0",
          "model_name": "HBoxModel",
          "state": {
            "_dom_classes": [],
            "_model_module": "@jupyter-widgets/controls",
            "_model_module_version": "1.5.0",
            "_model_name": "HBoxModel",
            "_view_count": null,
            "_view_module": "@jupyter-widgets/controls",
            "_view_module_version": "1.5.0",
            "_view_name": "HBoxView",
            "box_style": "",
            "children": [
              "IPY_MODEL_4d3bf18709be4ea1a5a2de945b73e706",
              "IPY_MODEL_6e130dd6999e4113ad58760ae9c297c4",
              "IPY_MODEL_a0ed9186bdd14a4d900ebed0f366d7c3"
            ],
            "layout": "IPY_MODEL_29dbe89a90e342ce9ae3fceef9323526"
          }
        },
        "9c106d14f8ec43db995c4d84df9d1f45": {
          "model_module": "@jupyter-widgets/controls",
          "model_module_version": "1.5.0",
          "model_name": "DescriptionStyleModel",
          "state": {
            "_model_module": "@jupyter-widgets/controls",
            "_model_module_version": "1.5.0",
            "_model_name": "DescriptionStyleModel",
            "_view_count": null,
            "_view_module": "@jupyter-widgets/base",
            "_view_module_version": "1.2.0",
            "_view_name": "StyleView",
            "description_width": ""
          }
        },
        "a0ed9186bdd14a4d900ebed0f366d7c3": {
          "model_module": "@jupyter-widgets/controls",
          "model_module_version": "1.5.0",
          "model_name": "HTMLModel",
          "state": {
            "_dom_classes": [],
            "_model_module": "@jupyter-widgets/controls",
            "_model_module_version": "1.5.0",
            "_model_name": "HTMLModel",
            "_view_count": null,
            "_view_module": "@jupyter-widgets/controls",
            "_view_module_version": "1.5.0",
            "_view_name": "HTMLView",
            "description": "",
            "description_tooltip": null,
            "layout": "IPY_MODEL_f219d05197ca4f649e70a10cd5674693",
            "placeholder": "​",
            "style": "IPY_MODEL_e5b11eb8ea08472fb317f9b71885548e",
            "value": " 1.96M/1.96M [00:00&lt;00:00, 20.1MB/s]"
          }
        },
        "a78d7d3a937f48c395da534183338697": {
          "model_module": "@jupyter-widgets/controls",
          "model_module_version": "1.5.0",
          "model_name": "DescriptionStyleModel",
          "state": {
            "_model_module": "@jupyter-widgets/controls",
            "_model_module_version": "1.5.0",
            "_model_name": "DescriptionStyleModel",
            "_view_count": null,
            "_view_module": "@jupyter-widgets/base",
            "_view_module_version": "1.2.0",
            "_view_name": "StyleView",
            "description_width": ""
          }
        },
        "a8ef6a13a0144b77a81abef89a38eede": {
          "model_module": "@jupyter-widgets/base",
          "model_module_version": "1.2.0",
          "model_name": "LayoutModel",
          "state": {
            "_model_module": "@jupyter-widgets/base",
            "_model_module_version": "1.2.0",
            "_model_name": "LayoutModel",
            "_view_count": null,
            "_view_module": "@jupyter-widgets/base",
            "_view_module_version": "1.2.0",
            "_view_name": "LayoutView",
            "align_content": null,
            "align_items": null,
            "align_self": null,
            "border": null,
            "bottom": null,
            "display": null,
            "flex": null,
            "flex_flow": null,
            "grid_area": null,
            "grid_auto_columns": null,
            "grid_auto_flow": null,
            "grid_auto_rows": null,
            "grid_column": null,
            "grid_gap": null,
            "grid_row": null,
            "grid_template_areas": null,
            "grid_template_columns": null,
            "grid_template_rows": null,
            "height": null,
            "justify_content": null,
            "justify_items": null,
            "left": null,
            "margin": null,
            "max_height": null,
            "max_width": null,
            "min_height": null,
            "min_width": null,
            "object_fit": null,
            "object_position": null,
            "order": null,
            "overflow": null,
            "overflow_x": null,
            "overflow_y": null,
            "padding": null,
            "right": null,
            "top": null,
            "visibility": null,
            "width": null
          }
        },
        "aae238e885fd404db49eaeeceffeabc3": {
          "model_module": "@jupyter-widgets/controls",
          "model_module_version": "1.5.0",
          "model_name": "FloatProgressModel",
          "state": {
            "_dom_classes": [],
            "_model_module": "@jupyter-widgets/controls",
            "_model_module_version": "1.5.0",
            "_model_name": "FloatProgressModel",
            "_view_count": null,
            "_view_module": "@jupyter-widgets/controls",
            "_view_module_version": "1.5.0",
            "_view_name": "ProgressView",
            "bar_style": "success",
            "description": "",
            "description_tooltip": null,
            "layout": "IPY_MODEL_b6f93356b3f242a286ff86e6bd3b58cd",
            "max": 49,
            "min": 0,
            "orientation": "horizontal",
            "style": "IPY_MODEL_392b5b4e6a2442df80c6e7b498e83d0e",
            "value": 49
          }
        },
        "b6f93356b3f242a286ff86e6bd3b58cd": {
          "model_module": "@jupyter-widgets/base",
          "model_module_version": "1.2.0",
          "model_name": "LayoutModel",
          "state": {
            "_model_module": "@jupyter-widgets/base",
            "_model_module_version": "1.2.0",
            "_model_name": "LayoutModel",
            "_view_count": null,
            "_view_module": "@jupyter-widgets/base",
            "_view_module_version": "1.2.0",
            "_view_name": "LayoutView",
            "align_content": null,
            "align_items": null,
            "align_self": null,
            "border": null,
            "bottom": null,
            "display": null,
            "flex": null,
            "flex_flow": null,
            "grid_area": null,
            "grid_auto_columns": null,
            "grid_auto_flow": null,
            "grid_auto_rows": null,
            "grid_column": null,
            "grid_gap": null,
            "grid_row": null,
            "grid_template_areas": null,
            "grid_template_columns": null,
            "grid_template_rows": null,
            "height": null,
            "justify_content": null,
            "justify_items": null,
            "left": null,
            "margin": null,
            "max_height": null,
            "max_width": null,
            "min_height": null,
            "min_width": null,
            "object_fit": null,
            "object_position": null,
            "order": null,
            "overflow": null,
            "overflow_x": null,
            "overflow_y": null,
            "padding": null,
            "right": null,
            "top": null,
            "visibility": null,
            "width": null
          }
        },
        "bca9878f0b194c42b32f41cb9238d10c": {
          "model_module": "@jupyter-widgets/controls",
          "model_module_version": "1.5.0",
          "model_name": "FloatProgressModel",
          "state": {
            "_dom_classes": [],
            "_model_module": "@jupyter-widgets/controls",
            "_model_module_version": "1.5.0",
            "_model_name": "FloatProgressModel",
            "_view_count": null,
            "_view_module": "@jupyter-widgets/controls",
            "_view_module_version": "1.5.0",
            "_view_name": "ProgressView",
            "bar_style": "success",
            "description": "",
            "description_tooltip": null,
            "layout": "IPY_MODEL_5b64b5e32bf54e538dd2f0962933f41e",
            "max": 995526,
            "min": 0,
            "orientation": "horizontal",
            "style": "IPY_MODEL_461831df133843559994cc173db007ed",
            "value": 995526
          }
        },
        "c6f676b493224ab596116d2730ee33ff": {
          "model_module": "@jupyter-widgets/controls",
          "model_module_version": "1.5.0",
          "model_name": "FloatProgressModel",
          "state": {
            "_dom_classes": [],
            "_model_module": "@jupyter-widgets/controls",
            "_model_module_version": "1.5.0",
            "_model_name": "FloatProgressModel",
            "_view_count": null,
            "_view_module": "@jupyter-widgets/controls",
            "_view_module_version": "1.5.0",
            "_view_name": "ProgressView",
            "bar_style": "success",
            "description": "",
            "description_tooltip": null,
            "layout": "IPY_MODEL_290f5d01c0c3439ba7a291fac6a75a5e",
            "max": 625,
            "min": 0,
            "orientation": "horizontal",
            "style": "IPY_MODEL_93c16e0c89fb43439f5b2e6475b1a9d9",
            "value": 625
          }
        },
        "cc227fa9c2f644d0a474b6785aabf658": {
          "model_module": "@jupyter-widgets/controls",
          "model_module_version": "1.5.0",
          "model_name": "ProgressStyleModel",
          "state": {
            "_model_module": "@jupyter-widgets/controls",
            "_model_module_version": "1.5.0",
            "_model_name": "ProgressStyleModel",
            "_view_count": null,
            "_view_module": "@jupyter-widgets/base",
            "_view_module_version": "1.2.0",
            "_view_name": "StyleView",
            "bar_color": null,
            "description_width": ""
          }
        },
        "e0859d5451b3468d8960e3cddb57d992": {
          "model_module": "@jupyter-widgets/controls",
          "model_module_version": "1.5.0",
          "model_name": "HTMLModel",
          "state": {
            "_dom_classes": [],
            "_model_module": "@jupyter-widgets/controls",
            "_model_module_version": "1.5.0",
            "_model_name": "HTMLModel",
            "_view_count": null,
            "_view_module": "@jupyter-widgets/controls",
            "_view_module_version": "1.5.0",
            "_view_name": "HTMLView",
            "description": "",
            "description_tooltip": null,
            "layout": "IPY_MODEL_3cd5f0316c434c379440f691d089af8f",
            "placeholder": "​",
            "style": "IPY_MODEL_9c106d14f8ec43db995c4d84df9d1f45",
            "value": " 996k/996k [00:00&lt;00:00, 4.10MB/s]"
          }
        },
        "e50f82c6b4b1463cb7c23e0c5573e483": {
          "model_module": "@jupyter-widgets/controls",
          "model_module_version": "1.5.0",
          "model_name": "HTMLModel",
          "state": {
            "_dom_classes": [],
            "_model_module": "@jupyter-widgets/controls",
            "_model_module_version": "1.5.0",
            "_model_name": "HTMLModel",
            "_view_count": null,
            "_view_module": "@jupyter-widgets/controls",
            "_view_module_version": "1.5.0",
            "_view_name": "HTMLView",
            "description": "",
            "description_tooltip": null,
            "layout": "IPY_MODEL_f85ff5fc8e92429f84c99829790d9e8f",
            "placeholder": "​",
            "style": "IPY_MODEL_a78d7d3a937f48c395da534183338697",
            "value": "config.json: 100%"
          }
        },
        "e5b11eb8ea08472fb317f9b71885548e": {
          "model_module": "@jupyter-widgets/controls",
          "model_module_version": "1.5.0",
          "model_name": "DescriptionStyleModel",
          "state": {
            "_model_module": "@jupyter-widgets/controls",
            "_model_module_version": "1.5.0",
            "_model_name": "DescriptionStyleModel",
            "_view_count": null,
            "_view_module": "@jupyter-widgets/base",
            "_view_module_version": "1.2.0",
            "_view_name": "StyleView",
            "description_width": ""
          }
        },
        "e5f3b8f0626a4ebdaf0f2f5c7f9ce99a": {
          "model_module": "@jupyter-widgets/base",
          "model_module_version": "1.2.0",
          "model_name": "LayoutModel",
          "state": {
            "_model_module": "@jupyter-widgets/base",
            "_model_module_version": "1.2.0",
            "_model_name": "LayoutModel",
            "_view_count": null,
            "_view_module": "@jupyter-widgets/base",
            "_view_module_version": "1.2.0",
            "_view_name": "LayoutView",
            "align_content": null,
            "align_items": null,
            "align_self": null,
            "border": null,
            "bottom": null,
            "display": null,
            "flex": null,
            "flex_flow": null,
            "grid_area": null,
            "grid_auto_columns": null,
            "grid_auto_flow": null,
            "grid_auto_rows": null,
            "grid_column": null,
            "grid_gap": null,
            "grid_row": null,
            "grid_template_areas": null,
            "grid_template_columns": null,
            "grid_template_rows": null,
            "height": null,
            "justify_content": null,
            "justify_items": null,
            "left": null,
            "margin": null,
            "max_height": null,
            "max_width": null,
            "min_height": null,
            "min_width": null,
            "object_fit": null,
            "object_position": null,
            "order": null,
            "overflow": null,
            "overflow_x": null,
            "overflow_y": null,
            "padding": null,
            "right": null,
            "top": null,
            "visibility": null,
            "width": null
          }
        },
        "eaa73ba3fd9d43c4bc3a46ed9290fd91": {
          "model_module": "@jupyter-widgets/base",
          "model_module_version": "1.2.0",
          "model_name": "LayoutModel",
          "state": {
            "_model_module": "@jupyter-widgets/base",
            "_model_module_version": "1.2.0",
            "_model_name": "LayoutModel",
            "_view_count": null,
            "_view_module": "@jupyter-widgets/base",
            "_view_module_version": "1.2.0",
            "_view_name": "LayoutView",
            "align_content": null,
            "align_items": null,
            "align_self": null,
            "border": null,
            "bottom": null,
            "display": null,
            "flex": null,
            "flex_flow": null,
            "grid_area": null,
            "grid_auto_columns": null,
            "grid_auto_flow": null,
            "grid_auto_rows": null,
            "grid_column": null,
            "grid_gap": null,
            "grid_row": null,
            "grid_template_areas": null,
            "grid_template_columns": null,
            "grid_template_rows": null,
            "height": null,
            "justify_content": null,
            "justify_items": null,
            "left": null,
            "margin": null,
            "max_height": null,
            "max_width": null,
            "min_height": null,
            "min_width": null,
            "object_fit": null,
            "object_position": null,
            "order": null,
            "overflow": null,
            "overflow_x": null,
            "overflow_y": null,
            "padding": null,
            "right": null,
            "top": null,
            "visibility": null,
            "width": null
          }
        },
        "ee8e58ed7b0740adbcaec06e562b629b": {
          "model_module": "@jupyter-widgets/base",
          "model_module_version": "1.2.0",
          "model_name": "LayoutModel",
          "state": {
            "_model_module": "@jupyter-widgets/base",
            "_model_module_version": "1.2.0",
            "_model_name": "LayoutModel",
            "_view_count": null,
            "_view_module": "@jupyter-widgets/base",
            "_view_module_version": "1.2.0",
            "_view_name": "LayoutView",
            "align_content": null,
            "align_items": null,
            "align_self": null,
            "border": null,
            "bottom": null,
            "display": null,
            "flex": null,
            "flex_flow": null,
            "grid_area": null,
            "grid_auto_columns": null,
            "grid_auto_flow": null,
            "grid_auto_rows": null,
            "grid_column": null,
            "grid_gap": null,
            "grid_row": null,
            "grid_template_areas": null,
            "grid_template_columns": null,
            "grid_template_rows": null,
            "height": null,
            "justify_content": null,
            "justify_items": null,
            "left": null,
            "margin": null,
            "max_height": null,
            "max_width": null,
            "min_height": null,
            "min_width": null,
            "object_fit": null,
            "object_position": null,
            "order": null,
            "overflow": null,
            "overflow_x": null,
            "overflow_y": null,
            "padding": null,
            "right": null,
            "top": null,
            "visibility": null,
            "width": null
          }
        },
        "efa6fc4db54a47bc9dd3a873e0acfa63": {
          "model_module": "@jupyter-widgets/base",
          "model_module_version": "1.2.0",
          "model_name": "LayoutModel",
          "state": {
            "_model_module": "@jupyter-widgets/base",
            "_model_module_version": "1.2.0",
            "_model_name": "LayoutModel",
            "_view_count": null,
            "_view_module": "@jupyter-widgets/base",
            "_view_module_version": "1.2.0",
            "_view_name": "LayoutView",
            "align_content": null,
            "align_items": null,
            "align_self": null,
            "border": null,
            "bottom": null,
            "display": null,
            "flex": null,
            "flex_flow": null,
            "grid_area": null,
            "grid_auto_columns": null,
            "grid_auto_flow": null,
            "grid_auto_rows": null,
            "grid_column": null,
            "grid_gap": null,
            "grid_row": null,
            "grid_template_areas": null,
            "grid_template_columns": null,
            "grid_template_rows": null,
            "height": null,
            "justify_content": null,
            "justify_items": null,
            "left": null,
            "margin": null,
            "max_height": null,
            "max_width": null,
            "min_height": null,
            "min_width": null,
            "object_fit": null,
            "object_position": null,
            "order": null,
            "overflow": null,
            "overflow_x": null,
            "overflow_y": null,
            "padding": null,
            "right": null,
            "top": null,
            "visibility": null,
            "width": null
          }
        },
        "f219d05197ca4f649e70a10cd5674693": {
          "model_module": "@jupyter-widgets/base",
          "model_module_version": "1.2.0",
          "model_name": "LayoutModel",
          "state": {
            "_model_module": "@jupyter-widgets/base",
            "_model_module_version": "1.2.0",
            "_model_name": "LayoutModel",
            "_view_count": null,
            "_view_module": "@jupyter-widgets/base",
            "_view_module_version": "1.2.0",
            "_view_name": "LayoutView",
            "align_content": null,
            "align_items": null,
            "align_self": null,
            "border": null,
            "bottom": null,
            "display": null,
            "flex": null,
            "flex_flow": null,
            "grid_area": null,
            "grid_auto_columns": null,
            "grid_auto_flow": null,
            "grid_auto_rows": null,
            "grid_column": null,
            "grid_gap": null,
            "grid_row": null,
            "grid_template_areas": null,
            "grid_template_columns": null,
            "grid_template_rows": null,
            "height": null,
            "justify_content": null,
            "justify_items": null,
            "left": null,
            "margin": null,
            "max_height": null,
            "max_width": null,
            "min_height": null,
            "min_width": null,
            "object_fit": null,
            "object_position": null,
            "order": null,
            "overflow": null,
            "overflow_x": null,
            "overflow_y": null,
            "padding": null,
            "right": null,
            "top": null,
            "visibility": null,
            "width": null
          }
        },
        "f37d0f29afe54c719c4af240feae76e9": {
          "model_module": "@jupyter-widgets/controls",
          "model_module_version": "1.5.0",
          "model_name": "DescriptionStyleModel",
          "state": {
            "_model_module": "@jupyter-widgets/controls",
            "_model_module_version": "1.5.0",
            "_model_name": "DescriptionStyleModel",
            "_view_count": null,
            "_view_module": "@jupyter-widgets/base",
            "_view_module_version": "1.2.0",
            "_view_name": "StyleView",
            "description_width": ""
          }
        },
        "f391d7195eed4a309f7c4726239d31f3": {
          "model_module": "@jupyter-widgets/base",
          "model_module_version": "1.2.0",
          "model_name": "LayoutModel",
          "state": {
            "_model_module": "@jupyter-widgets/base",
            "_model_module_version": "1.2.0",
            "_model_name": "LayoutModel",
            "_view_count": null,
            "_view_module": "@jupyter-widgets/base",
            "_view_module_version": "1.2.0",
            "_view_name": "LayoutView",
            "align_content": null,
            "align_items": null,
            "align_self": null,
            "border": null,
            "bottom": null,
            "display": null,
            "flex": null,
            "flex_flow": null,
            "grid_area": null,
            "grid_auto_columns": null,
            "grid_auto_flow": null,
            "grid_auto_rows": null,
            "grid_column": null,
            "grid_gap": null,
            "grid_row": null,
            "grid_template_areas": null,
            "grid_template_columns": null,
            "grid_template_rows": null,
            "height": null,
            "justify_content": null,
            "justify_items": null,
            "left": null,
            "margin": null,
            "max_height": null,
            "max_width": null,
            "min_height": null,
            "min_width": null,
            "object_fit": null,
            "object_position": null,
            "order": null,
            "overflow": null,
            "overflow_x": null,
            "overflow_y": null,
            "padding": null,
            "right": null,
            "top": null,
            "visibility": null,
            "width": null
          }
        },
        "f85ff5fc8e92429f84c99829790d9e8f": {
          "model_module": "@jupyter-widgets/base",
          "model_module_version": "1.2.0",
          "model_name": "LayoutModel",
          "state": {
            "_model_module": "@jupyter-widgets/base",
            "_model_module_version": "1.2.0",
            "_model_name": "LayoutModel",
            "_view_count": null,
            "_view_module": "@jupyter-widgets/base",
            "_view_module_version": "1.2.0",
            "_view_name": "LayoutView",
            "align_content": null,
            "align_items": null,
            "align_self": null,
            "border": null,
            "bottom": null,
            "display": null,
            "flex": null,
            "flex_flow": null,
            "grid_area": null,
            "grid_auto_columns": null,
            "grid_auto_flow": null,
            "grid_auto_rows": null,
            "grid_column": null,
            "grid_gap": null,
            "grid_row": null,
            "grid_template_areas": null,
            "grid_template_columns": null,
            "grid_template_rows": null,
            "height": null,
            "justify_content": null,
            "justify_items": null,
            "left": null,
            "margin": null,
            "max_height": null,
            "max_width": null,
            "min_height": null,
            "min_width": null,
            "object_fit": null,
            "object_position": null,
            "order": null,
            "overflow": null,
            "overflow_x": null,
            "overflow_y": null,
            "padding": null,
            "right": null,
            "top": null,
            "visibility": null,
            "width": null
          }
        },
        "f9ab8463f6d34d0282cca51c5df4afd9": {
          "model_module": "@jupyter-widgets/controls",
          "model_module_version": "1.5.0",
          "model_name": "HTMLModel",
          "state": {
            "_dom_classes": [],
            "_model_module": "@jupyter-widgets/controls",
            "_model_module_version": "1.5.0",
            "_model_name": "HTMLModel",
            "_view_count": null,
            "_view_module": "@jupyter-widgets/controls",
            "_view_module_version": "1.5.0",
            "_view_name": "HTMLView",
            "description": "",
            "description_tooltip": null,
            "layout": "IPY_MODEL_1bfd0e51b0424af587acc237a273a764",
            "placeholder": "​",
            "style": "IPY_MODEL_8621a80aa1e34176a5c5504e6ca86373",
            "value": " 49.0/49.0 [00:00&lt;00:00, 3.23kB/s]"
          }
        }
      }
    }
  },
  "nbformat": 4,
  "nbformat_minor": 5
}
